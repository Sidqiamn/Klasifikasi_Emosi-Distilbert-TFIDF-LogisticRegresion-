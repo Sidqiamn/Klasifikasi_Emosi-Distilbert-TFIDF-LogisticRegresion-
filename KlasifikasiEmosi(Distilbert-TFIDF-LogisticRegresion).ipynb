{
  "nbformat": 4,
  "nbformat_minor": 0,
  "metadata": {
    "colab": {
      "provenance": [],
      "gpuType": "T4"
    },
    "kernelspec": {
      "name": "python3",
      "display_name": "Python 3"
    },
    "language_info": {
      "name": "python"
    },
    "accelerator": "GPU",
    "widgets": {
      "application/vnd.jupyter.widget-state+json": {
        "9beb06fd622f44a5ab18a2639789a403": {
          "model_module": "@jupyter-widgets/controls",
          "model_name": "HBoxModel",
          "model_module_version": "1.5.0",
          "state": {
            "_dom_classes": [],
            "_model_module": "@jupyter-widgets/controls",
            "_model_module_version": "1.5.0",
            "_model_name": "HBoxModel",
            "_view_count": null,
            "_view_module": "@jupyter-widgets/controls",
            "_view_module_version": "1.5.0",
            "_view_name": "HBoxView",
            "box_style": "",
            "children": [
              "IPY_MODEL_b1b765d6552449b28de8b1ba8465cc3a",
              "IPY_MODEL_d641107e41b44ae4a2f2f597a8b68629",
              "IPY_MODEL_f5b3f725959548289486954655884631"
            ],
            "layout": "IPY_MODEL_731b07c8c00c4b01b446480e846ade93"
          }
        },
        "b1b765d6552449b28de8b1ba8465cc3a": {
          "model_module": "@jupyter-widgets/controls",
          "model_name": "HTMLModel",
          "model_module_version": "1.5.0",
          "state": {
            "_dom_classes": [],
            "_model_module": "@jupyter-widgets/controls",
            "_model_module_version": "1.5.0",
            "_model_name": "HTMLModel",
            "_view_count": null,
            "_view_module": "@jupyter-widgets/controls",
            "_view_module_version": "1.5.0",
            "_view_name": "HTMLView",
            "description": "",
            "description_tooltip": null,
            "layout": "IPY_MODEL_5000f95b014444c4ac7fa1d90a3026fc",
            "placeholder": "​",
            "style": "IPY_MODEL_230aa52c1e3745b6b6f3ee4feb928f92",
            "value": "tokenizer_config.json: 100%"
          }
        },
        "d641107e41b44ae4a2f2f597a8b68629": {
          "model_module": "@jupyter-widgets/controls",
          "model_name": "FloatProgressModel",
          "model_module_version": "1.5.0",
          "state": {
            "_dom_classes": [],
            "_model_module": "@jupyter-widgets/controls",
            "_model_module_version": "1.5.0",
            "_model_name": "FloatProgressModel",
            "_view_count": null,
            "_view_module": "@jupyter-widgets/controls",
            "_view_module_version": "1.5.0",
            "_view_name": "ProgressView",
            "bar_style": "success",
            "description": "",
            "description_tooltip": null,
            "layout": "IPY_MODEL_94126e06cf4441c2be49a9fd993b15ac",
            "max": 49,
            "min": 0,
            "orientation": "horizontal",
            "style": "IPY_MODEL_4b3142241d824c29924c732fb54a4e83",
            "value": 49
          }
        },
        "f5b3f725959548289486954655884631": {
          "model_module": "@jupyter-widgets/controls",
          "model_name": "HTMLModel",
          "model_module_version": "1.5.0",
          "state": {
            "_dom_classes": [],
            "_model_module": "@jupyter-widgets/controls",
            "_model_module_version": "1.5.0",
            "_model_name": "HTMLModel",
            "_view_count": null,
            "_view_module": "@jupyter-widgets/controls",
            "_view_module_version": "1.5.0",
            "_view_name": "HTMLView",
            "description": "",
            "description_tooltip": null,
            "layout": "IPY_MODEL_b924d47ff68e4d76b7b5d11c22128e05",
            "placeholder": "​",
            "style": "IPY_MODEL_d56c15705a124d6ea3f927bc047597a5",
            "value": " 49.0/49.0 [00:00&lt;00:00, 2.18kB/s]"
          }
        },
        "731b07c8c00c4b01b446480e846ade93": {
          "model_module": "@jupyter-widgets/base",
          "model_name": "LayoutModel",
          "model_module_version": "1.2.0",
          "state": {
            "_model_module": "@jupyter-widgets/base",
            "_model_module_version": "1.2.0",
            "_model_name": "LayoutModel",
            "_view_count": null,
            "_view_module": "@jupyter-widgets/base",
            "_view_module_version": "1.2.0",
            "_view_name": "LayoutView",
            "align_content": null,
            "align_items": null,
            "align_self": null,
            "border": null,
            "bottom": null,
            "display": null,
            "flex": null,
            "flex_flow": null,
            "grid_area": null,
            "grid_auto_columns": null,
            "grid_auto_flow": null,
            "grid_auto_rows": null,
            "grid_column": null,
            "grid_gap": null,
            "grid_row": null,
            "grid_template_areas": null,
            "grid_template_columns": null,
            "grid_template_rows": null,
            "height": null,
            "justify_content": null,
            "justify_items": null,
            "left": null,
            "margin": null,
            "max_height": null,
            "max_width": null,
            "min_height": null,
            "min_width": null,
            "object_fit": null,
            "object_position": null,
            "order": null,
            "overflow": null,
            "overflow_x": null,
            "overflow_y": null,
            "padding": null,
            "right": null,
            "top": null,
            "visibility": null,
            "width": null
          }
        },
        "5000f95b014444c4ac7fa1d90a3026fc": {
          "model_module": "@jupyter-widgets/base",
          "model_name": "LayoutModel",
          "model_module_version": "1.2.0",
          "state": {
            "_model_module": "@jupyter-widgets/base",
            "_model_module_version": "1.2.0",
            "_model_name": "LayoutModel",
            "_view_count": null,
            "_view_module": "@jupyter-widgets/base",
            "_view_module_version": "1.2.0",
            "_view_name": "LayoutView",
            "align_content": null,
            "align_items": null,
            "align_self": null,
            "border": null,
            "bottom": null,
            "display": null,
            "flex": null,
            "flex_flow": null,
            "grid_area": null,
            "grid_auto_columns": null,
            "grid_auto_flow": null,
            "grid_auto_rows": null,
            "grid_column": null,
            "grid_gap": null,
            "grid_row": null,
            "grid_template_areas": null,
            "grid_template_columns": null,
            "grid_template_rows": null,
            "height": null,
            "justify_content": null,
            "justify_items": null,
            "left": null,
            "margin": null,
            "max_height": null,
            "max_width": null,
            "min_height": null,
            "min_width": null,
            "object_fit": null,
            "object_position": null,
            "order": null,
            "overflow": null,
            "overflow_x": null,
            "overflow_y": null,
            "padding": null,
            "right": null,
            "top": null,
            "visibility": null,
            "width": null
          }
        },
        "230aa52c1e3745b6b6f3ee4feb928f92": {
          "model_module": "@jupyter-widgets/controls",
          "model_name": "DescriptionStyleModel",
          "model_module_version": "1.5.0",
          "state": {
            "_model_module": "@jupyter-widgets/controls",
            "_model_module_version": "1.5.0",
            "_model_name": "DescriptionStyleModel",
            "_view_count": null,
            "_view_module": "@jupyter-widgets/base",
            "_view_module_version": "1.2.0",
            "_view_name": "StyleView",
            "description_width": ""
          }
        },
        "94126e06cf4441c2be49a9fd993b15ac": {
          "model_module": "@jupyter-widgets/base",
          "model_name": "LayoutModel",
          "model_module_version": "1.2.0",
          "state": {
            "_model_module": "@jupyter-widgets/base",
            "_model_module_version": "1.2.0",
            "_model_name": "LayoutModel",
            "_view_count": null,
            "_view_module": "@jupyter-widgets/base",
            "_view_module_version": "1.2.0",
            "_view_name": "LayoutView",
            "align_content": null,
            "align_items": null,
            "align_self": null,
            "border": null,
            "bottom": null,
            "display": null,
            "flex": null,
            "flex_flow": null,
            "grid_area": null,
            "grid_auto_columns": null,
            "grid_auto_flow": null,
            "grid_auto_rows": null,
            "grid_column": null,
            "grid_gap": null,
            "grid_row": null,
            "grid_template_areas": null,
            "grid_template_columns": null,
            "grid_template_rows": null,
            "height": null,
            "justify_content": null,
            "justify_items": null,
            "left": null,
            "margin": null,
            "max_height": null,
            "max_width": null,
            "min_height": null,
            "min_width": null,
            "object_fit": null,
            "object_position": null,
            "order": null,
            "overflow": null,
            "overflow_x": null,
            "overflow_y": null,
            "padding": null,
            "right": null,
            "top": null,
            "visibility": null,
            "width": null
          }
        },
        "4b3142241d824c29924c732fb54a4e83": {
          "model_module": "@jupyter-widgets/controls",
          "model_name": "ProgressStyleModel",
          "model_module_version": "1.5.0",
          "state": {
            "_model_module": "@jupyter-widgets/controls",
            "_model_module_version": "1.5.0",
            "_model_name": "ProgressStyleModel",
            "_view_count": null,
            "_view_module": "@jupyter-widgets/base",
            "_view_module_version": "1.2.0",
            "_view_name": "StyleView",
            "bar_color": null,
            "description_width": ""
          }
        },
        "b924d47ff68e4d76b7b5d11c22128e05": {
          "model_module": "@jupyter-widgets/base",
          "model_name": "LayoutModel",
          "model_module_version": "1.2.0",
          "state": {
            "_model_module": "@jupyter-widgets/base",
            "_model_module_version": "1.2.0",
            "_model_name": "LayoutModel",
            "_view_count": null,
            "_view_module": "@jupyter-widgets/base",
            "_view_module_version": "1.2.0",
            "_view_name": "LayoutView",
            "align_content": null,
            "align_items": null,
            "align_self": null,
            "border": null,
            "bottom": null,
            "display": null,
            "flex": null,
            "flex_flow": null,
            "grid_area": null,
            "grid_auto_columns": null,
            "grid_auto_flow": null,
            "grid_auto_rows": null,
            "grid_column": null,
            "grid_gap": null,
            "grid_row": null,
            "grid_template_areas": null,
            "grid_template_columns": null,
            "grid_template_rows": null,
            "height": null,
            "justify_content": null,
            "justify_items": null,
            "left": null,
            "margin": null,
            "max_height": null,
            "max_width": null,
            "min_height": null,
            "min_width": null,
            "object_fit": null,
            "object_position": null,
            "order": null,
            "overflow": null,
            "overflow_x": null,
            "overflow_y": null,
            "padding": null,
            "right": null,
            "top": null,
            "visibility": null,
            "width": null
          }
        },
        "d56c15705a124d6ea3f927bc047597a5": {
          "model_module": "@jupyter-widgets/controls",
          "model_name": "DescriptionStyleModel",
          "model_module_version": "1.5.0",
          "state": {
            "_model_module": "@jupyter-widgets/controls",
            "_model_module_version": "1.5.0",
            "_model_name": "DescriptionStyleModel",
            "_view_count": null,
            "_view_module": "@jupyter-widgets/base",
            "_view_module_version": "1.2.0",
            "_view_name": "StyleView",
            "description_width": ""
          }
        },
        "f7267dfcef67420c8dc8000cc89917f0": {
          "model_module": "@jupyter-widgets/controls",
          "model_name": "HBoxModel",
          "model_module_version": "1.5.0",
          "state": {
            "_dom_classes": [],
            "_model_module": "@jupyter-widgets/controls",
            "_model_module_version": "1.5.0",
            "_model_name": "HBoxModel",
            "_view_count": null,
            "_view_module": "@jupyter-widgets/controls",
            "_view_module_version": "1.5.0",
            "_view_name": "HBoxView",
            "box_style": "",
            "children": [
              "IPY_MODEL_439a8d89f76f4c4a9ed8e50c97a271f0",
              "IPY_MODEL_4cadcffe556e496793d86d3f32399d71",
              "IPY_MODEL_e78e92c3556346098bf4cff2cdf91465"
            ],
            "layout": "IPY_MODEL_7e2d955607b7498e8574f0bba1b1459d"
          }
        },
        "439a8d89f76f4c4a9ed8e50c97a271f0": {
          "model_module": "@jupyter-widgets/controls",
          "model_name": "HTMLModel",
          "model_module_version": "1.5.0",
          "state": {
            "_dom_classes": [],
            "_model_module": "@jupyter-widgets/controls",
            "_model_module_version": "1.5.0",
            "_model_name": "HTMLModel",
            "_view_count": null,
            "_view_module": "@jupyter-widgets/controls",
            "_view_module_version": "1.5.0",
            "_view_name": "HTMLView",
            "description": "",
            "description_tooltip": null,
            "layout": "IPY_MODEL_454c62bd8dfb4b5497dd397fb0458a00",
            "placeholder": "​",
            "style": "IPY_MODEL_964877d9ba8c414b827cfd46d58b4fed",
            "value": "vocab.txt: 100%"
          }
        },
        "4cadcffe556e496793d86d3f32399d71": {
          "model_module": "@jupyter-widgets/controls",
          "model_name": "FloatProgressModel",
          "model_module_version": "1.5.0",
          "state": {
            "_dom_classes": [],
            "_model_module": "@jupyter-widgets/controls",
            "_model_module_version": "1.5.0",
            "_model_name": "FloatProgressModel",
            "_view_count": null,
            "_view_module": "@jupyter-widgets/controls",
            "_view_module_version": "1.5.0",
            "_view_name": "ProgressView",
            "bar_style": "success",
            "description": "",
            "description_tooltip": null,
            "layout": "IPY_MODEL_f6da2ae988d84c0b9ce011a08591d12c",
            "max": 995526,
            "min": 0,
            "orientation": "horizontal",
            "style": "IPY_MODEL_b2f6fb0bc1d7465ea271f05c211be0e0",
            "value": 995526
          }
        },
        "e78e92c3556346098bf4cff2cdf91465": {
          "model_module": "@jupyter-widgets/controls",
          "model_name": "HTMLModel",
          "model_module_version": "1.5.0",
          "state": {
            "_dom_classes": [],
            "_model_module": "@jupyter-widgets/controls",
            "_model_module_version": "1.5.0",
            "_model_name": "HTMLModel",
            "_view_count": null,
            "_view_module": "@jupyter-widgets/controls",
            "_view_module_version": "1.5.0",
            "_view_name": "HTMLView",
            "description": "",
            "description_tooltip": null,
            "layout": "IPY_MODEL_d45c21aa596f4ba5a861804827f4adb3",
            "placeholder": "​",
            "style": "IPY_MODEL_2be483fbb07b4d6bbfc28fc7d3e05d1c",
            "value": " 996k/996k [00:00&lt;00:00, 3.95MB/s]"
          }
        },
        "7e2d955607b7498e8574f0bba1b1459d": {
          "model_module": "@jupyter-widgets/base",
          "model_name": "LayoutModel",
          "model_module_version": "1.2.0",
          "state": {
            "_model_module": "@jupyter-widgets/base",
            "_model_module_version": "1.2.0",
            "_model_name": "LayoutModel",
            "_view_count": null,
            "_view_module": "@jupyter-widgets/base",
            "_view_module_version": "1.2.0",
            "_view_name": "LayoutView",
            "align_content": null,
            "align_items": null,
            "align_self": null,
            "border": null,
            "bottom": null,
            "display": null,
            "flex": null,
            "flex_flow": null,
            "grid_area": null,
            "grid_auto_columns": null,
            "grid_auto_flow": null,
            "grid_auto_rows": null,
            "grid_column": null,
            "grid_gap": null,
            "grid_row": null,
            "grid_template_areas": null,
            "grid_template_columns": null,
            "grid_template_rows": null,
            "height": null,
            "justify_content": null,
            "justify_items": null,
            "left": null,
            "margin": null,
            "max_height": null,
            "max_width": null,
            "min_height": null,
            "min_width": null,
            "object_fit": null,
            "object_position": null,
            "order": null,
            "overflow": null,
            "overflow_x": null,
            "overflow_y": null,
            "padding": null,
            "right": null,
            "top": null,
            "visibility": null,
            "width": null
          }
        },
        "454c62bd8dfb4b5497dd397fb0458a00": {
          "model_module": "@jupyter-widgets/base",
          "model_name": "LayoutModel",
          "model_module_version": "1.2.0",
          "state": {
            "_model_module": "@jupyter-widgets/base",
            "_model_module_version": "1.2.0",
            "_model_name": "LayoutModel",
            "_view_count": null,
            "_view_module": "@jupyter-widgets/base",
            "_view_module_version": "1.2.0",
            "_view_name": "LayoutView",
            "align_content": null,
            "align_items": null,
            "align_self": null,
            "border": null,
            "bottom": null,
            "display": null,
            "flex": null,
            "flex_flow": null,
            "grid_area": null,
            "grid_auto_columns": null,
            "grid_auto_flow": null,
            "grid_auto_rows": null,
            "grid_column": null,
            "grid_gap": null,
            "grid_row": null,
            "grid_template_areas": null,
            "grid_template_columns": null,
            "grid_template_rows": null,
            "height": null,
            "justify_content": null,
            "justify_items": null,
            "left": null,
            "margin": null,
            "max_height": null,
            "max_width": null,
            "min_height": null,
            "min_width": null,
            "object_fit": null,
            "object_position": null,
            "order": null,
            "overflow": null,
            "overflow_x": null,
            "overflow_y": null,
            "padding": null,
            "right": null,
            "top": null,
            "visibility": null,
            "width": null
          }
        },
        "964877d9ba8c414b827cfd46d58b4fed": {
          "model_module": "@jupyter-widgets/controls",
          "model_name": "DescriptionStyleModel",
          "model_module_version": "1.5.0",
          "state": {
            "_model_module": "@jupyter-widgets/controls",
            "_model_module_version": "1.5.0",
            "_model_name": "DescriptionStyleModel",
            "_view_count": null,
            "_view_module": "@jupyter-widgets/base",
            "_view_module_version": "1.2.0",
            "_view_name": "StyleView",
            "description_width": ""
          }
        },
        "f6da2ae988d84c0b9ce011a08591d12c": {
          "model_module": "@jupyter-widgets/base",
          "model_name": "LayoutModel",
          "model_module_version": "1.2.0",
          "state": {
            "_model_module": "@jupyter-widgets/base",
            "_model_module_version": "1.2.0",
            "_model_name": "LayoutModel",
            "_view_count": null,
            "_view_module": "@jupyter-widgets/base",
            "_view_module_version": "1.2.0",
            "_view_name": "LayoutView",
            "align_content": null,
            "align_items": null,
            "align_self": null,
            "border": null,
            "bottom": null,
            "display": null,
            "flex": null,
            "flex_flow": null,
            "grid_area": null,
            "grid_auto_columns": null,
            "grid_auto_flow": null,
            "grid_auto_rows": null,
            "grid_column": null,
            "grid_gap": null,
            "grid_row": null,
            "grid_template_areas": null,
            "grid_template_columns": null,
            "grid_template_rows": null,
            "height": null,
            "justify_content": null,
            "justify_items": null,
            "left": null,
            "margin": null,
            "max_height": null,
            "max_width": null,
            "min_height": null,
            "min_width": null,
            "object_fit": null,
            "object_position": null,
            "order": null,
            "overflow": null,
            "overflow_x": null,
            "overflow_y": null,
            "padding": null,
            "right": null,
            "top": null,
            "visibility": null,
            "width": null
          }
        },
        "b2f6fb0bc1d7465ea271f05c211be0e0": {
          "model_module": "@jupyter-widgets/controls",
          "model_name": "ProgressStyleModel",
          "model_module_version": "1.5.0",
          "state": {
            "_model_module": "@jupyter-widgets/controls",
            "_model_module_version": "1.5.0",
            "_model_name": "ProgressStyleModel",
            "_view_count": null,
            "_view_module": "@jupyter-widgets/base",
            "_view_module_version": "1.2.0",
            "_view_name": "StyleView",
            "bar_color": null,
            "description_width": ""
          }
        },
        "d45c21aa596f4ba5a861804827f4adb3": {
          "model_module": "@jupyter-widgets/base",
          "model_name": "LayoutModel",
          "model_module_version": "1.2.0",
          "state": {
            "_model_module": "@jupyter-widgets/base",
            "_model_module_version": "1.2.0",
            "_model_name": "LayoutModel",
            "_view_count": null,
            "_view_module": "@jupyter-widgets/base",
            "_view_module_version": "1.2.0",
            "_view_name": "LayoutView",
            "align_content": null,
            "align_items": null,
            "align_self": null,
            "border": null,
            "bottom": null,
            "display": null,
            "flex": null,
            "flex_flow": null,
            "grid_area": null,
            "grid_auto_columns": null,
            "grid_auto_flow": null,
            "grid_auto_rows": null,
            "grid_column": null,
            "grid_gap": null,
            "grid_row": null,
            "grid_template_areas": null,
            "grid_template_columns": null,
            "grid_template_rows": null,
            "height": null,
            "justify_content": null,
            "justify_items": null,
            "left": null,
            "margin": null,
            "max_height": null,
            "max_width": null,
            "min_height": null,
            "min_width": null,
            "object_fit": null,
            "object_position": null,
            "order": null,
            "overflow": null,
            "overflow_x": null,
            "overflow_y": null,
            "padding": null,
            "right": null,
            "top": null,
            "visibility": null,
            "width": null
          }
        },
        "2be483fbb07b4d6bbfc28fc7d3e05d1c": {
          "model_module": "@jupyter-widgets/controls",
          "model_name": "DescriptionStyleModel",
          "model_module_version": "1.5.0",
          "state": {
            "_model_module": "@jupyter-widgets/controls",
            "_model_module_version": "1.5.0",
            "_model_name": "DescriptionStyleModel",
            "_view_count": null,
            "_view_module": "@jupyter-widgets/base",
            "_view_module_version": "1.2.0",
            "_view_name": "StyleView",
            "description_width": ""
          }
        },
        "5d48cbf748804f19aee1fbcdfdac19e5": {
          "model_module": "@jupyter-widgets/controls",
          "model_name": "HBoxModel",
          "model_module_version": "1.5.0",
          "state": {
            "_dom_classes": [],
            "_model_module": "@jupyter-widgets/controls",
            "_model_module_version": "1.5.0",
            "_model_name": "HBoxModel",
            "_view_count": null,
            "_view_module": "@jupyter-widgets/controls",
            "_view_module_version": "1.5.0",
            "_view_name": "HBoxView",
            "box_style": "",
            "children": [
              "IPY_MODEL_401f4aff78ed4fbeb4d95d096f5f1e15",
              "IPY_MODEL_ebc33b399ead44d2af5855868417e923",
              "IPY_MODEL_ed32375bb79b49309058da03fd62900d"
            ],
            "layout": "IPY_MODEL_63faa2588ec04410852e86813ca205a0"
          }
        },
        "401f4aff78ed4fbeb4d95d096f5f1e15": {
          "model_module": "@jupyter-widgets/controls",
          "model_name": "HTMLModel",
          "model_module_version": "1.5.0",
          "state": {
            "_dom_classes": [],
            "_model_module": "@jupyter-widgets/controls",
            "_model_module_version": "1.5.0",
            "_model_name": "HTMLModel",
            "_view_count": null,
            "_view_module": "@jupyter-widgets/controls",
            "_view_module_version": "1.5.0",
            "_view_name": "HTMLView",
            "description": "",
            "description_tooltip": null,
            "layout": "IPY_MODEL_614c84dad0454c4daa89569d289250ec",
            "placeholder": "​",
            "style": "IPY_MODEL_940bb75498674692828cdcf785a21019",
            "value": "tokenizer.json: 100%"
          }
        },
        "ebc33b399ead44d2af5855868417e923": {
          "model_module": "@jupyter-widgets/controls",
          "model_name": "FloatProgressModel",
          "model_module_version": "1.5.0",
          "state": {
            "_dom_classes": [],
            "_model_module": "@jupyter-widgets/controls",
            "_model_module_version": "1.5.0",
            "_model_name": "FloatProgressModel",
            "_view_count": null,
            "_view_module": "@jupyter-widgets/controls",
            "_view_module_version": "1.5.0",
            "_view_name": "ProgressView",
            "bar_style": "success",
            "description": "",
            "description_tooltip": null,
            "layout": "IPY_MODEL_39d995dcb09546e4bcf9f77483d1835b",
            "max": 1961828,
            "min": 0,
            "orientation": "horizontal",
            "style": "IPY_MODEL_3cea276f7f934d02a4d262f6fc45f6e7",
            "value": 1961828
          }
        },
        "ed32375bb79b49309058da03fd62900d": {
          "model_module": "@jupyter-widgets/controls",
          "model_name": "HTMLModel",
          "model_module_version": "1.5.0",
          "state": {
            "_dom_classes": [],
            "_model_module": "@jupyter-widgets/controls",
            "_model_module_version": "1.5.0",
            "_model_name": "HTMLModel",
            "_view_count": null,
            "_view_module": "@jupyter-widgets/controls",
            "_view_module_version": "1.5.0",
            "_view_name": "HTMLView",
            "description": "",
            "description_tooltip": null,
            "layout": "IPY_MODEL_000a3660e9844508833ffd51f05b14f6",
            "placeholder": "​",
            "style": "IPY_MODEL_b5da6a6ba658413a9a173f5ae5a91bb2",
            "value": " 1.96M/1.96M [00:00&lt;00:00, 5.76MB/s]"
          }
        },
        "63faa2588ec04410852e86813ca205a0": {
          "model_module": "@jupyter-widgets/base",
          "model_name": "LayoutModel",
          "model_module_version": "1.2.0",
          "state": {
            "_model_module": "@jupyter-widgets/base",
            "_model_module_version": "1.2.0",
            "_model_name": "LayoutModel",
            "_view_count": null,
            "_view_module": "@jupyter-widgets/base",
            "_view_module_version": "1.2.0",
            "_view_name": "LayoutView",
            "align_content": null,
            "align_items": null,
            "align_self": null,
            "border": null,
            "bottom": null,
            "display": null,
            "flex": null,
            "flex_flow": null,
            "grid_area": null,
            "grid_auto_columns": null,
            "grid_auto_flow": null,
            "grid_auto_rows": null,
            "grid_column": null,
            "grid_gap": null,
            "grid_row": null,
            "grid_template_areas": null,
            "grid_template_columns": null,
            "grid_template_rows": null,
            "height": null,
            "justify_content": null,
            "justify_items": null,
            "left": null,
            "margin": null,
            "max_height": null,
            "max_width": null,
            "min_height": null,
            "min_width": null,
            "object_fit": null,
            "object_position": null,
            "order": null,
            "overflow": null,
            "overflow_x": null,
            "overflow_y": null,
            "padding": null,
            "right": null,
            "top": null,
            "visibility": null,
            "width": null
          }
        },
        "614c84dad0454c4daa89569d289250ec": {
          "model_module": "@jupyter-widgets/base",
          "model_name": "LayoutModel",
          "model_module_version": "1.2.0",
          "state": {
            "_model_module": "@jupyter-widgets/base",
            "_model_module_version": "1.2.0",
            "_model_name": "LayoutModel",
            "_view_count": null,
            "_view_module": "@jupyter-widgets/base",
            "_view_module_version": "1.2.0",
            "_view_name": "LayoutView",
            "align_content": null,
            "align_items": null,
            "align_self": null,
            "border": null,
            "bottom": null,
            "display": null,
            "flex": null,
            "flex_flow": null,
            "grid_area": null,
            "grid_auto_columns": null,
            "grid_auto_flow": null,
            "grid_auto_rows": null,
            "grid_column": null,
            "grid_gap": null,
            "grid_row": null,
            "grid_template_areas": null,
            "grid_template_columns": null,
            "grid_template_rows": null,
            "height": null,
            "justify_content": null,
            "justify_items": null,
            "left": null,
            "margin": null,
            "max_height": null,
            "max_width": null,
            "min_height": null,
            "min_width": null,
            "object_fit": null,
            "object_position": null,
            "order": null,
            "overflow": null,
            "overflow_x": null,
            "overflow_y": null,
            "padding": null,
            "right": null,
            "top": null,
            "visibility": null,
            "width": null
          }
        },
        "940bb75498674692828cdcf785a21019": {
          "model_module": "@jupyter-widgets/controls",
          "model_name": "DescriptionStyleModel",
          "model_module_version": "1.5.0",
          "state": {
            "_model_module": "@jupyter-widgets/controls",
            "_model_module_version": "1.5.0",
            "_model_name": "DescriptionStyleModel",
            "_view_count": null,
            "_view_module": "@jupyter-widgets/base",
            "_view_module_version": "1.2.0",
            "_view_name": "StyleView",
            "description_width": ""
          }
        },
        "39d995dcb09546e4bcf9f77483d1835b": {
          "model_module": "@jupyter-widgets/base",
          "model_name": "LayoutModel",
          "model_module_version": "1.2.0",
          "state": {
            "_model_module": "@jupyter-widgets/base",
            "_model_module_version": "1.2.0",
            "_model_name": "LayoutModel",
            "_view_count": null,
            "_view_module": "@jupyter-widgets/base",
            "_view_module_version": "1.2.0",
            "_view_name": "LayoutView",
            "align_content": null,
            "align_items": null,
            "align_self": null,
            "border": null,
            "bottom": null,
            "display": null,
            "flex": null,
            "flex_flow": null,
            "grid_area": null,
            "grid_auto_columns": null,
            "grid_auto_flow": null,
            "grid_auto_rows": null,
            "grid_column": null,
            "grid_gap": null,
            "grid_row": null,
            "grid_template_areas": null,
            "grid_template_columns": null,
            "grid_template_rows": null,
            "height": null,
            "justify_content": null,
            "justify_items": null,
            "left": null,
            "margin": null,
            "max_height": null,
            "max_width": null,
            "min_height": null,
            "min_width": null,
            "object_fit": null,
            "object_position": null,
            "order": null,
            "overflow": null,
            "overflow_x": null,
            "overflow_y": null,
            "padding": null,
            "right": null,
            "top": null,
            "visibility": null,
            "width": null
          }
        },
        "3cea276f7f934d02a4d262f6fc45f6e7": {
          "model_module": "@jupyter-widgets/controls",
          "model_name": "ProgressStyleModel",
          "model_module_version": "1.5.0",
          "state": {
            "_model_module": "@jupyter-widgets/controls",
            "_model_module_version": "1.5.0",
            "_model_name": "ProgressStyleModel",
            "_view_count": null,
            "_view_module": "@jupyter-widgets/base",
            "_view_module_version": "1.2.0",
            "_view_name": "StyleView",
            "bar_color": null,
            "description_width": ""
          }
        },
        "000a3660e9844508833ffd51f05b14f6": {
          "model_module": "@jupyter-widgets/base",
          "model_name": "LayoutModel",
          "model_module_version": "1.2.0",
          "state": {
            "_model_module": "@jupyter-widgets/base",
            "_model_module_version": "1.2.0",
            "_model_name": "LayoutModel",
            "_view_count": null,
            "_view_module": "@jupyter-widgets/base",
            "_view_module_version": "1.2.0",
            "_view_name": "LayoutView",
            "align_content": null,
            "align_items": null,
            "align_self": null,
            "border": null,
            "bottom": null,
            "display": null,
            "flex": null,
            "flex_flow": null,
            "grid_area": null,
            "grid_auto_columns": null,
            "grid_auto_flow": null,
            "grid_auto_rows": null,
            "grid_column": null,
            "grid_gap": null,
            "grid_row": null,
            "grid_template_areas": null,
            "grid_template_columns": null,
            "grid_template_rows": null,
            "height": null,
            "justify_content": null,
            "justify_items": null,
            "left": null,
            "margin": null,
            "max_height": null,
            "max_width": null,
            "min_height": null,
            "min_width": null,
            "object_fit": null,
            "object_position": null,
            "order": null,
            "overflow": null,
            "overflow_x": null,
            "overflow_y": null,
            "padding": null,
            "right": null,
            "top": null,
            "visibility": null,
            "width": null
          }
        },
        "b5da6a6ba658413a9a173f5ae5a91bb2": {
          "model_module": "@jupyter-widgets/controls",
          "model_name": "DescriptionStyleModel",
          "model_module_version": "1.5.0",
          "state": {
            "_model_module": "@jupyter-widgets/controls",
            "_model_module_version": "1.5.0",
            "_model_name": "DescriptionStyleModel",
            "_view_count": null,
            "_view_module": "@jupyter-widgets/base",
            "_view_module_version": "1.2.0",
            "_view_name": "StyleView",
            "description_width": ""
          }
        },
        "c6c148a6edcf4b1db1c06a8f7e86eaed": {
          "model_module": "@jupyter-widgets/controls",
          "model_name": "HBoxModel",
          "model_module_version": "1.5.0",
          "state": {
            "_dom_classes": [],
            "_model_module": "@jupyter-widgets/controls",
            "_model_module_version": "1.5.0",
            "_model_name": "HBoxModel",
            "_view_count": null,
            "_view_module": "@jupyter-widgets/controls",
            "_view_module_version": "1.5.0",
            "_view_name": "HBoxView",
            "box_style": "",
            "children": [
              "IPY_MODEL_ba5ee3762fba45cdbfbffe5b7afb9124",
              "IPY_MODEL_d1de2a314b3641679cbd30cf23a438f9",
              "IPY_MODEL_19344222bac844ee83d9a3f3dd7e4d2a"
            ],
            "layout": "IPY_MODEL_45b3bc5b9db547ee95ec585ac37864e8"
          }
        },
        "ba5ee3762fba45cdbfbffe5b7afb9124": {
          "model_module": "@jupyter-widgets/controls",
          "model_name": "HTMLModel",
          "model_module_version": "1.5.0",
          "state": {
            "_dom_classes": [],
            "_model_module": "@jupyter-widgets/controls",
            "_model_module_version": "1.5.0",
            "_model_name": "HTMLModel",
            "_view_count": null,
            "_view_module": "@jupyter-widgets/controls",
            "_view_module_version": "1.5.0",
            "_view_name": "HTMLView",
            "description": "",
            "description_tooltip": null,
            "layout": "IPY_MODEL_68832d68f3e141e38fe27fccf1748838",
            "placeholder": "​",
            "style": "IPY_MODEL_0e93c5da045f486e9bd554a39a467921",
            "value": "config.json: 100%"
          }
        },
        "d1de2a314b3641679cbd30cf23a438f9": {
          "model_module": "@jupyter-widgets/controls",
          "model_name": "FloatProgressModel",
          "model_module_version": "1.5.0",
          "state": {
            "_dom_classes": [],
            "_model_module": "@jupyter-widgets/controls",
            "_model_module_version": "1.5.0",
            "_model_name": "FloatProgressModel",
            "_view_count": null,
            "_view_module": "@jupyter-widgets/controls",
            "_view_module_version": "1.5.0",
            "_view_name": "ProgressView",
            "bar_style": "success",
            "description": "",
            "description_tooltip": null,
            "layout": "IPY_MODEL_3bea21d905e24b349f2df37490a12fbd",
            "max": 466,
            "min": 0,
            "orientation": "horizontal",
            "style": "IPY_MODEL_dacf39a470a14997ad2687e1809a7cfc",
            "value": 466
          }
        },
        "19344222bac844ee83d9a3f3dd7e4d2a": {
          "model_module": "@jupyter-widgets/controls",
          "model_name": "HTMLModel",
          "model_module_version": "1.5.0",
          "state": {
            "_dom_classes": [],
            "_model_module": "@jupyter-widgets/controls",
            "_model_module_version": "1.5.0",
            "_model_name": "HTMLModel",
            "_view_count": null,
            "_view_module": "@jupyter-widgets/controls",
            "_view_module_version": "1.5.0",
            "_view_name": "HTMLView",
            "description": "",
            "description_tooltip": null,
            "layout": "IPY_MODEL_a5c8f4efc4aa4b4b9e0d3ad8b883cf60",
            "placeholder": "​",
            "style": "IPY_MODEL_8074510988334b34a414d7452c435991",
            "value": " 466/466 [00:00&lt;00:00, 12.1kB/s]"
          }
        },
        "45b3bc5b9db547ee95ec585ac37864e8": {
          "model_module": "@jupyter-widgets/base",
          "model_name": "LayoutModel",
          "model_module_version": "1.2.0",
          "state": {
            "_model_module": "@jupyter-widgets/base",
            "_model_module_version": "1.2.0",
            "_model_name": "LayoutModel",
            "_view_count": null,
            "_view_module": "@jupyter-widgets/base",
            "_view_module_version": "1.2.0",
            "_view_name": "LayoutView",
            "align_content": null,
            "align_items": null,
            "align_self": null,
            "border": null,
            "bottom": null,
            "display": null,
            "flex": null,
            "flex_flow": null,
            "grid_area": null,
            "grid_auto_columns": null,
            "grid_auto_flow": null,
            "grid_auto_rows": null,
            "grid_column": null,
            "grid_gap": null,
            "grid_row": null,
            "grid_template_areas": null,
            "grid_template_columns": null,
            "grid_template_rows": null,
            "height": null,
            "justify_content": null,
            "justify_items": null,
            "left": null,
            "margin": null,
            "max_height": null,
            "max_width": null,
            "min_height": null,
            "min_width": null,
            "object_fit": null,
            "object_position": null,
            "order": null,
            "overflow": null,
            "overflow_x": null,
            "overflow_y": null,
            "padding": null,
            "right": null,
            "top": null,
            "visibility": null,
            "width": null
          }
        },
        "68832d68f3e141e38fe27fccf1748838": {
          "model_module": "@jupyter-widgets/base",
          "model_name": "LayoutModel",
          "model_module_version": "1.2.0",
          "state": {
            "_model_module": "@jupyter-widgets/base",
            "_model_module_version": "1.2.0",
            "_model_name": "LayoutModel",
            "_view_count": null,
            "_view_module": "@jupyter-widgets/base",
            "_view_module_version": "1.2.0",
            "_view_name": "LayoutView",
            "align_content": null,
            "align_items": null,
            "align_self": null,
            "border": null,
            "bottom": null,
            "display": null,
            "flex": null,
            "flex_flow": null,
            "grid_area": null,
            "grid_auto_columns": null,
            "grid_auto_flow": null,
            "grid_auto_rows": null,
            "grid_column": null,
            "grid_gap": null,
            "grid_row": null,
            "grid_template_areas": null,
            "grid_template_columns": null,
            "grid_template_rows": null,
            "height": null,
            "justify_content": null,
            "justify_items": null,
            "left": null,
            "margin": null,
            "max_height": null,
            "max_width": null,
            "min_height": null,
            "min_width": null,
            "object_fit": null,
            "object_position": null,
            "order": null,
            "overflow": null,
            "overflow_x": null,
            "overflow_y": null,
            "padding": null,
            "right": null,
            "top": null,
            "visibility": null,
            "width": null
          }
        },
        "0e93c5da045f486e9bd554a39a467921": {
          "model_module": "@jupyter-widgets/controls",
          "model_name": "DescriptionStyleModel",
          "model_module_version": "1.5.0",
          "state": {
            "_model_module": "@jupyter-widgets/controls",
            "_model_module_version": "1.5.0",
            "_model_name": "DescriptionStyleModel",
            "_view_count": null,
            "_view_module": "@jupyter-widgets/base",
            "_view_module_version": "1.2.0",
            "_view_name": "StyleView",
            "description_width": ""
          }
        },
        "3bea21d905e24b349f2df37490a12fbd": {
          "model_module": "@jupyter-widgets/base",
          "model_name": "LayoutModel",
          "model_module_version": "1.2.0",
          "state": {
            "_model_module": "@jupyter-widgets/base",
            "_model_module_version": "1.2.0",
            "_model_name": "LayoutModel",
            "_view_count": null,
            "_view_module": "@jupyter-widgets/base",
            "_view_module_version": "1.2.0",
            "_view_name": "LayoutView",
            "align_content": null,
            "align_items": null,
            "align_self": null,
            "border": null,
            "bottom": null,
            "display": null,
            "flex": null,
            "flex_flow": null,
            "grid_area": null,
            "grid_auto_columns": null,
            "grid_auto_flow": null,
            "grid_auto_rows": null,
            "grid_column": null,
            "grid_gap": null,
            "grid_row": null,
            "grid_template_areas": null,
            "grid_template_columns": null,
            "grid_template_rows": null,
            "height": null,
            "justify_content": null,
            "justify_items": null,
            "left": null,
            "margin": null,
            "max_height": null,
            "max_width": null,
            "min_height": null,
            "min_width": null,
            "object_fit": null,
            "object_position": null,
            "order": null,
            "overflow": null,
            "overflow_x": null,
            "overflow_y": null,
            "padding": null,
            "right": null,
            "top": null,
            "visibility": null,
            "width": null
          }
        },
        "dacf39a470a14997ad2687e1809a7cfc": {
          "model_module": "@jupyter-widgets/controls",
          "model_name": "ProgressStyleModel",
          "model_module_version": "1.5.0",
          "state": {
            "_model_module": "@jupyter-widgets/controls",
            "_model_module_version": "1.5.0",
            "_model_name": "ProgressStyleModel",
            "_view_count": null,
            "_view_module": "@jupyter-widgets/base",
            "_view_module_version": "1.2.0",
            "_view_name": "StyleView",
            "bar_color": null,
            "description_width": ""
          }
        },
        "a5c8f4efc4aa4b4b9e0d3ad8b883cf60": {
          "model_module": "@jupyter-widgets/base",
          "model_name": "LayoutModel",
          "model_module_version": "1.2.0",
          "state": {
            "_model_module": "@jupyter-widgets/base",
            "_model_module_version": "1.2.0",
            "_model_name": "LayoutModel",
            "_view_count": null,
            "_view_module": "@jupyter-widgets/base",
            "_view_module_version": "1.2.0",
            "_view_name": "LayoutView",
            "align_content": null,
            "align_items": null,
            "align_self": null,
            "border": null,
            "bottom": null,
            "display": null,
            "flex": null,
            "flex_flow": null,
            "grid_area": null,
            "grid_auto_columns": null,
            "grid_auto_flow": null,
            "grid_auto_rows": null,
            "grid_column": null,
            "grid_gap": null,
            "grid_row": null,
            "grid_template_areas": null,
            "grid_template_columns": null,
            "grid_template_rows": null,
            "height": null,
            "justify_content": null,
            "justify_items": null,
            "left": null,
            "margin": null,
            "max_height": null,
            "max_width": null,
            "min_height": null,
            "min_width": null,
            "object_fit": null,
            "object_position": null,
            "order": null,
            "overflow": null,
            "overflow_x": null,
            "overflow_y": null,
            "padding": null,
            "right": null,
            "top": null,
            "visibility": null,
            "width": null
          }
        },
        "8074510988334b34a414d7452c435991": {
          "model_module": "@jupyter-widgets/controls",
          "model_name": "DescriptionStyleModel",
          "model_module_version": "1.5.0",
          "state": {
            "_model_module": "@jupyter-widgets/controls",
            "_model_module_version": "1.5.0",
            "_model_name": "DescriptionStyleModel",
            "_view_count": null,
            "_view_module": "@jupyter-widgets/base",
            "_view_module_version": "1.2.0",
            "_view_name": "StyleView",
            "description_width": ""
          }
        },
        "274c8d2ce1794b6db52ed06c0dca252c": {
          "model_module": "@jupyter-widgets/controls",
          "model_name": "HBoxModel",
          "model_module_version": "1.5.0",
          "state": {
            "_dom_classes": [],
            "_model_module": "@jupyter-widgets/controls",
            "_model_module_version": "1.5.0",
            "_model_name": "HBoxModel",
            "_view_count": null,
            "_view_module": "@jupyter-widgets/controls",
            "_view_module_version": "1.5.0",
            "_view_name": "HBoxView",
            "box_style": "",
            "children": [
              "IPY_MODEL_952fdc92c8f04a5885b55a6347c17df4",
              "IPY_MODEL_875669d0d4fa4deb8ab63b229c957b20",
              "IPY_MODEL_597668b3616340aca7ccaa6b27706fff"
            ],
            "layout": "IPY_MODEL_2152b47c6aeb470c86a5867588e1c5e3"
          }
        },
        "952fdc92c8f04a5885b55a6347c17df4": {
          "model_module": "@jupyter-widgets/controls",
          "model_name": "HTMLModel",
          "model_module_version": "1.5.0",
          "state": {
            "_dom_classes": [],
            "_model_module": "@jupyter-widgets/controls",
            "_model_module_version": "1.5.0",
            "_model_name": "HTMLModel",
            "_view_count": null,
            "_view_module": "@jupyter-widgets/controls",
            "_view_module_version": "1.5.0",
            "_view_name": "HTMLView",
            "description": "",
            "description_tooltip": null,
            "layout": "IPY_MODEL_1c95d399b6e64da0b5dc3180db691b09",
            "placeholder": "​",
            "style": "IPY_MODEL_ecdfb6f4bd9d4e78b82adc943cdfd3c3",
            "value": "Map: 100%"
          }
        },
        "875669d0d4fa4deb8ab63b229c957b20": {
          "model_module": "@jupyter-widgets/controls",
          "model_name": "FloatProgressModel",
          "model_module_version": "1.5.0",
          "state": {
            "_dom_classes": [],
            "_model_module": "@jupyter-widgets/controls",
            "_model_module_version": "1.5.0",
            "_model_name": "FloatProgressModel",
            "_view_count": null,
            "_view_module": "@jupyter-widgets/controls",
            "_view_module_version": "1.5.0",
            "_view_name": "ProgressView",
            "bar_style": "success",
            "description": "",
            "description_tooltip": null,
            "layout": "IPY_MODEL_d84523e336ae4ed6b63c080e2985c38b",
            "max": 8320,
            "min": 0,
            "orientation": "horizontal",
            "style": "IPY_MODEL_6ed69df218a44b59af14feff96d24d7c",
            "value": 8320
          }
        },
        "597668b3616340aca7ccaa6b27706fff": {
          "model_module": "@jupyter-widgets/controls",
          "model_name": "HTMLModel",
          "model_module_version": "1.5.0",
          "state": {
            "_dom_classes": [],
            "_model_module": "@jupyter-widgets/controls",
            "_model_module_version": "1.5.0",
            "_model_name": "HTMLModel",
            "_view_count": null,
            "_view_module": "@jupyter-widgets/controls",
            "_view_module_version": "1.5.0",
            "_view_name": "HTMLView",
            "description": "",
            "description_tooltip": null,
            "layout": "IPY_MODEL_1e9cc7aa01f84b15b8da4d0cc07c6d41",
            "placeholder": "​",
            "style": "IPY_MODEL_5f5815fe861742399fcc9df78b867acc",
            "value": " 8320/8320 [00:05&lt;00:00, 1388.01 examples/s]"
          }
        },
        "2152b47c6aeb470c86a5867588e1c5e3": {
          "model_module": "@jupyter-widgets/base",
          "model_name": "LayoutModel",
          "model_module_version": "1.2.0",
          "state": {
            "_model_module": "@jupyter-widgets/base",
            "_model_module_version": "1.2.0",
            "_model_name": "LayoutModel",
            "_view_count": null,
            "_view_module": "@jupyter-widgets/base",
            "_view_module_version": "1.2.0",
            "_view_name": "LayoutView",
            "align_content": null,
            "align_items": null,
            "align_self": null,
            "border": null,
            "bottom": null,
            "display": null,
            "flex": null,
            "flex_flow": null,
            "grid_area": null,
            "grid_auto_columns": null,
            "grid_auto_flow": null,
            "grid_auto_rows": null,
            "grid_column": null,
            "grid_gap": null,
            "grid_row": null,
            "grid_template_areas": null,
            "grid_template_columns": null,
            "grid_template_rows": null,
            "height": null,
            "justify_content": null,
            "justify_items": null,
            "left": null,
            "margin": null,
            "max_height": null,
            "max_width": null,
            "min_height": null,
            "min_width": null,
            "object_fit": null,
            "object_position": null,
            "order": null,
            "overflow": null,
            "overflow_x": null,
            "overflow_y": null,
            "padding": null,
            "right": null,
            "top": null,
            "visibility": null,
            "width": null
          }
        },
        "1c95d399b6e64da0b5dc3180db691b09": {
          "model_module": "@jupyter-widgets/base",
          "model_name": "LayoutModel",
          "model_module_version": "1.2.0",
          "state": {
            "_model_module": "@jupyter-widgets/base",
            "_model_module_version": "1.2.0",
            "_model_name": "LayoutModel",
            "_view_count": null,
            "_view_module": "@jupyter-widgets/base",
            "_view_module_version": "1.2.0",
            "_view_name": "LayoutView",
            "align_content": null,
            "align_items": null,
            "align_self": null,
            "border": null,
            "bottom": null,
            "display": null,
            "flex": null,
            "flex_flow": null,
            "grid_area": null,
            "grid_auto_columns": null,
            "grid_auto_flow": null,
            "grid_auto_rows": null,
            "grid_column": null,
            "grid_gap": null,
            "grid_row": null,
            "grid_template_areas": null,
            "grid_template_columns": null,
            "grid_template_rows": null,
            "height": null,
            "justify_content": null,
            "justify_items": null,
            "left": null,
            "margin": null,
            "max_height": null,
            "max_width": null,
            "min_height": null,
            "min_width": null,
            "object_fit": null,
            "object_position": null,
            "order": null,
            "overflow": null,
            "overflow_x": null,
            "overflow_y": null,
            "padding": null,
            "right": null,
            "top": null,
            "visibility": null,
            "width": null
          }
        },
        "ecdfb6f4bd9d4e78b82adc943cdfd3c3": {
          "model_module": "@jupyter-widgets/controls",
          "model_name": "DescriptionStyleModel",
          "model_module_version": "1.5.0",
          "state": {
            "_model_module": "@jupyter-widgets/controls",
            "_model_module_version": "1.5.0",
            "_model_name": "DescriptionStyleModel",
            "_view_count": null,
            "_view_module": "@jupyter-widgets/base",
            "_view_module_version": "1.2.0",
            "_view_name": "StyleView",
            "description_width": ""
          }
        },
        "d84523e336ae4ed6b63c080e2985c38b": {
          "model_module": "@jupyter-widgets/base",
          "model_name": "LayoutModel",
          "model_module_version": "1.2.0",
          "state": {
            "_model_module": "@jupyter-widgets/base",
            "_model_module_version": "1.2.0",
            "_model_name": "LayoutModel",
            "_view_count": null,
            "_view_module": "@jupyter-widgets/base",
            "_view_module_version": "1.2.0",
            "_view_name": "LayoutView",
            "align_content": null,
            "align_items": null,
            "align_self": null,
            "border": null,
            "bottom": null,
            "display": null,
            "flex": null,
            "flex_flow": null,
            "grid_area": null,
            "grid_auto_columns": null,
            "grid_auto_flow": null,
            "grid_auto_rows": null,
            "grid_column": null,
            "grid_gap": null,
            "grid_row": null,
            "grid_template_areas": null,
            "grid_template_columns": null,
            "grid_template_rows": null,
            "height": null,
            "justify_content": null,
            "justify_items": null,
            "left": null,
            "margin": null,
            "max_height": null,
            "max_width": null,
            "min_height": null,
            "min_width": null,
            "object_fit": null,
            "object_position": null,
            "order": null,
            "overflow": null,
            "overflow_x": null,
            "overflow_y": null,
            "padding": null,
            "right": null,
            "top": null,
            "visibility": null,
            "width": null
          }
        },
        "6ed69df218a44b59af14feff96d24d7c": {
          "model_module": "@jupyter-widgets/controls",
          "model_name": "ProgressStyleModel",
          "model_module_version": "1.5.0",
          "state": {
            "_model_module": "@jupyter-widgets/controls",
            "_model_module_version": "1.5.0",
            "_model_name": "ProgressStyleModel",
            "_view_count": null,
            "_view_module": "@jupyter-widgets/base",
            "_view_module_version": "1.2.0",
            "_view_name": "StyleView",
            "bar_color": null,
            "description_width": ""
          }
        },
        "1e9cc7aa01f84b15b8da4d0cc07c6d41": {
          "model_module": "@jupyter-widgets/base",
          "model_name": "LayoutModel",
          "model_module_version": "1.2.0",
          "state": {
            "_model_module": "@jupyter-widgets/base",
            "_model_module_version": "1.2.0",
            "_model_name": "LayoutModel",
            "_view_count": null,
            "_view_module": "@jupyter-widgets/base",
            "_view_module_version": "1.2.0",
            "_view_name": "LayoutView",
            "align_content": null,
            "align_items": null,
            "align_self": null,
            "border": null,
            "bottom": null,
            "display": null,
            "flex": null,
            "flex_flow": null,
            "grid_area": null,
            "grid_auto_columns": null,
            "grid_auto_flow": null,
            "grid_auto_rows": null,
            "grid_column": null,
            "grid_gap": null,
            "grid_row": null,
            "grid_template_areas": null,
            "grid_template_columns": null,
            "grid_template_rows": null,
            "height": null,
            "justify_content": null,
            "justify_items": null,
            "left": null,
            "margin": null,
            "max_height": null,
            "max_width": null,
            "min_height": null,
            "min_width": null,
            "object_fit": null,
            "object_position": null,
            "order": null,
            "overflow": null,
            "overflow_x": null,
            "overflow_y": null,
            "padding": null,
            "right": null,
            "top": null,
            "visibility": null,
            "width": null
          }
        },
        "5f5815fe861742399fcc9df78b867acc": {
          "model_module": "@jupyter-widgets/controls",
          "model_name": "DescriptionStyleModel",
          "model_module_version": "1.5.0",
          "state": {
            "_model_module": "@jupyter-widgets/controls",
            "_model_module_version": "1.5.0",
            "_model_name": "DescriptionStyleModel",
            "_view_count": null,
            "_view_module": "@jupyter-widgets/base",
            "_view_module_version": "1.2.0",
            "_view_name": "StyleView",
            "description_width": ""
          }
        },
        "6bd02cbf775d458297923e6e1727c8e2": {
          "model_module": "@jupyter-widgets/controls",
          "model_name": "HBoxModel",
          "model_module_version": "1.5.0",
          "state": {
            "_dom_classes": [],
            "_model_module": "@jupyter-widgets/controls",
            "_model_module_version": "1.5.0",
            "_model_name": "HBoxModel",
            "_view_count": null,
            "_view_module": "@jupyter-widgets/controls",
            "_view_module_version": "1.5.0",
            "_view_name": "HBoxView",
            "box_style": "",
            "children": [
              "IPY_MODEL_5bef53b318c24c5eaf792b93d3f1b50a",
              "IPY_MODEL_57e8cdaef08c402aaab9ee91c27c02c6",
              "IPY_MODEL_8e6eef2cbddc4bea8feedd62c2ff4bfe"
            ],
            "layout": "IPY_MODEL_0b4c6b78f62f493fb0552722934f1513"
          }
        },
        "5bef53b318c24c5eaf792b93d3f1b50a": {
          "model_module": "@jupyter-widgets/controls",
          "model_name": "HTMLModel",
          "model_module_version": "1.5.0",
          "state": {
            "_dom_classes": [],
            "_model_module": "@jupyter-widgets/controls",
            "_model_module_version": "1.5.0",
            "_model_name": "HTMLModel",
            "_view_count": null,
            "_view_module": "@jupyter-widgets/controls",
            "_view_module_version": "1.5.0",
            "_view_name": "HTMLView",
            "description": "",
            "description_tooltip": null,
            "layout": "IPY_MODEL_f97577c86dbf4a96a5c62bcbb6340df1",
            "placeholder": "​",
            "style": "IPY_MODEL_35e25ee9213b4fa387a9287a9d14200c",
            "value": "Map: 100%"
          }
        },
        "57e8cdaef08c402aaab9ee91c27c02c6": {
          "model_module": "@jupyter-widgets/controls",
          "model_name": "FloatProgressModel",
          "model_module_version": "1.5.0",
          "state": {
            "_dom_classes": [],
            "_model_module": "@jupyter-widgets/controls",
            "_model_module_version": "1.5.0",
            "_model_name": "FloatProgressModel",
            "_view_count": null,
            "_view_module": "@jupyter-widgets/controls",
            "_view_module_version": "1.5.0",
            "_view_name": "ProgressView",
            "bar_style": "success",
            "description": "",
            "description_tooltip": null,
            "layout": "IPY_MODEL_b1ec7d8d6bd9424592258a21dd946efd",
            "max": 1040,
            "min": 0,
            "orientation": "horizontal",
            "style": "IPY_MODEL_add699cab9f1489a83e9c77041a10709",
            "value": 1040
          }
        },
        "8e6eef2cbddc4bea8feedd62c2ff4bfe": {
          "model_module": "@jupyter-widgets/controls",
          "model_name": "HTMLModel",
          "model_module_version": "1.5.0",
          "state": {
            "_dom_classes": [],
            "_model_module": "@jupyter-widgets/controls",
            "_model_module_version": "1.5.0",
            "_model_name": "HTMLModel",
            "_view_count": null,
            "_view_module": "@jupyter-widgets/controls",
            "_view_module_version": "1.5.0",
            "_view_name": "HTMLView",
            "description": "",
            "description_tooltip": null,
            "layout": "IPY_MODEL_585aff734783439c87b3d423f3dd4e07",
            "placeholder": "​",
            "style": "IPY_MODEL_ac480c6be00049f7aecc1dbac57f7ebb",
            "value": " 1040/1040 [00:00&lt;00:00, 1251.03 examples/s]"
          }
        },
        "0b4c6b78f62f493fb0552722934f1513": {
          "model_module": "@jupyter-widgets/base",
          "model_name": "LayoutModel",
          "model_module_version": "1.2.0",
          "state": {
            "_model_module": "@jupyter-widgets/base",
            "_model_module_version": "1.2.0",
            "_model_name": "LayoutModel",
            "_view_count": null,
            "_view_module": "@jupyter-widgets/base",
            "_view_module_version": "1.2.0",
            "_view_name": "LayoutView",
            "align_content": null,
            "align_items": null,
            "align_self": null,
            "border": null,
            "bottom": null,
            "display": null,
            "flex": null,
            "flex_flow": null,
            "grid_area": null,
            "grid_auto_columns": null,
            "grid_auto_flow": null,
            "grid_auto_rows": null,
            "grid_column": null,
            "grid_gap": null,
            "grid_row": null,
            "grid_template_areas": null,
            "grid_template_columns": null,
            "grid_template_rows": null,
            "height": null,
            "justify_content": null,
            "justify_items": null,
            "left": null,
            "margin": null,
            "max_height": null,
            "max_width": null,
            "min_height": null,
            "min_width": null,
            "object_fit": null,
            "object_position": null,
            "order": null,
            "overflow": null,
            "overflow_x": null,
            "overflow_y": null,
            "padding": null,
            "right": null,
            "top": null,
            "visibility": null,
            "width": null
          }
        },
        "f97577c86dbf4a96a5c62bcbb6340df1": {
          "model_module": "@jupyter-widgets/base",
          "model_name": "LayoutModel",
          "model_module_version": "1.2.0",
          "state": {
            "_model_module": "@jupyter-widgets/base",
            "_model_module_version": "1.2.0",
            "_model_name": "LayoutModel",
            "_view_count": null,
            "_view_module": "@jupyter-widgets/base",
            "_view_module_version": "1.2.0",
            "_view_name": "LayoutView",
            "align_content": null,
            "align_items": null,
            "align_self": null,
            "border": null,
            "bottom": null,
            "display": null,
            "flex": null,
            "flex_flow": null,
            "grid_area": null,
            "grid_auto_columns": null,
            "grid_auto_flow": null,
            "grid_auto_rows": null,
            "grid_column": null,
            "grid_gap": null,
            "grid_row": null,
            "grid_template_areas": null,
            "grid_template_columns": null,
            "grid_template_rows": null,
            "height": null,
            "justify_content": null,
            "justify_items": null,
            "left": null,
            "margin": null,
            "max_height": null,
            "max_width": null,
            "min_height": null,
            "min_width": null,
            "object_fit": null,
            "object_position": null,
            "order": null,
            "overflow": null,
            "overflow_x": null,
            "overflow_y": null,
            "padding": null,
            "right": null,
            "top": null,
            "visibility": null,
            "width": null
          }
        },
        "35e25ee9213b4fa387a9287a9d14200c": {
          "model_module": "@jupyter-widgets/controls",
          "model_name": "DescriptionStyleModel",
          "model_module_version": "1.5.0",
          "state": {
            "_model_module": "@jupyter-widgets/controls",
            "_model_module_version": "1.5.0",
            "_model_name": "DescriptionStyleModel",
            "_view_count": null,
            "_view_module": "@jupyter-widgets/base",
            "_view_module_version": "1.2.0",
            "_view_name": "StyleView",
            "description_width": ""
          }
        },
        "b1ec7d8d6bd9424592258a21dd946efd": {
          "model_module": "@jupyter-widgets/base",
          "model_name": "LayoutModel",
          "model_module_version": "1.2.0",
          "state": {
            "_model_module": "@jupyter-widgets/base",
            "_model_module_version": "1.2.0",
            "_model_name": "LayoutModel",
            "_view_count": null,
            "_view_module": "@jupyter-widgets/base",
            "_view_module_version": "1.2.0",
            "_view_name": "LayoutView",
            "align_content": null,
            "align_items": null,
            "align_self": null,
            "border": null,
            "bottom": null,
            "display": null,
            "flex": null,
            "flex_flow": null,
            "grid_area": null,
            "grid_auto_columns": null,
            "grid_auto_flow": null,
            "grid_auto_rows": null,
            "grid_column": null,
            "grid_gap": null,
            "grid_row": null,
            "grid_template_areas": null,
            "grid_template_columns": null,
            "grid_template_rows": null,
            "height": null,
            "justify_content": null,
            "justify_items": null,
            "left": null,
            "margin": null,
            "max_height": null,
            "max_width": null,
            "min_height": null,
            "min_width": null,
            "object_fit": null,
            "object_position": null,
            "order": null,
            "overflow": null,
            "overflow_x": null,
            "overflow_y": null,
            "padding": null,
            "right": null,
            "top": null,
            "visibility": null,
            "width": null
          }
        },
        "add699cab9f1489a83e9c77041a10709": {
          "model_module": "@jupyter-widgets/controls",
          "model_name": "ProgressStyleModel",
          "model_module_version": "1.5.0",
          "state": {
            "_model_module": "@jupyter-widgets/controls",
            "_model_module_version": "1.5.0",
            "_model_name": "ProgressStyleModel",
            "_view_count": null,
            "_view_module": "@jupyter-widgets/base",
            "_view_module_version": "1.2.0",
            "_view_name": "StyleView",
            "bar_color": null,
            "description_width": ""
          }
        },
        "585aff734783439c87b3d423f3dd4e07": {
          "model_module": "@jupyter-widgets/base",
          "model_name": "LayoutModel",
          "model_module_version": "1.2.0",
          "state": {
            "_model_module": "@jupyter-widgets/base",
            "_model_module_version": "1.2.0",
            "_model_name": "LayoutModel",
            "_view_count": null,
            "_view_module": "@jupyter-widgets/base",
            "_view_module_version": "1.2.0",
            "_view_name": "LayoutView",
            "align_content": null,
            "align_items": null,
            "align_self": null,
            "border": null,
            "bottom": null,
            "display": null,
            "flex": null,
            "flex_flow": null,
            "grid_area": null,
            "grid_auto_columns": null,
            "grid_auto_flow": null,
            "grid_auto_rows": null,
            "grid_column": null,
            "grid_gap": null,
            "grid_row": null,
            "grid_template_areas": null,
            "grid_template_columns": null,
            "grid_template_rows": null,
            "height": null,
            "justify_content": null,
            "justify_items": null,
            "left": null,
            "margin": null,
            "max_height": null,
            "max_width": null,
            "min_height": null,
            "min_width": null,
            "object_fit": null,
            "object_position": null,
            "order": null,
            "overflow": null,
            "overflow_x": null,
            "overflow_y": null,
            "padding": null,
            "right": null,
            "top": null,
            "visibility": null,
            "width": null
          }
        },
        "ac480c6be00049f7aecc1dbac57f7ebb": {
          "model_module": "@jupyter-widgets/controls",
          "model_name": "DescriptionStyleModel",
          "model_module_version": "1.5.0",
          "state": {
            "_model_module": "@jupyter-widgets/controls",
            "_model_module_version": "1.5.0",
            "_model_name": "DescriptionStyleModel",
            "_view_count": null,
            "_view_module": "@jupyter-widgets/base",
            "_view_module_version": "1.2.0",
            "_view_name": "StyleView",
            "description_width": ""
          }
        },
        "93758309f61f47ea99a929bd73cc3d78": {
          "model_module": "@jupyter-widgets/controls",
          "model_name": "HBoxModel",
          "model_module_version": "1.5.0",
          "state": {
            "_dom_classes": [],
            "_model_module": "@jupyter-widgets/controls",
            "_model_module_version": "1.5.0",
            "_model_name": "HBoxModel",
            "_view_count": null,
            "_view_module": "@jupyter-widgets/controls",
            "_view_module_version": "1.5.0",
            "_view_name": "HBoxView",
            "box_style": "",
            "children": [
              "IPY_MODEL_95956af349ad47debb9b607be45d7049",
              "IPY_MODEL_bbf49a9b1f4443fb90cf99a38d186780",
              "IPY_MODEL_bf91402ada274e3c92228007e069b6ed"
            ],
            "layout": "IPY_MODEL_3a5aa07f44c64a3cb6d17fc0d2d6ce43"
          }
        },
        "95956af349ad47debb9b607be45d7049": {
          "model_module": "@jupyter-widgets/controls",
          "model_name": "HTMLModel",
          "model_module_version": "1.5.0",
          "state": {
            "_dom_classes": [],
            "_model_module": "@jupyter-widgets/controls",
            "_model_module_version": "1.5.0",
            "_model_name": "HTMLModel",
            "_view_count": null,
            "_view_module": "@jupyter-widgets/controls",
            "_view_module_version": "1.5.0",
            "_view_name": "HTMLView",
            "description": "",
            "description_tooltip": null,
            "layout": "IPY_MODEL_f6dcf6aceb8543bd906266758b7f03bf",
            "placeholder": "​",
            "style": "IPY_MODEL_eb3f90d3dcb4480fb4310a6314527fad",
            "value": "Map: 100%"
          }
        },
        "bbf49a9b1f4443fb90cf99a38d186780": {
          "model_module": "@jupyter-widgets/controls",
          "model_name": "FloatProgressModel",
          "model_module_version": "1.5.0",
          "state": {
            "_dom_classes": [],
            "_model_module": "@jupyter-widgets/controls",
            "_model_module_version": "1.5.0",
            "_model_name": "FloatProgressModel",
            "_view_count": null,
            "_view_module": "@jupyter-widgets/controls",
            "_view_module_version": "1.5.0",
            "_view_name": "ProgressView",
            "bar_style": "success",
            "description": "",
            "description_tooltip": null,
            "layout": "IPY_MODEL_42a71dabc7f44d389fa9588a3d0d728e",
            "max": 1040,
            "min": 0,
            "orientation": "horizontal",
            "style": "IPY_MODEL_76185145cd1e489c9489d4724b038142",
            "value": 1040
          }
        },
        "bf91402ada274e3c92228007e069b6ed": {
          "model_module": "@jupyter-widgets/controls",
          "model_name": "HTMLModel",
          "model_module_version": "1.5.0",
          "state": {
            "_dom_classes": [],
            "_model_module": "@jupyter-widgets/controls",
            "_model_module_version": "1.5.0",
            "_model_name": "HTMLModel",
            "_view_count": null,
            "_view_module": "@jupyter-widgets/controls",
            "_view_module_version": "1.5.0",
            "_view_name": "HTMLView",
            "description": "",
            "description_tooltip": null,
            "layout": "IPY_MODEL_de1b4f8540804e328c3d57e0a784e781",
            "placeholder": "​",
            "style": "IPY_MODEL_a43ec580491d4476ab74d21d705f42a0",
            "value": " 1040/1040 [00:00&lt;00:00, 2098.51 examples/s]"
          }
        },
        "3a5aa07f44c64a3cb6d17fc0d2d6ce43": {
          "model_module": "@jupyter-widgets/base",
          "model_name": "LayoutModel",
          "model_module_version": "1.2.0",
          "state": {
            "_model_module": "@jupyter-widgets/base",
            "_model_module_version": "1.2.0",
            "_model_name": "LayoutModel",
            "_view_count": null,
            "_view_module": "@jupyter-widgets/base",
            "_view_module_version": "1.2.0",
            "_view_name": "LayoutView",
            "align_content": null,
            "align_items": null,
            "align_self": null,
            "border": null,
            "bottom": null,
            "display": null,
            "flex": null,
            "flex_flow": null,
            "grid_area": null,
            "grid_auto_columns": null,
            "grid_auto_flow": null,
            "grid_auto_rows": null,
            "grid_column": null,
            "grid_gap": null,
            "grid_row": null,
            "grid_template_areas": null,
            "grid_template_columns": null,
            "grid_template_rows": null,
            "height": null,
            "justify_content": null,
            "justify_items": null,
            "left": null,
            "margin": null,
            "max_height": null,
            "max_width": null,
            "min_height": null,
            "min_width": null,
            "object_fit": null,
            "object_position": null,
            "order": null,
            "overflow": null,
            "overflow_x": null,
            "overflow_y": null,
            "padding": null,
            "right": null,
            "top": null,
            "visibility": null,
            "width": null
          }
        },
        "f6dcf6aceb8543bd906266758b7f03bf": {
          "model_module": "@jupyter-widgets/base",
          "model_name": "LayoutModel",
          "model_module_version": "1.2.0",
          "state": {
            "_model_module": "@jupyter-widgets/base",
            "_model_module_version": "1.2.0",
            "_model_name": "LayoutModel",
            "_view_count": null,
            "_view_module": "@jupyter-widgets/base",
            "_view_module_version": "1.2.0",
            "_view_name": "LayoutView",
            "align_content": null,
            "align_items": null,
            "align_self": null,
            "border": null,
            "bottom": null,
            "display": null,
            "flex": null,
            "flex_flow": null,
            "grid_area": null,
            "grid_auto_columns": null,
            "grid_auto_flow": null,
            "grid_auto_rows": null,
            "grid_column": null,
            "grid_gap": null,
            "grid_row": null,
            "grid_template_areas": null,
            "grid_template_columns": null,
            "grid_template_rows": null,
            "height": null,
            "justify_content": null,
            "justify_items": null,
            "left": null,
            "margin": null,
            "max_height": null,
            "max_width": null,
            "min_height": null,
            "min_width": null,
            "object_fit": null,
            "object_position": null,
            "order": null,
            "overflow": null,
            "overflow_x": null,
            "overflow_y": null,
            "padding": null,
            "right": null,
            "top": null,
            "visibility": null,
            "width": null
          }
        },
        "eb3f90d3dcb4480fb4310a6314527fad": {
          "model_module": "@jupyter-widgets/controls",
          "model_name": "DescriptionStyleModel",
          "model_module_version": "1.5.0",
          "state": {
            "_model_module": "@jupyter-widgets/controls",
            "_model_module_version": "1.5.0",
            "_model_name": "DescriptionStyleModel",
            "_view_count": null,
            "_view_module": "@jupyter-widgets/base",
            "_view_module_version": "1.2.0",
            "_view_name": "StyleView",
            "description_width": ""
          }
        },
        "42a71dabc7f44d389fa9588a3d0d728e": {
          "model_module": "@jupyter-widgets/base",
          "model_name": "LayoutModel",
          "model_module_version": "1.2.0",
          "state": {
            "_model_module": "@jupyter-widgets/base",
            "_model_module_version": "1.2.0",
            "_model_name": "LayoutModel",
            "_view_count": null,
            "_view_module": "@jupyter-widgets/base",
            "_view_module_version": "1.2.0",
            "_view_name": "LayoutView",
            "align_content": null,
            "align_items": null,
            "align_self": null,
            "border": null,
            "bottom": null,
            "display": null,
            "flex": null,
            "flex_flow": null,
            "grid_area": null,
            "grid_auto_columns": null,
            "grid_auto_flow": null,
            "grid_auto_rows": null,
            "grid_column": null,
            "grid_gap": null,
            "grid_row": null,
            "grid_template_areas": null,
            "grid_template_columns": null,
            "grid_template_rows": null,
            "height": null,
            "justify_content": null,
            "justify_items": null,
            "left": null,
            "margin": null,
            "max_height": null,
            "max_width": null,
            "min_height": null,
            "min_width": null,
            "object_fit": null,
            "object_position": null,
            "order": null,
            "overflow": null,
            "overflow_x": null,
            "overflow_y": null,
            "padding": null,
            "right": null,
            "top": null,
            "visibility": null,
            "width": null
          }
        },
        "76185145cd1e489c9489d4724b038142": {
          "model_module": "@jupyter-widgets/controls",
          "model_name": "ProgressStyleModel",
          "model_module_version": "1.5.0",
          "state": {
            "_model_module": "@jupyter-widgets/controls",
            "_model_module_version": "1.5.0",
            "_model_name": "ProgressStyleModel",
            "_view_count": null,
            "_view_module": "@jupyter-widgets/base",
            "_view_module_version": "1.2.0",
            "_view_name": "StyleView",
            "bar_color": null,
            "description_width": ""
          }
        },
        "de1b4f8540804e328c3d57e0a784e781": {
          "model_module": "@jupyter-widgets/base",
          "model_name": "LayoutModel",
          "model_module_version": "1.2.0",
          "state": {
            "_model_module": "@jupyter-widgets/base",
            "_model_module_version": "1.2.0",
            "_model_name": "LayoutModel",
            "_view_count": null,
            "_view_module": "@jupyter-widgets/base",
            "_view_module_version": "1.2.0",
            "_view_name": "LayoutView",
            "align_content": null,
            "align_items": null,
            "align_self": null,
            "border": null,
            "bottom": null,
            "display": null,
            "flex": null,
            "flex_flow": null,
            "grid_area": null,
            "grid_auto_columns": null,
            "grid_auto_flow": null,
            "grid_auto_rows": null,
            "grid_column": null,
            "grid_gap": null,
            "grid_row": null,
            "grid_template_areas": null,
            "grid_template_columns": null,
            "grid_template_rows": null,
            "height": null,
            "justify_content": null,
            "justify_items": null,
            "left": null,
            "margin": null,
            "max_height": null,
            "max_width": null,
            "min_height": null,
            "min_width": null,
            "object_fit": null,
            "object_position": null,
            "order": null,
            "overflow": null,
            "overflow_x": null,
            "overflow_y": null,
            "padding": null,
            "right": null,
            "top": null,
            "visibility": null,
            "width": null
          }
        },
        "a43ec580491d4476ab74d21d705f42a0": {
          "model_module": "@jupyter-widgets/controls",
          "model_name": "DescriptionStyleModel",
          "model_module_version": "1.5.0",
          "state": {
            "_model_module": "@jupyter-widgets/controls",
            "_model_module_version": "1.5.0",
            "_model_name": "DescriptionStyleModel",
            "_view_count": null,
            "_view_module": "@jupyter-widgets/base",
            "_view_module_version": "1.2.0",
            "_view_name": "StyleView",
            "description_width": ""
          }
        },
        "cd29339d49ee4cc3923105d4f72e099e": {
          "model_module": "@jupyter-widgets/controls",
          "model_name": "HBoxModel",
          "model_module_version": "1.5.0",
          "state": {
            "_dom_classes": [],
            "_model_module": "@jupyter-widgets/controls",
            "_model_module_version": "1.5.0",
            "_model_name": "HBoxModel",
            "_view_count": null,
            "_view_module": "@jupyter-widgets/controls",
            "_view_module_version": "1.5.0",
            "_view_name": "HBoxView",
            "box_style": "",
            "children": [
              "IPY_MODEL_3092ede9c1b14075b42e76866313993f",
              "IPY_MODEL_2251ad015db3443d89ba2175e744bb88",
              "IPY_MODEL_7c9c4573d769455c807a94efe5e469dd"
            ],
            "layout": "IPY_MODEL_b53fe32ef32047a0a643a90a81a6013a"
          }
        },
        "3092ede9c1b14075b42e76866313993f": {
          "model_module": "@jupyter-widgets/controls",
          "model_name": "HTMLModel",
          "model_module_version": "1.5.0",
          "state": {
            "_dom_classes": [],
            "_model_module": "@jupyter-widgets/controls",
            "_model_module_version": "1.5.0",
            "_model_name": "HTMLModel",
            "_view_count": null,
            "_view_module": "@jupyter-widgets/controls",
            "_view_module_version": "1.5.0",
            "_view_name": "HTMLView",
            "description": "",
            "description_tooltip": null,
            "layout": "IPY_MODEL_8771c515b0ac487da22b26a07d155fc8",
            "placeholder": "​",
            "style": "IPY_MODEL_44c9b3af7c114d9eb0d438e5fd14266b",
            "value": "model.safetensors: 100%"
          }
        },
        "2251ad015db3443d89ba2175e744bb88": {
          "model_module": "@jupyter-widgets/controls",
          "model_name": "FloatProgressModel",
          "model_module_version": "1.5.0",
          "state": {
            "_dom_classes": [],
            "_model_module": "@jupyter-widgets/controls",
            "_model_module_version": "1.5.0",
            "_model_name": "FloatProgressModel",
            "_view_count": null,
            "_view_module": "@jupyter-widgets/controls",
            "_view_module_version": "1.5.0",
            "_view_name": "ProgressView",
            "bar_style": "success",
            "description": "",
            "description_tooltip": null,
            "layout": "IPY_MODEL_f823652267bc457aac696e7b8ebf7df2",
            "max": 541795680,
            "min": 0,
            "orientation": "horizontal",
            "style": "IPY_MODEL_63c2ab10eb52448193d23e230a433c49",
            "value": 541795680
          }
        },
        "7c9c4573d769455c807a94efe5e469dd": {
          "model_module": "@jupyter-widgets/controls",
          "model_name": "HTMLModel",
          "model_module_version": "1.5.0",
          "state": {
            "_dom_classes": [],
            "_model_module": "@jupyter-widgets/controls",
            "_model_module_version": "1.5.0",
            "_model_name": "HTMLModel",
            "_view_count": null,
            "_view_module": "@jupyter-widgets/controls",
            "_view_module_version": "1.5.0",
            "_view_name": "HTMLView",
            "description": "",
            "description_tooltip": null,
            "layout": "IPY_MODEL_bacb1d8384dd439b9cb5f351725976e9",
            "placeholder": "​",
            "style": "IPY_MODEL_ae457a69188845b88c450b4eacb61194",
            "value": " 542M/542M [00:02&lt;00:00, 244MB/s]"
          }
        },
        "b53fe32ef32047a0a643a90a81a6013a": {
          "model_module": "@jupyter-widgets/base",
          "model_name": "LayoutModel",
          "model_module_version": "1.2.0",
          "state": {
            "_model_module": "@jupyter-widgets/base",
            "_model_module_version": "1.2.0",
            "_model_name": "LayoutModel",
            "_view_count": null,
            "_view_module": "@jupyter-widgets/base",
            "_view_module_version": "1.2.0",
            "_view_name": "LayoutView",
            "align_content": null,
            "align_items": null,
            "align_self": null,
            "border": null,
            "bottom": null,
            "display": null,
            "flex": null,
            "flex_flow": null,
            "grid_area": null,
            "grid_auto_columns": null,
            "grid_auto_flow": null,
            "grid_auto_rows": null,
            "grid_column": null,
            "grid_gap": null,
            "grid_row": null,
            "grid_template_areas": null,
            "grid_template_columns": null,
            "grid_template_rows": null,
            "height": null,
            "justify_content": null,
            "justify_items": null,
            "left": null,
            "margin": null,
            "max_height": null,
            "max_width": null,
            "min_height": null,
            "min_width": null,
            "object_fit": null,
            "object_position": null,
            "order": null,
            "overflow": null,
            "overflow_x": null,
            "overflow_y": null,
            "padding": null,
            "right": null,
            "top": null,
            "visibility": null,
            "width": null
          }
        },
        "8771c515b0ac487da22b26a07d155fc8": {
          "model_module": "@jupyter-widgets/base",
          "model_name": "LayoutModel",
          "model_module_version": "1.2.0",
          "state": {
            "_model_module": "@jupyter-widgets/base",
            "_model_module_version": "1.2.0",
            "_model_name": "LayoutModel",
            "_view_count": null,
            "_view_module": "@jupyter-widgets/base",
            "_view_module_version": "1.2.0",
            "_view_name": "LayoutView",
            "align_content": null,
            "align_items": null,
            "align_self": null,
            "border": null,
            "bottom": null,
            "display": null,
            "flex": null,
            "flex_flow": null,
            "grid_area": null,
            "grid_auto_columns": null,
            "grid_auto_flow": null,
            "grid_auto_rows": null,
            "grid_column": null,
            "grid_gap": null,
            "grid_row": null,
            "grid_template_areas": null,
            "grid_template_columns": null,
            "grid_template_rows": null,
            "height": null,
            "justify_content": null,
            "justify_items": null,
            "left": null,
            "margin": null,
            "max_height": null,
            "max_width": null,
            "min_height": null,
            "min_width": null,
            "object_fit": null,
            "object_position": null,
            "order": null,
            "overflow": null,
            "overflow_x": null,
            "overflow_y": null,
            "padding": null,
            "right": null,
            "top": null,
            "visibility": null,
            "width": null
          }
        },
        "44c9b3af7c114d9eb0d438e5fd14266b": {
          "model_module": "@jupyter-widgets/controls",
          "model_name": "DescriptionStyleModel",
          "model_module_version": "1.5.0",
          "state": {
            "_model_module": "@jupyter-widgets/controls",
            "_model_module_version": "1.5.0",
            "_model_name": "DescriptionStyleModel",
            "_view_count": null,
            "_view_module": "@jupyter-widgets/base",
            "_view_module_version": "1.2.0",
            "_view_name": "StyleView",
            "description_width": ""
          }
        },
        "f823652267bc457aac696e7b8ebf7df2": {
          "model_module": "@jupyter-widgets/base",
          "model_name": "LayoutModel",
          "model_module_version": "1.2.0",
          "state": {
            "_model_module": "@jupyter-widgets/base",
            "_model_module_version": "1.2.0",
            "_model_name": "LayoutModel",
            "_view_count": null,
            "_view_module": "@jupyter-widgets/base",
            "_view_module_version": "1.2.0",
            "_view_name": "LayoutView",
            "align_content": null,
            "align_items": null,
            "align_self": null,
            "border": null,
            "bottom": null,
            "display": null,
            "flex": null,
            "flex_flow": null,
            "grid_area": null,
            "grid_auto_columns": null,
            "grid_auto_flow": null,
            "grid_auto_rows": null,
            "grid_column": null,
            "grid_gap": null,
            "grid_row": null,
            "grid_template_areas": null,
            "grid_template_columns": null,
            "grid_template_rows": null,
            "height": null,
            "justify_content": null,
            "justify_items": null,
            "left": null,
            "margin": null,
            "max_height": null,
            "max_width": null,
            "min_height": null,
            "min_width": null,
            "object_fit": null,
            "object_position": null,
            "order": null,
            "overflow": null,
            "overflow_x": null,
            "overflow_y": null,
            "padding": null,
            "right": null,
            "top": null,
            "visibility": null,
            "width": null
          }
        },
        "63c2ab10eb52448193d23e230a433c49": {
          "model_module": "@jupyter-widgets/controls",
          "model_name": "ProgressStyleModel",
          "model_module_version": "1.5.0",
          "state": {
            "_model_module": "@jupyter-widgets/controls",
            "_model_module_version": "1.5.0",
            "_model_name": "ProgressStyleModel",
            "_view_count": null,
            "_view_module": "@jupyter-widgets/base",
            "_view_module_version": "1.2.0",
            "_view_name": "StyleView",
            "bar_color": null,
            "description_width": ""
          }
        },
        "bacb1d8384dd439b9cb5f351725976e9": {
          "model_module": "@jupyter-widgets/base",
          "model_name": "LayoutModel",
          "model_module_version": "1.2.0",
          "state": {
            "_model_module": "@jupyter-widgets/base",
            "_model_module_version": "1.2.0",
            "_model_name": "LayoutModel",
            "_view_count": null,
            "_view_module": "@jupyter-widgets/base",
            "_view_module_version": "1.2.0",
            "_view_name": "LayoutView",
            "align_content": null,
            "align_items": null,
            "align_self": null,
            "border": null,
            "bottom": null,
            "display": null,
            "flex": null,
            "flex_flow": null,
            "grid_area": null,
            "grid_auto_columns": null,
            "grid_auto_flow": null,
            "grid_auto_rows": null,
            "grid_column": null,
            "grid_gap": null,
            "grid_row": null,
            "grid_template_areas": null,
            "grid_template_columns": null,
            "grid_template_rows": null,
            "height": null,
            "justify_content": null,
            "justify_items": null,
            "left": null,
            "margin": null,
            "max_height": null,
            "max_width": null,
            "min_height": null,
            "min_width": null,
            "object_fit": null,
            "object_position": null,
            "order": null,
            "overflow": null,
            "overflow_x": null,
            "overflow_y": null,
            "padding": null,
            "right": null,
            "top": null,
            "visibility": null,
            "width": null
          }
        },
        "ae457a69188845b88c450b4eacb61194": {
          "model_module": "@jupyter-widgets/controls",
          "model_name": "DescriptionStyleModel",
          "model_module_version": "1.5.0",
          "state": {
            "_model_module": "@jupyter-widgets/controls",
            "_model_module_version": "1.5.0",
            "_model_name": "DescriptionStyleModel",
            "_view_count": null,
            "_view_module": "@jupyter-widgets/base",
            "_view_module_version": "1.2.0",
            "_view_name": "StyleView",
            "description_width": ""
          }
        }
      }
    }
  },
  "cells": [
    {
      "cell_type": "markdown",
      "metadata": {
        "id": "H9wADwK78DCz"
      },
      "source": [
        "# Proyek Klasifikasi Text: [Klasifikasi Emosi]\n",
        "- ID team capstone :LAI25-SM061\n"
      ]
    },
    {
      "cell_type": "markdown",
      "source": [
        "Proyek ini bertujuan untuk mengembangkan model klasifikasi emosi berbasis teks dalam bahasa Indonesia menggunakan pendekatan hybrid yang menggabungkan model DistilBERT pre-trained dengan fitur berbasis TF-IDF dan model Logistic Regression dari scikit-learn untuk mengidentifikasi empat kelas emosi: happy, sadness, fear, dan stress. Dataset dikumpulkan dari berbagai sumber publik (happy_db, train.txt, val.txt, test.txt, stress_dataset.txt, dan dataset_negatif.txt) serta diperkaya dengan augmentasi data manual untuk menyeimbangkan distribusi kelas. Pendekatan hybrid ini dirancang untuk meningkatkan akurasi prediksi, terutama pada teks dengan konteks budaya lokal Indonesia, dengan memanfaatkan kekuatan konteks semantik DistilBERT dan pola frekuensi kata dari TF-IDF. Model DistilBERT dioptimalkan untuk deployment pada perangkat mobile melalui konversi ke format TFLite, sementara model hybrid memberikan alternatif ringan untuk inferensi cepat."
      ],
      "metadata": {
        "id": "AlXU2rZ1O_nO"
      }
    },
    {
      "cell_type": "markdown",
      "source": [
        "Model utama menggunakan DistilBERT pre-trained (distilbert-base-multilingual-cased) dari Hugging Face, dipilih karena kemampuan multibahasanya yang mendukung bahasa Indonesia dan ukurannya yang lebih ringan dibandingkan BERT standar, menjadikannya ideal untuk aplikasi mobile. Pendekatan hybrid melengkapi DistilBERT dengan Logistic Regression yang memanfaatkan logits DistilBERT dan fitur TF-IDF, menggantikan penyesuaian logits berbasis kata kunci dengan model yang terlatih secara otomatis untuk generalisasi yang lebih baik.\n",
        "\n",
        "Berikut adalah detail perubahan, tuning, dan pengembangan yang dilakukan pada model:\n",
        "\n",
        "1) Fine-Tuning Model DistilBERT:\n",
        "- Model DistilBERT diinisialisasi dengan bobot pre-trained dan di-fine-tune untuk tugas klasifikasi empat kelas emosi (happy, sadness, fear, stress).\n",
        "\n",
        "- Dataset dikombinasikan dari sumber eksternal dan augmentasi manual untuk memperkaya representasi kelas. Augmentasi mencakup 42 sampel untuk happy, 21 untuk fear, 12 untuk sadness, dan 25 untuk stress, menangani ketidakseimbangan kelas.\n",
        "\n",
        "- Penyeimbangan data dilakukan dengan mengambil 2600 sampel per kelas menggunakan undersampling untuk kelas happy dan augmentasi untuk kelas lain, memastikan distribusi yang merata.\n",
        "\n",
        "2) Custom Focal Loss:\n",
        "- Mengimplementasikan CustomTrainer dengan focal loss untuk menangani ketidakseimbangan kelas dan meningkatkan fokus pada sampel yang sulit diklasifikasikan. Parameter focal loss:\n",
        "  - Alpha: [6.0, 3.0, 4.0, 0.01] untuk memberikan bobot lebih pada kelas happy, sadness, dan fear, serta bobot rendah pada stress untuk mengurangi bias prediksi terhadap kelas ini.\n",
        "\n",
        "  - Gamma: 3.0 untuk memperkuat fokus pada sampel dengan prediksi yang kurang akurat.\n",
        "\n",
        "- Pendekatan ini meningkatkan sensitivitas model terhadap kelas minoritas dan mengurangi overfitting pada kelas mayoritas.\n",
        "\n",
        "3) Hyperparameter Tuning:\n",
        "- TrainingArguments disesuaikan untuk optimasi pelatihan:\n",
        "  - Jumlah epoch: 10.\n",
        "\n",
        "  - Batch size: 8, dengan gradient accumulation steps = 4 untuk mensimulasikan batch size lebih besar.\n",
        "\n",
        "  - Learning rate: 3e-5 dengan cosine scheduler untuk penyesuaian laju pembelajaran yang halus.\n",
        "\n",
        "  - Warmup steps: 200 untuk stabilisasi pelatihan awal.\n",
        "\n",
        "  - Weight decay: 0.1 untuk regularisasi guna mencegah overfitting.\n",
        "\n",
        "  - Early stopping dengan patience 5 berdasarkan metrik F1-score untuk menghentikan pelatihan saat performa tidak meningkat.\n",
        "\n",
        "  - Mixed precision training (fp16) digunakan jika GPU tersedia untuk meningkatkan efisiensi komputasi.\n",
        "\n",
        "4) Preprocessing dan Tokenisasi:\n",
        "- Tokenizer DistilBERT digunakan dengan parameter max_length=128, padding, dan truncation untuk menyesuaikan panjang teks.\n",
        "\n",
        "- Dataset dikonversi ke format PyTorch dengan kolom input_ids, attention_mask, labels, dan text untuk mendukung pelatihan dan ekstraksi fitur hybrid. Kolom text dipertahankan untuk keperluan ekstraksi TF-IDF dan logits.\n",
        "\n",
        "5) Pendekatan Hybrid dengan Logistic Regression:\n",
        "- Menggantikan penyesuaian logits berbasis kata kunci dengan pendekatan hybrid yang lebih terstruktur:\n",
        "  - Logits DistilBERT diekstrak untuk setiap teks sebagai representasi konteks semantik.\n",
        "\n",
        "  - Fitur TF-IDF dihasilkan menggunakan TfidfVectorizer (max_features=5000) untuk menangkap pola frekuensi kata, mirip dengan logika kata kunci tetapi lebih skalabel.\n",
        "\n",
        "  - Fitur gabungan (logits + TF-IDF) digunakan untuk melatih model Logistic Regression (multi_class='multinomial', C=1.0, max_iter=1000), yang mempelajari bobot optimal untuk prediksi.\n",
        "\n",
        "- Pendekatan ini meningkatkan generalisasi dibandingkan aturan kata kunci manual, terutama untuk teks dengan variasi bahasa atau frasa budaya lokal (misalnya, \"hati kecilku\").\n",
        "\n",
        "- Model hybrid lebih ringan untuk inferensi dibandingkan DistilBERT penuh, cocok untuk lingkungan dengan sumber daya terbatas.\n",
        "\n",
        "6) Konversi ke TFLite:\n",
        "- Model DistilBERT dikonversi dari format PyTorch ke TensorFlow menggunakan TFDistilBertForSequenceClassification.\n",
        "\n",
        "- Model disimpan sebagai SavedModel dan dikonversi ke format TFLite untuk deployment di perangkat mobile.\n",
        "\n",
        "- Tokenizer disimpan terpisah untuk mendukung inferensi di aplikasi mobile.\n",
        "\n",
        "- Inferensi TFLite divalidasi pada teks uji untuk memastikan fungsionalitas model setelah konversi.\n",
        "\n",
        "7) Evaluasi dan Visualisasi:\n",
        "- Model hybrid dan DistilBERT murni dievaluasi menggunakan metrik accuracy dan F1-score (weighted) pada dataset validasi dan pengujian.\n",
        "\n",
        "- Classification report dihasilkan untuk menganalisis precision, recall, dan F1-score per kelas.\n",
        "\n",
        "- Confusion matrix divisualisasikan menggunakan Seaborn untuk memahami pola kesalahan prediksi, memungkinkan perbandingan performa antara model hybrid dan DistilBERT murni.\n",
        "\n",
        "- Visualisasi EDA (histogram panjang teks, box plot, dan count plot) dilakukan untuk memahami distribusi data sebelum pelatihan.\n",
        "\n",
        "\n",
        "\n",
        "\n"
      ],
      "metadata": {
        "id": "_MKejyOgPFnS"
      }
    },
    {
      "cell_type": "markdown",
      "metadata": {
        "id": "H-z4QGlO8DC1"
      },
      "source": [
        "## Import Semua Packages/Library yang Digunakan"
      ]
    },
    {
      "cell_type": "markdown",
      "source": [
        "Mengimpor semua pustaka dan dependensi yang diperlukan untuk proyek. Pertama, perintah !pip install digunakan untuk menginstal versi spesifik dari pustaka seperti transformers, datasets, torch, dan lainnya secara diam-diam (-q). Kemudian, pustaka seperti pandas, numpy, requests, dan lainnya diimpor untuk pengolahan data, pengukuran metrik, dan visualisasi. Pustaka transformers digunakan untuk model DistilBERT, torch untuk pelatihan model berbasis PyTorch, dan tensorflow untuk konversi model ke format TFLite. Objek GoogleTranslator diinisialisasi untuk menerjemahkan teks dari bahasa Indonesia ke Inggris.\n",
        "\n"
      ],
      "metadata": {
        "id": "BtkfI0eE8eqe"
      }
    },
    {
      "cell_type": "markdown",
      "source": [
        "### 1.1 Instalasi depedensi"
      ],
      "metadata": {
        "id": "Jib7S39g8EPH"
      }
    },
    {
      "cell_type": "code",
      "execution_count": null,
      "metadata": {
        "id": "FVYwaObI8DC1"
      },
      "outputs": [],
      "source": [
        "!pip install transformers==4.44.2 datasets==2.20.0 torch==2.3.1 deep-translator==1.11.4 pandas==2.2.2 scikit-learn==1.5.1 numpy==1.26.4 matplotlib==3.9.2 seaborn==0.13.2 wordcloud==1.9.3 -q\n"
      ]
    },
    {
      "cell_type": "markdown",
      "source": [
        "\n",
        "### 1.2 Impor library"
      ],
      "metadata": {
        "id": "qGdtLzDB8MVD"
      }
    },
    {
      "cell_type": "code",
      "source": [
        "import pandas as pd\n",
        "import numpy as np\n",
        "import requests\n",
        "from sklearn.feature_extraction.text import TfidfVectorizer\n",
        "from sklearn.linear_model import LogisticRegression\n",
        "from sklearn.metrics import classification_report, confusion_matrix, f1_score\n",
        "from transformers import DistilBertTokenizer, DistilBertForSequenceClassification, Trainer, TrainingArguments, EarlyStoppingCallback, TFDistilBertForSequenceClassification\n",
        "from datasets import Dataset\n",
        "import torch\n",
        "import os\n",
        "import matplotlib.pyplot as plt\n",
        "import seaborn as sns\n",
        "from deep_translator import GoogleTranslator\n",
        "import tensorflow as tf\n",
        "import re\n",
        "from collections import Counter\n",
        "from wordcloud import WordCloud"
      ],
      "metadata": {
        "id": "O2DOwCGQ8OFC"
      },
      "execution_count": null,
      "outputs": []
    },
    {
      "cell_type": "markdown",
      "source": [
        "\n",
        "### 1.3 Inisialisasi translator"
      ],
      "metadata": {
        "id": "BeWNXXS18P2h"
      }
    },
    {
      "cell_type": "code",
      "source": [
        "translator = GoogleTranslator(source='id', target='en')"
      ],
      "metadata": {
        "id": "L_3fvnmu8TPh"
      },
      "execution_count": null,
      "outputs": []
    },
    {
      "cell_type": "markdown",
      "metadata": {
        "id": "HHekw29KX4XQ"
      },
      "source": [
        "## Data Loading"
      ]
    },
    {
      "cell_type": "markdown",
      "source": [
        "Pengambilan dan penggabungan dataset dari berbagai sumber daring. Dataset utama diambil dari URL yang menyediakan data teks berlabel emosi (happy, sadness, fear, stress). Dataset happy_db diambil dari file CSV dan hanya kolom cleaned_hm yang digunakan, dengan label 'happy'. Fungsi load_emotions_dataset dan load_stress_dataset memproses file teks dengan format khusus (teks dan label dipisahkan oleh tanda ';') untuk membuat DataFrame. Dataset dari berbagai sumber (train, validation, test, negatif, dan stress) digabungkan menjadi satu DataFrame data_df dengan kolom text dan label. Langkah ini memastikan semua data tersedia dalam format yang konsisten untuk pemrosesan lebih lanjut.\n",
        "\n"
      ],
      "metadata": {
        "id": "f384_pTX9DFq"
      }
    },
    {
      "cell_type": "code",
      "execution_count": null,
      "metadata": {
        "id": "wIcv1F9fX4XQ"
      },
      "outputs": [],
      "source": [
        "happy_db_url = 'https://raw.githubusercontent.com/Sidqiamn/Dataset_Capstone_LaskarAI/refs/heads/master/cleaned_hm.csv'\n",
        "happy_db = pd.read_csv(happy_db_url)\n",
        "happy_db = happy_db[['cleaned_hm']].dropna()\n",
        "happy_db['label'] = 'happy'\n",
        "\n",
        "def load_emotions_dataset(url):\n",
        "    response = requests.get(url)\n",
        "    data = []\n",
        "    for line in response.text.splitlines():\n",
        "        if line:\n",
        "            text, label = line.strip().split(';')\n",
        "            if label == 'joy':\n",
        "                data.append({'text': text, 'label': 'happy'})\n",
        "            elif label == 'sadness':\n",
        "                data.append({'text': text, 'label': 'sadness'})\n",
        "            elif label == 'fear':\n",
        "                data.append({'text': text, 'label': 'fear'})\n",
        "    return pd.DataFrame(data)\n",
        "\n",
        "def load_stress_dataset(url):\n",
        "    response = requests.get(url)\n",
        "    data = []\n",
        "    for line in response.text.splitlines():\n",
        "        if line:\n",
        "            text, label = line.strip().split(';')\n",
        "            if label == 'stress':\n",
        "                data.append({'text': text, 'label': 'stress'})\n",
        "    return pd.DataFrame(data)\n",
        "\n",
        "train_url = 'https://raw.githubusercontent.com/Sidqiamn/Dataset_Capstone_LaskarAI/refs/heads/master/train.txt'\n",
        "val_url = 'https://raw.githubusercontent.com/Sidqiamn/Dataset_Capstone_LaskarAI/refs/heads/master/val.txt'\n",
        "test_url = 'https://raw.githubusercontent.com/Sidqiamn/Dataset_Capstone_LaskarAI/refs/heads/master/test.txt'\n",
        "stress_url = 'https://raw.githubusercontent.com/Sidqiamn/Dataset_Capstone_LaskarAI/refs/heads/master/stress_dataset.txt'\n",
        "negatif_url = 'https://raw.githubusercontent.com/Sidqiamn/Dataset_Capstone_LaskarAI/refs/heads/master/dataset_negatif.txt'\n",
        "\n",
        "train_df = load_emotions_dataset(train_url)\n",
        "val_df = load_emotions_dataset(val_url)\n",
        "test_df = load_emotions_dataset(test_url)\n",
        "stress_df = load_stress_dataset(stress_url)\n",
        "negatif_df = load_emotions_dataset(negatif_url)\n",
        "\n",
        "happy_db = happy_db.rename(columns={'cleaned_hm': 'text'})\n",
        "data_df = pd.concat([happy_db[['text', 'label']], train_df, val_df, test_df, negatif_df, stress_df], ignore_index=True)\n"
      ]
    },
    {
      "cell_type": "markdown",
      "source": [
        "## 2. EDA"
      ],
      "metadata": {
        "id": "Y9ECq3gs_3d5"
      }
    },
    {
      "cell_type": "markdown",
      "source": [
        "### 2.1 beberapa baris pertama dataset"
      ],
      "metadata": {
        "id": "1qQV-Ry2ADXG"
      }
    },
    {
      "cell_type": "code",
      "source": [
        "print(\"Beberapa Baris Pertama Dataset:\")\n",
        "print(data_df.head())"
      ],
      "metadata": {
        "id": "tZmvVEQr_-e9",
        "colab": {
          "base_uri": "https://localhost:8080/"
        },
        "outputId": "419284ab-d806-400b-eb29-9a05743d11dd"
      },
      "execution_count": null,
      "outputs": [
        {
          "output_type": "stream",
          "name": "stdout",
          "text": [
            "Beberapa Baris Pertama Dataset:\n",
            "                                                text  label\n",
            "0  I went on a successful date with someone I fel...  happy\n",
            "1  I was happy when my son got 90% marks in his e...  happy\n",
            "2       I went to the gym this morning and did yoga.  happy\n",
            "3  We had a serious talk with some friends of our...  happy\n",
            "4  I went with grandchildren to butterfly display...  happy\n"
          ]
        }
      ]
    },
    {
      "cell_type": "markdown",
      "source": [
        "\n",
        "### 2.2 Informasi dataset"
      ],
      "metadata": {
        "id": "mbEFs76gAHMa"
      }
    },
    {
      "cell_type": "code",
      "source": [
        "print(\"\\nInformasi Dataset:\")\n",
        "print(data_df.info())"
      ],
      "metadata": {
        "id": "1Y2zS6B6AM0r",
        "colab": {
          "base_uri": "https://localhost:8080/"
        },
        "outputId": "8cf08b1c-3f1b-416e-821d-1c1bdb8dde20"
      },
      "execution_count": null,
      "outputs": [
        {
          "output_type": "stream",
          "name": "stdout",
          "text": [
            "\n",
            "Informasi Dataset:\n",
            "<class 'pandas.core.frame.DataFrame'>\n",
            "RangeIndex: 118562 entries, 0 to 118561\n",
            "Data columns (total 2 columns):\n",
            " #   Column  Non-Null Count   Dtype \n",
            "---  ------  --------------   ----- \n",
            " 0   text    118562 non-null  object\n",
            " 1   label   118562 non-null  object\n",
            "dtypes: object(2)\n",
            "memory usage: 1.8+ MB\n",
            "None\n"
          ]
        }
      ]
    },
    {
      "cell_type": "markdown",
      "source": [
        "### 2.3 Statistik deskriptif"
      ],
      "metadata": {
        "id": "CX6yKbEsAO0h"
      }
    },
    {
      "cell_type": "code",
      "source": [
        "print(\"\\nStatistik Deskriptif Label:\")\n",
        "print(data_df['label'].value_counts())"
      ],
      "metadata": {
        "id": "O_nyoS6kAR6p",
        "colab": {
          "base_uri": "https://localhost:8080/"
        },
        "outputId": "af4ae3b5-99fa-44c6-dade-e35202c14a9c"
      },
      "execution_count": null,
      "outputs": [
        {
          "output_type": "stream",
          "name": "stdout",
          "text": [
            "\n",
            "Statistik Deskriptif Label:\n",
            "label\n",
            "happy      107296\n",
            "sadness      6034\n",
            "stress       2622\n",
            "fear         2610\n",
            "Name: count, dtype: int64\n"
          ]
        }
      ]
    },
    {
      "cell_type": "markdown",
      "source": [
        "### 2.4 Analisis panjang teks"
      ],
      "metadata": {
        "id": "x3btLmXeAdsd"
      }
    },
    {
      "cell_type": "code",
      "source": [
        "data_df['text_length'] = data_df['text'].apply(lambda x: len(x.split()))\n",
        "print(\"\\nStatistik Panjang Teks (Jumlah Kata):\")\n",
        "print(data_df['text_length'].describe())"
      ],
      "metadata": {
        "id": "5J6qgeQNAfUy",
        "colab": {
          "base_uri": "https://localhost:8080/"
        },
        "outputId": "0a9e021c-edda-42b4-bbb5-379f4aaf551d"
      },
      "execution_count": null,
      "outputs": [
        {
          "output_type": "stream",
          "name": "stdout",
          "text": [
            "\n",
            "Statistik Panjang Teks (Jumlah Kata):\n",
            "count    118562.000000\n",
            "mean         18.111925\n",
            "std          20.219233\n",
            "min           2.000000\n",
            "25%           9.000000\n",
            "50%          14.000000\n",
            "75%          21.000000\n",
            "max        1179.000000\n",
            "Name: text_length, dtype: float64\n"
          ]
        }
      ]
    },
    {
      "cell_type": "markdown",
      "source": [
        "### 2.5 Visualisasi distribusi panjang teks per kelas"
      ],
      "metadata": {
        "id": "OYdLev60Aguf"
      }
    },
    {
      "cell_type": "code",
      "source": [
        "plt.figure(figsize=(10, 6))\n",
        "sns.histplot(data=data_df, x='text_length', hue='label', multiple='stack', bins=30)\n",
        "plt.title('Distribusi Panjang Teks per Kelas Emosi')\n",
        "plt.xlabel('Panjang Teks (Jumlah Kata)')\n",
        "plt.ylabel('Frekuensi')\n",
        "plt.show()"
      ],
      "metadata": {
        "id": "dKtvXgdfAmG6",
        "colab": {
          "base_uri": "https://localhost:8080/",
          "height": 564
        },
        "outputId": "d1284941-764f-45c5-8250-96a0a3a60841"
      },
      "execution_count": null,
      "outputs": [
        {
          "output_type": "display_data",
          "data": {
            "text/plain": [
              "<Figure size 1000x600 with 1 Axes>"
            ],
            "image/png": "[encoded data removed]"
          },
          "metadata": {}
        }
      ]
    },
    {
      "cell_type": "markdown",
      "source": [
        "Visualisasi tersebut menunjukkan distribusi panjang teks berdasarkan jumlah kata untuk setiap kelas emosi dalam dataset, yaitu happy, sadness, fear, dan stress. Dari grafik terlihat bahwa sebagian besar teks memiliki panjang dengan mayoritas berada pada rentang kurang dari 100 kata. Kelas \"happy\" mendominasi jumlah data dengan frekuensi yang sangat tinggi dibandingkan kelas lainnya, terlihat dari tingginya batang berwarna biru. Sebaliknya, kelas \"sadness\", \"fear\", dan \"stress\" memiliki jumlah data yang jauh lebih sedikit. Pola ini menunjukkan adanya ketidakseimbangan distribusi panjang teks dan jumlah data antar kelas, yang perlu diperhatikan dalam proses pelatihan model, misalnya dengan teknik penyeimbangan kelas atau penyesuaian bobot loss. Distribusi ini juga memberikan gambaran penting untuk menentukan batas maksimum panjang input."
      ],
      "metadata": {
        "id": "-Fd7_AvRQ92x"
      }
    },
    {
      "cell_type": "markdown",
      "source": [
        "### 2.6 Box plot untuk panjang teks per *kelas*"
      ],
      "metadata": {
        "id": "xNd5WjiXAnwM"
      }
    },
    {
      "cell_type": "code",
      "source": [
        "plt.figure(figsize=(10, 6))\n",
        "sns.boxplot(x='label', y='text_length', data=data_df, order=['happy', 'sadness', 'fear', 'stress'])\n",
        "plt.title('Box Plot Panjang Teks per Kelas Emosi')\n",
        "plt.xlabel('Kelas Emosi')\n",
        "plt.ylabel('Panjang Teks (Jumlah Kata)')\n",
        "plt.show()"
      ],
      "metadata": {
        "id": "uYzr8ekzAqhI",
        "colab": {
          "base_uri": "https://localhost:8080/",
          "height": 564
        },
        "outputId": "a39a296a-fd81-4124-d923-bf4b190bbfd1"
      },
      "execution_count": null,
      "outputs": [
        {
          "output_type": "display_data",
          "data": {
            "text/plain": [
              "<Figure size 1000x600 with 1 Axes>"
            ],
            "image/png": "[encoded data removed]"
          },
          "metadata": {}
        }
      ]
    },
    {
      "cell_type": "markdown",
      "source": [
        "Visualisasi box plot tersebut menggambarkan distribusi panjang teks (dalam jumlah kata) untuk masing-masing kelas emosi: *happy*, *sadness*, *fear*, dan *stress*. Dari grafik terlihat bahwa kelas *happy* memiliki rentang panjang teks yang paling besar dengan banyak outlier, bahkan ada teks yang panjangnya lebih dari 1000 kata. Ini menandakan bahwa kelas ini sangat bervariasi dalam panjang teks, dengan sebagian besar data berada pada rentang pendek, namun juga memiliki sejumlah teks yang sangat panjang. Sebaliknya, kelas *sadness*, *fear*, dan *stress* memiliki panjang teks yang lebih seragam dan cenderung pendek, dengan hanya sedikit outlier. Median panjang teks untuk semua kelas berada pada kisaran rendah (sekitar 10–20 kata), yang menegaskan bahwa sebagian besar teks dalam dataset ini relatif pendek."
      ],
      "metadata": {
        "id": "2geSAH5mRWk8"
      }
    },
    {
      "cell_type": "markdown",
      "source": [
        "### 2.7 Visualisasi distribusi kelas"
      ],
      "metadata": {
        "id": "Nm_mTnCbAXvi"
      }
    },
    {
      "cell_type": "code",
      "source": [
        "\n",
        "plt.figure(figsize=(8, 6))\n",
        "sns.countplot(x='label', data=data_df, order=['happy', 'sadness', 'fear', 'stress'])\n",
        "plt.title('Distribusi Kelas Emosi')\n",
        "plt.xlabel('Kelas Emosi')\n",
        "plt.ylabel('Jumlah')\n",
        "plt.show()"
      ],
      "metadata": {
        "id": "Hz8DdOA2AX2g",
        "colab": {
          "base_uri": "https://localhost:8080/",
          "height": 564
        },
        "outputId": "0268d847-f2de-4606-e8ca-9cd20f694a88"
      },
      "execution_count": null,
      "outputs": [
        {
          "output_type": "display_data",
          "data": {
            "text/plain": [
              "<Figure size 800x600 with 1 Axes>"
            ],
            "image/png": "[encoded data removed]"
          },
          "metadata": {}
        }
      ]
    },
    {
      "cell_type": "markdown",
      "metadata": {
        "id": "bFgLyQPHX98s"
      },
      "source": [
        "## 3. Data Preprocessing"
      ]
    },
    {
      "cell_type": "markdown",
      "source": [
        "### 3.1 Augmentasi Data untuk Kelas \"Happy\", \"Fear\", \"Sadness\", dan \"Stress\""
      ],
      "metadata": {
        "id": "nN_Kj7-G9MiA"
      }
    },
    {
      "cell_type": "code",
      "source": [
        "\n",
        "additional_happy_data = pd.DataFrame({\n",
        "    'text': [\n",
        "        \"Saya sangat senang hari ini karena lulus ujian!\",\n",
        "        \"Hati kecilku berkata bahwa semuanya akan baik-baik saja.\",\n",
        "        \"Saya bahagia bisa bertemu teman-teman lama.\",\n",
        "        \"Saya merasa gembira karena berhasil menyelesaikan proyek.\",\n",
        "        \"Hari ini sangat menyenangkan karena cuaca cerah.\",\n",
        "        \"Saya senang melihat keluarga berkumpul bersama.\",\n",
        "        \"Saya bahagia karena mendapat hadiah yang saya inginkan.\",\n",
        "        \"Saya merasa lega dan senang setelah menyelesaikan tugas.\",\n",
        "        \"Saya gembira karena libur panjang akhirnya tiba.\",\n",
        "        \"Saya sangat senang bisa berlibur bersama keluarga.\",\n",
        "        \"Saya merasa tenang setelah semua masalah selesai.\",\n",
        "        \"Semuanya terasa baik-baik saja hari ini.\",\n",
        "        \"Saya merasa damai setelah meditasi pagi ini.\",\n",
        "        \"Saya merasa sangat bersyukur atas pencapaian ini.\",\n",
        "        \"Saya bahagia karena bisa membantu orang lain.\",\n",
        "        \"Hari ini penuh dengan kebahagiaan yang tak terduga.\",\n",
        "        \"Saya merasa sukacita melihat anak-anak bermain.\",\n",
        "        \"Sidqi merasa bahagia karena berhasil mencapai tujuan saya.\",\n",
        "        \"Saya sangat gembira dengan kabar baik ini.\",\n",
        "        \"Saya merasa senang karena semua berjalan lancar.\",\n",
        "        \"Saya merasa optimis bahwa semuanya akan berjalan dengan baik.\",\n",
        "        \"Saya merasa bahagia karena bisa menghabiskan waktu dengan orang tersayang.\",\n",
        "        \"Saya merasa damai dan tenang setelah menyelesaikan semua pekerjaan.\",\n",
        "        \"Saya sangat bersyukur bisa menikmati hari yang indah ini.\",\n",
        "        \"Saya merasa senang karena semua rencana berjalan sesuai harapan.\",\n",
        "        \"Sidqi merasa sangat gembira karena berhasil menyelsaikan model klasifikasi emosi ini.\",\n",
        "        \"Saya merasa bahagia melihat orang-orang tersenyum di sekitar saya.\",\n",
        "        \"Saya merasa lega karena semua masalah akhirnya terselesaikan.\",\n",
        "        \"Saya sangat senang dengan kejutan yang diberikan teman-teman saya.\",\n",
        "        \"Saya merasa damai saat melihat matahari terbenam yang indah.\",\n",
        "        \"Saya merasa optimis bahwa masa depan akan cerah.\",\n",
        "        \"Hati saya merasa ringan setelah mendengar kabar baik.\",\n",
        "        \"Saya merasa lega karena semuanya berjalan dengan baik.\",\n",
        "        \"Saya merasa bahagia karena semua usaha saya membuahkan hasil.\",\n",
        "        \"Saya yakin semuanya akan berjalan baik.\",\n",
        "        \"Saya merasa ada harapan bahwa semua akan baik-baik saja.\",\n",
        "        \"Saya merasa optimis dengan langkah yang saya ambil.\",\n",
        "        \"Saya merasa hati saya tenang karena semua akan baik-baik saja.\",\n",
        "        \"Saya merasa yakin bahwa semuanya akan baik-baik saja.\",\n",
        "        \"Saya merasa tenang karena percaya semua akan berjalan baik.\",\n",
        "        \"Saya merasa semua akan baik-baik saja dengan usaha ini.\",\n",
        "        \"Saya merasa hati saya ringan karena yakin semua baik-baik saja.\"\n",
        "    ],\n",
        "    'label': ['happy'] * 42\n",
        "})\n",
        "\n",
        "additional_fear_data = pd.DataFrame({\n",
        "    'text': [\n",
        "        \"Saya sangat cemas menghadapi masa depan.\",\n",
        "        \"Saya takut gagal dalam ujian ini.\",\n",
        "        \"Saya gelisah menunggu hasil tes.\",\n",
        "        \"Saya khawatir tentang kesehatan keluarga.\",\n",
        "        \"Saya merasa takut berjalan sendirian di malam hari.\",\n",
        "        \"Saya cemas memikirkan apa yang akan terjadi besok.\",\n",
        "        \"Saya gelisah karena belum siap untuk presentasi.\",\n",
        "        \"Saya takut akan kegagalan di masa depan.\",\n",
        "        \"Saya sangat khawatir dengan situasi ini.\",\n",
        "        \"Saya cemas setiap kali memikirkan ujian.\",\n",
        "        \"Saya merasa takut dengan situasi yang tidak pasti.\",\n",
        "        \"Saya gelisah memikirkan hari esok.\",\n",
        "        \"Saya sangat cemas dengan hasil pekerjaan saya.\",\n",
        "        \"Saya takut tidak bisa memenuhi ekspektasi.\",\n",
        "        \"Saya khawatir jika semuanya tidak berjalan baik.\",\n",
        "        \"Saya merasa was-was dengan keputusan ini.\",\n",
        "        \"Saya takut akan hal-hal yang tidak terduga.\",\n",
        "        \"Saya merasa gugup menghadapi wawancara kerja besok.\",\n",
        "        \"Saya takut mendengar kabar buruk dari dokter.\",\n",
        "        \"Saya sangat khawatir dengan keadaan ekonomi saat ini.\",\n",
        "        \"Saya merasa cemas karena tidak tahu apa yang akan terjadi.\"\n",
        "    ],\n",
        "    'label': ['fear'] * 21\n",
        "})\n",
        "\n",
        "additional_sadness_data = pd.DataFrame({\n",
        "    'text': [\n",
        "        \"Saya merasa sedih karena kehilangan seseorang yang saya sayangi.\",\n",
        "        \"Saya merasa hampa setelah kehilangan pekerjaan.\",\n",
        "        \"Saya sedih melihat keadaan ini.\",\n",
        "        \"Saya merasa murung sepanjang hari ini.\",\n",
        "        \"Saya kehilangan semangat setelah semua yang terjadi.\",\n",
        "        \"Saya merasa kesepian tanpa teman di sisi saya.\",\n",
        "        \"Saya merasa sedih karena tidak ada yang peduli.\",\n",
        "        \"Saya merasa hampa setelah semua yang saya usahakan gagal.\",\n",
        "        \"Saya merasa putus asa karena tidak ada jalan keluar.\",\n",
        "        \"Saya merasa sedih karena semua harapan saya pupus.\",\n",
        "        \"Saya merasa sendu mengingat kenangan lama.\",\n",
        "        \"Saya merasa pilu melihat keadaan yang memprihatinkan.\"\n",
        "    ],\n",
        "    'label': ['sadness'] * 12\n",
        "})\n",
        "\n",
        "additional_stress_data = pd.DataFrame({\n",
        "    'text': [\n",
        "        \"Saya lelah menghadapi semua masalah ini.\",\n",
        "        \"Saya merasa terpuruk karena kegagalan ini.\",\n",
        "        \"Saya merasa lelah dengan semua tanggung jawab ini.\",\n",
        "        \"Saya pusing memikirkan pekerjaan yang menumpuk.\",\n",
        "        \"Saya capek karena tidak ada waktu istirahat.\",\n",
        "        \"Saya tertekan dengan tekanan di tempat kerja.\",\n",
        "        \"Saya kewalahan dengan semua tugas yang ada.\",\n",
        "        \"Saya merasa sangat stres karena pekerjaan yang menumpuk.\",\n",
        "        \"Saya tidak bisa tidur karena stres memikirkan deadline.\",\n",
        "        \"Saya stres menghadapi tekanan dari bos saya.\",\n",
        "        \"Saya merasa stres karena banyak masalah yang harus diselesaikan.\",\n",
        "        \"Saya stres karena tidak bisa mengatur waktu dengan baik.\",\n",
        "        \"Saya merasa panik karena terlalu banyak tekanan.\",\n",
        "        \"Saya sangat stres memikirkan semua tanggung jawab ini.\",\n",
        "        \"Saya merasa tertekan karena deadline yang sangat ketat.\",\n",
        "        \"Saya stres karena pekerjaan yang tidak kunjung selesai.\",\n",
        "        \"Saya panik karena tidak siap untuk presentasi besok.\",\n",
        "        \"Saya merasa sangat tertekan dengan semua beban ini.\",\n",
        "        \"Saya stres karena tidak tahu harus mulai dari mana.\",\n",
        "        \"Saya merasa panik dengan semua tugas yang menumpuk.\",\n",
        "        \"Saya sangat stres memikirkan semua tugas ini.\",\n",
        "        \"Saya merasa stres dengan semua pekerjaan yang ada.\",\n",
        "        \"Saya sangat stres karena tidak bisa menyelesaikan semua tugas tepat waktu.\",\n",
        "        \"Saya merasa stres karena semua tanggung jawab ini terlalu berat.\",\n",
        "        \"Saya sangat stres dengan semua deadline yang mendesak.\"\n",
        "    ],\n",
        "    'label': ['stress'] * 25\n",
        "})\n",
        "\n",
        "data_df = pd.concat([data_df, additional_happy_data, additional_fear_data, additional_sadness_data, additional_stress_data], ignore_index=True)\n",
        "\n"
      ],
      "metadata": {
        "id": "gcu1vz2Y9Qej"
      },
      "execution_count": null,
      "outputs": []
    },
    {
      "cell_type": "markdown",
      "source": [
        "Tujuan :\n",
        "- Meningkatkan jumlah data: Menambah jumlah sampel untuk kelas-kelas tertentu, terutama yang mungkin memiliki sedikit data dalam dataset awal (misalnya, sadness atau fear).\n",
        "\n",
        "- Memperkaya variasi teks: Teks-teks baru ini memperkenalkan variasi kalimat yang relevan dengan emosi tertentu, membantu model mempelajari pola bahasa yang lebih beragam.\n",
        "\n",
        "- Mendukung penyeimbangan data: Augmentasi ini mempersiapkan dataset untuk langkah penyeimbangan (di mana mengambil 2600 sampel per kelas), dengan memastikan ada cukup sampel untuk kelas-kelas seperti sadness atau fear.\n",
        "\n"
      ],
      "metadata": {
        "id": "Lg1Q-_DNSa3m"
      }
    },
    {
      "cell_type": "markdown",
      "source": [
        "### 3.2 Mengonversi Label ke Numerik"
      ],
      "metadata": {
        "id": "OrmE_gBDSvNe"
      }
    },
    {
      "cell_type": "code",
      "source": [
        "label_map = {'happy': 0, 'sadness': 1, 'fear': 2, 'stress': 3}\n",
        "data_df['labels'] = data_df['label'].map(label_map)\n",
        "data_df = data_df.dropna(subset=['labels'])\n",
        "\n",
        "print(\"Distribusi Label Sebelum Penyeimbangan:\")\n",
        "print(data_df['label'].value_counts())"
      ],
      "metadata": {
        "colab": {
          "base_uri": "https://localhost:8080/"
        },
        "id": "5ORyjr9aS3Wq",
        "outputId": "8bbd03d3-bc5f-40dd-a38e-eae159a1e6c4"
      },
      "execution_count": null,
      "outputs": [
        {
          "output_type": "stream",
          "name": "stdout",
          "text": [
            "Distribusi Label Sebelum Penyeimbangan:\n",
            "label\n",
            "happy      107338\n",
            "sadness      6046\n",
            "stress       2647\n",
            "fear         2631\n",
            "Name: count, dtype: int64\n"
          ]
        }
      ]
    },
    {
      "cell_type": "markdown",
      "source": [
        "Tujuannya :\n",
        "- Persiapan untuk pelatihan model: Model machine learning seperti DistilBERT memerlukan label dalam bentuk numerik untuk klasifikasi. Kolom labels ini akan digunakan sebagai target selama pelatihan.\n",
        "\n",
        "- Konsistensi: Memastikan semua label dalam format yang sesuai untuk langkah selanjutnya (konversi ke dataset Hugging Face dan pelatihan).\n",
        "\n"
      ],
      "metadata": {
        "id": "FXTiSuSpS8nK"
      }
    },
    {
      "cell_type": "markdown",
      "source": [
        "### 3.3 Penyeimbangan Data"
      ],
      "metadata": {
        "id": "MrhFsUqt9rNf"
      }
    },
    {
      "cell_type": "markdown",
      "source": [
        "Bagian kode ini adalah langkah krusial dalam preprocessing untuk menyeimbangkan dataset dengan cara:\n",
        "- Mengurangi jumlah sampel kelas mayoritas (happy) melalui undersampling.\n",
        "\n",
        "- Mempertahankan atau menambah sampel kelas minoritas (sadness, fear, stress) melalui augmentasi sebelumnya.\n",
        "\n",
        "- Menggabungkan data sehingga setiap kelas memiliki 2600 sampel, menghasilkan dataset seimbang dengan total 10.400 sampel.\n",
        "\n",
        "- Memverifikasi hasil penyeimbangan melalui distribusi label.\n",
        "\n"
      ],
      "metadata": {
        "id": "RldTfagi9hqK"
      }
    },
    {
      "cell_type": "code",
      "source": [
        "happy_data = data_df[data_df['labels'] == 0].sample(frac=0.5, random_state=42)\n",
        "sadness_data = data_df[data_df['labels'] == 1]\n",
        "fear_data = data_df[data_df['labels'] == 2]\n",
        "stress_data = data_df[data_df['labels'] == 3]\n",
        "min_samples = 2600\n",
        "balanced_data = pd.concat([\n",
        "    happy_data.sample(n=min_samples, random_state=42),\n",
        "    sadness_data.sample(n=min_samples, random_state=42),\n",
        "    fear_data.sample(n=min_samples, random_state=42),\n",
        "    stress_data.sample(n=min_samples, random_state=42)\n",
        "], ignore_index=True)\n",
        "\n",
        "print(\"\\nDistribusi Label Setelah Penyeimbangan:\")\n",
        "print(balanced_data['label'].value_counts())"
      ],
      "metadata": {
        "id": "KcJlLo3Q9rlK",
        "colab": {
          "base_uri": "https://localhost:8080/"
        },
        "outputId": "6dec29cf-2c96-43a0-d6ce-a3e5997662f9"
      },
      "execution_count": null,
      "outputs": [
        {
          "output_type": "stream",
          "name": "stdout",
          "text": [
            "\n",
            "Distribusi Label Setelah Penyeimbangan:\n",
            "label\n",
            "happy      2600\n",
            "sadness    2600\n",
            "fear       2600\n",
            "stress     2600\n",
            "Name: count, dtype: int64\n"
          ]
        }
      ]
    },
    {
      "cell_type": "markdown",
      "source": [
        "### 3.4 Konversi ke Dataset Hugging Face"
      ],
      "metadata": {
        "id": "yhh-6rHT90jk"
      }
    },
    {
      "cell_type": "markdown",
      "source": [
        "- Mengonversi dataset berbasis pandas (balanced_data) ke format Hugging Face Dataset, yang diperlukan untuk pelatihan model dengan pustaka transformers dari Hugging Face.\n",
        "\n",
        "- Membagi dataset menjadi tiga bagian: data pelatihan (train), data validasi (validation), dan data pengujian (test) dengan proporsi tertentu.\n",
        "\n",
        "- Menyimpan ketiga bagian tersebut sebagai objek dataset terpisah (train_dataset, val_dataset, test_dataset) untuk digunakan dalam langkah preprocessing dan pelatihan model selanjutnya.\n",
        "\n"
      ],
      "metadata": {
        "id": "ZPB08nI0TZZy"
      }
    },
    {
      "cell_type": "code",
      "source": [
        "dataset = Dataset.from_pandas(balanced_data[['text', 'labels']])\n",
        "train_val_test = dataset.train_test_split(test_size=0.2, seed=42)\n",
        "val_test = train_val_test['test'].train_test_split(test_size=0.5, seed=42)\n",
        "train_dataset = train_val_test['train']\n",
        "val_dataset = val_test['train']\n",
        "test_dataset = val_test['test']"
      ],
      "metadata": {
        "id": "thG-Qz5990r6"
      },
      "execution_count": null,
      "outputs": []
    },
    {
      "cell_type": "markdown",
      "source": [
        "### 3.5 tokenizer"
      ],
      "metadata": {
        "id": "Zdj0XXxv97LB"
      }
    },
    {
      "cell_type": "markdown",
      "source": [
        "- Mengubah Teks Menjadi Representasi Numerik: Menggunakan tokenizer DistilBERT untuk mengonversi teks mentah menjadi format numerik (input_ids dan attention_mask) yang dapat diproses oleh model DistilBERT.\n",
        "\n",
        "- Menstandarisasi Panjang Teks: Memastikan semua teks memiliki panjang yang sama (128 token) melalui padding dan truncation untuk konsistensi input model.\n",
        "\n",
        "- Mempersiapkan Dataset untuk Pelatihan: Mengatur format dataset agar kompatibel dengan PyTorch, yang digunakan untuk pelatihan model DistilBERT, dengan menyertakan kolom yang diperlukan (input_ids, attention_mask, labels, dan text).\n",
        "\n",
        "- Mendukung Pemrosesan Batch: Menerapkan tokenisasi secara efisien pada dataset pelatihan, validasi, dan pengujian menggunakan pemrosesan berbasis batch.\n",
        "\n"
      ],
      "metadata": {
        "id": "bTVnWSbXTt6z"
      }
    },
    {
      "cell_type": "code",
      "source": [
        "tokenizer = DistilBertTokenizer.from_pretrained('distilbert-base-multilingual-cased')\n",
        "\n",
        "def tokenize_function(examples):\n",
        "    return tokenizer(examples['text'], padding='max_length', truncation=True, max_length=128)\n",
        "\n",
        "train_dataset = train_dataset.map(tokenize_function, batched=True)\n",
        "val_dataset = val_dataset.map(tokenize_function, batched=True)\n",
        "test_dataset = test_dataset.map(tokenize_function, batched=True)\n",
        "\n",
        "train_dataset.set_format('torch', columns=['input_ids', 'attention_mask', 'labels', 'text'])\n",
        "val_dataset.set_format('torch', columns=['input_ids', 'attention_mask', 'labels', 'text'])\n",
        "test_dataset.set_format('torch', columns=['input_ids', 'attention_mask', 'labels', 'text'])\n"
      ],
      "metadata": {
        "id": "j8jtp3Ee96XV",
        "colab": {
          "base_uri": "https://localhost:8080/",
          "height": 407,
          "referenced_widgets": [
            "9beb06fd622f44a5ab18a2639789a403",
            "b1b765d6552449b28de8b1ba8465cc3a",
            "d641107e41b44ae4a2f2f597a8b68629",
            "f5b3f725959548289486954655884631",
            "731b07c8c00c4b01b446480e846ade93",
            "5000f95b014444c4ac7fa1d90a3026fc",
            "230aa52c1e3745b6b6f3ee4feb928f92",
            "94126e06cf4441c2be49a9fd993b15ac",
            "4b3142241d824c29924c732fb54a4e83",
            "b924d47ff68e4d76b7b5d11c22128e05",
            "d56c15705a124d6ea3f927bc047597a5",
            "f7267dfcef67420c8dc8000cc89917f0",
            "439a8d89f76f4c4a9ed8e50c97a271f0",
            "4cadcffe556e496793d86d3f32399d71",
            "e78e92c3556346098bf4cff2cdf91465",
            "7e2d955607b7498e8574f0bba1b1459d",
            "454c62bd8dfb4b5497dd397fb0458a00",
            "964877d9ba8c414b827cfd46d58b4fed",
            "f6da2ae988d84c0b9ce011a08591d12c",
            "b2f6fb0bc1d7465ea271f05c211be0e0",
            "d45c21aa596f4ba5a861804827f4adb3",
            "2be483fbb07b4d6bbfc28fc7d3e05d1c",
            "5d48cbf748804f19aee1fbcdfdac19e5",
            "401f4aff78ed4fbeb4d95d096f5f1e15",
            "ebc33b399ead44d2af5855868417e923",
            "ed32375bb79b49309058da03fd62900d",
            "63faa2588ec04410852e86813ca205a0",
            "614c84dad0454c4daa89569d289250ec",
            "940bb75498674692828cdcf785a21019",
            "39d995dcb09546e4bcf9f77483d1835b",
            "3cea276f7f934d02a4d262f6fc45f6e7",
            "000a3660e9844508833ffd51f05b14f6",
            "b5da6a6ba658413a9a173f5ae5a91bb2",
            "c6c148a6edcf4b1db1c06a8f7e86eaed",
            "ba5ee3762fba45cdbfbffe5b7afb9124",
            "d1de2a314b3641679cbd30cf23a438f9",
            "19344222bac844ee83d9a3f3dd7e4d2a",
            "45b3bc5b9db547ee95ec585ac37864e8",
            "68832d68f3e141e38fe27fccf1748838",
            "0e93c5da045f486e9bd554a39a467921",
            "3bea21d905e24b349f2df37490a12fbd",
            "dacf39a470a14997ad2687e1809a7cfc",
            "a5c8f4efc4aa4b4b9e0d3ad8b883cf60",
            "8074510988334b34a414d7452c435991",
            "274c8d2ce1794b6db52ed06c0dca252c",
            "952fdc92c8f04a5885b55a6347c17df4",
            "875669d0d4fa4deb8ab63b229c957b20",
            "597668b3616340aca7ccaa6b27706fff",
            "2152b47c6aeb470c86a5867588e1c5e3",
            "1c95d399b6e64da0b5dc3180db691b09",
            "ecdfb6f4bd9d4e78b82adc943cdfd3c3",
            "d84523e336ae4ed6b63c080e2985c38b",
            "6ed69df218a44b59af14feff96d24d7c",
            "1e9cc7aa01f84b15b8da4d0cc07c6d41",
            "5f5815fe861742399fcc9df78b867acc",
            "6bd02cbf775d458297923e6e1727c8e2",
            "5bef53b318c24c5eaf792b93d3f1b50a",
            "57e8cdaef08c402aaab9ee91c27c02c6",
            "8e6eef2cbddc4bea8feedd62c2ff4bfe",
            "0b4c6b78f62f493fb0552722934f1513",
            "f97577c86dbf4a96a5c62bcbb6340df1",
            "35e25ee9213b4fa387a9287a9d14200c",
            "b1ec7d8d6bd9424592258a21dd946efd",
            "add699cab9f1489a83e9c77041a10709",
            "585aff734783439c87b3d423f3dd4e07",
            "ac480c6be00049f7aecc1dbac57f7ebb",
            "93758309f61f47ea99a929bd73cc3d78",
            "95956af349ad47debb9b607be45d7049",
            "bbf49a9b1f4443fb90cf99a38d186780",
            "bf91402ada274e3c92228007e069b6ed",
            "3a5aa07f44c64a3cb6d17fc0d2d6ce43",
            "f6dcf6aceb8543bd906266758b7f03bf",
            "eb3f90d3dcb4480fb4310a6314527fad",
            "42a71dabc7f44d389fa9588a3d0d728e",
            "76185145cd1e489c9489d4724b038142",
            "de1b4f8540804e328c3d57e0a784e781",
            "a43ec580491d4476ab74d21d705f42a0"
          ]
        },
        "outputId": "ffff6693-baa5-4d22-eafd-27291a96073e"
      },
      "execution_count": null,
      "outputs": [
        {
          "output_type": "stream",
          "name": "stderr",
          "text": [
            "/usr/local/lib/python3.11/dist-packages/huggingface_hub/utils/_auth.py:94: UserWarning: \n",
            "The secret `HF_TOKEN` does not exist in your Colab secrets.\n",
            "To authenticate with the Hugging Face Hub, create a token in your settings tab (https://huggingface.co/settings/tokens), set it as secret in your Google Colab and restart your session.\n",
            "You will be able to reuse this secret in all of your notebooks.\n",
            "Please note that authentication is recommended but still optional to access public models or datasets.\n",
            "  warnings.warn(\n"
          ]
        },
        {
          "output_type": "display_data",
          "data": {
            "text/plain": [
              "tokenizer_config.json:   0%|          | 0.00/49.0 [00:00<?, ?B/s]"
            ],
            "application/vnd.jupyter.widget-view+json": {
              "version_major": 2,
              "version_minor": 0,
              "model_id": "9beb06fd622f44a5ab18a2639789a403"
            }
          },
          "metadata": {}
        },
        {
          "output_type": "display_data",
          "data": {
            "text/plain": [
              "vocab.txt:   0%|          | 0.00/996k [00:00<?, ?B/s]"
            ],
            "application/vnd.jupyter.widget-view+json": {
              "version_major": 2,
              "version_minor": 0,
              "model_id": "f7267dfcef67420c8dc8000cc89917f0"
            }
          },
          "metadata": {}
        },
        {
          "output_type": "display_data",
          "data": {
            "text/plain": [
              "tokenizer.json:   0%|          | 0.00/1.96M [00:00<?, ?B/s]"
            ],
            "application/vnd.jupyter.widget-view+json": {
              "version_major": 2,
              "version_minor": 0,
              "model_id": "5d48cbf748804f19aee1fbcdfdac19e5"
            }
          },
          "metadata": {}
        },
        {
          "output_type": "display_data",
          "data": {
            "text/plain": [
              "config.json:   0%|          | 0.00/466 [00:00<?, ?B/s]"
            ],
            "application/vnd.jupyter.widget-view+json": {
              "version_major": 2,
              "version_minor": 0,
              "model_id": "c6c148a6edcf4b1db1c06a8f7e86eaed"
            }
          },
          "metadata": {}
        },
        {
          "output_type": "stream",
          "name": "stderr",
          "text": [
            "/usr/local/lib/python3.11/dist-packages/transformers/tokenization_utils_base.py:1601: FutureWarning: `clean_up_tokenization_spaces` was not set. It will be set to `True` by default. This behavior will be depracted in transformers v4.45, and will be then set to `False` by default. For more details check this issue: https://github.com/huggingface/transformers/issues/31884\n",
            "  warnings.warn(\n"
          ]
        },
        {
          "output_type": "display_data",
          "data": {
            "text/plain": [
              "Map:   0%|          | 0/8320 [00:00<?, ? examples/s]"
            ],
            "application/vnd.jupyter.widget-view+json": {
              "version_major": 2,
              "version_minor": 0,
              "model_id": "274c8d2ce1794b6db52ed06c0dca252c"
            }
          },
          "metadata": {}
        },
        {
          "output_type": "display_data",
          "data": {
            "text/plain": [
              "Map:   0%|          | 0/1040 [00:00<?, ? examples/s]"
            ],
            "application/vnd.jupyter.widget-view+json": {
              "version_major": 2,
              "version_minor": 0,
              "model_id": "6bd02cbf775d458297923e6e1727c8e2"
            }
          },
          "metadata": {}
        },
        {
          "output_type": "display_data",
          "data": {
            "text/plain": [
              "Map:   0%|          | 0/1040 [00:00<?, ? examples/s]"
            ],
            "application/vnd.jupyter.widget-view+json": {
              "version_major": 2,
              "version_minor": 0,
              "model_id": "93758309f61f47ea99a929bd73cc3d78"
            }
          },
          "metadata": {}
        }
      ]
    },
    {
      "cell_type": "markdown",
      "metadata": {
        "id": "nc-Ph-oIYAUU"
      },
      "source": [
        "## 4. Modelling"
      ]
    },
    {
      "cell_type": "markdown",
      "source": [
        "## 4.1 Pelatihan Model DistilBERT"
      ],
      "metadata": {
        "id": "2ssjl5mhpUjn"
      }
    },
    {
      "cell_type": "code",
      "execution_count": null,
      "metadata": {
        "id": "UTwK0t8XYAUU",
        "colab": {
          "base_uri": "https://localhost:8080/",
          "height": 1000,
          "referenced_widgets": [
            "cd29339d49ee4cc3923105d4f72e099e",
            "3092ede9c1b14075b42e76866313993f",
            "2251ad015db3443d89ba2175e744bb88",
            "7c9c4573d769455c807a94efe5e469dd",
            "b53fe32ef32047a0a643a90a81a6013a",
            "8771c515b0ac487da22b26a07d155fc8",
            "44c9b3af7c114d9eb0d438e5fd14266b",
            "f823652267bc457aac696e7b8ebf7df2",
            "63c2ab10eb52448193d23e230a433c49",
            "bacb1d8384dd439b9cb5f351725976e9",
            "ae457a69188845b88c450b4eacb61194"
          ]
        },
        "outputId": "993d02ff-fc70-4282-9359-2201beb23390"
      },
      "outputs": [
        {
          "output_type": "stream",
          "name": "stderr",
          "text": [
            "Xet Storage is enabled for this repo, but the 'hf_xet' package is not installed. Falling back to regular HTTP download. For better performance, install the package with: `pip install huggingface_hub[hf_xet]` or `pip install hf_xet`\n",
            "WARNING:huggingface_hub.file_download:Xet Storage is enabled for this repo, but the 'hf_xet' package is not installed. Falling back to regular HTTP download. For better performance, install the package with: `pip install huggingface_hub[hf_xet]` or `pip install hf_xet`\n"
          ]
        },
        {
          "output_type": "display_data",
          "data": {
            "text/plain": [
              "model.safetensors:   0%|          | 0.00/542M [00:00<?, ?B/s]"
            ],
            "application/vnd.jupyter.widget-view+json": {
              "version_major": 2,
              "version_minor": 0,
              "model_id": "cd29339d49ee4cc3923105d4f72e099e"
            }
          },
          "metadata": {}
        },
        {
          "output_type": "stream",
          "name": "stderr",
          "text": [
            "Some weights of DistilBertForSequenceClassification were not initialized from the model checkpoint at distilbert-base-multilingual-cased and are newly initialized: ['classifier.bias', 'classifier.weight', 'pre_classifier.bias', 'pre_classifier.weight']\n",
            "You should probably TRAIN this model on a down-stream task to be able to use it for predictions and inference.\n",
            "\u001b[34m\u001b[1mwandb\u001b[0m: \u001b[33mWARNING\u001b[0m The `run_name` is currently set to the same value as `TrainingArguments.output_dir`. If this was not intended, please specify a different run name by setting the `TrainingArguments.run_name` parameter.\n"
          ]
        },
        {
          "output_type": "display_data",
          "data": {
            "text/plain": [
              "<IPython.core.display.Javascript object>"
            ],
            "application/javascript": [
              "\n",
              "        window._wandbApiKey = new Promise((resolve, reject) => {\n",
              "            function loadScript(url) {\n",
              "            return new Promise(function(resolve, reject) {\n",
              "                let newScript = document.createElement(\"script\");\n",
              "                newScript.onerror = reject;\n",
              "                newScript.onload = resolve;\n",
              "                document.body.appendChild(newScript);\n",
              "                newScript.src = url;\n",
              "            });\n",
              "            }\n",
              "            loadScript(\"https://cdn.jsdelivr.net/npm/postmate/build/postmate.min.js\").then(() => {\n",
              "            const iframe = document.createElement('iframe')\n",
              "            iframe.style.cssText = \"width:0;height:0;border:none\"\n",
              "            document.body.appendChild(iframe)\n",
              "            const handshake = new Postmate({\n",
              "                container: iframe,\n",
              "                url: 'https://wandb.ai/authorize'\n",
              "            });\n",
              "            const timeout = setTimeout(() => reject(\"Couldn't auto authenticate\"), 5000)\n",
              "            handshake.then(function(child) {\n",
              "                child.on('authorize', data => {\n",
              "                    clearTimeout(timeout)\n",
              "                    resolve(data)\n",
              "                });\n",
              "            });\n",
              "            })\n",
              "        });\n",
              "    "
            ]
          },
          "metadata": {}
        },
        {
          "output_type": "stream",
          "name": "stderr",
          "text": [
            "\u001b[34m\u001b[1mwandb\u001b[0m: Logging into wandb.ai. (Learn how to deploy a W&B server locally: https://wandb.me/wandb-server)\n",
            "\u001b[34m\u001b[1mwandb\u001b[0m: You can find your API key in your browser here: https://wandb.ai/authorize?ref=models\n",
            "wandb: Paste an API key from your profile and hit enter:"
          ]
        },
        {
          "name": "stdout",
          "output_type": "stream",
          "text": [
            " ··········\n"
          ]
        },
        {
          "output_type": "stream",
          "name": "stderr",
          "text": [
            "\u001b[34m\u001b[1mwandb\u001b[0m: \u001b[33mWARNING\u001b[0m If you're specifying your api key in code, ensure this code is not shared publicly.\n",
            "\u001b[34m\u001b[1mwandb\u001b[0m: \u001b[33mWARNING\u001b[0m Consider setting the WANDB_API_KEY environment variable, or running `wandb login` from the command line.\n",
            "\u001b[34m\u001b[1mwandb\u001b[0m: No netrc file found, creating one.\n",
            "\u001b[34m\u001b[1mwandb\u001b[0m: Appending key for api.wandb.ai to your netrc file: /root/.netrc\n",
            "\u001b[34m\u001b[1mwandb\u001b[0m: Currently logged in as: \u001b[33mshidqiamanullah-sa\u001b[0m (\u001b[33mshidqiamanullah-sa-universitas-pendidikan-indonesia\u001b[0m) to \u001b[32mhttps://api.wandb.ai\u001b[0m. Use \u001b[1m`wandb login --relogin`\u001b[0m to force relogin\n"
          ]
        },
        {
          "output_type": "display_data",
          "data": {
            "text/plain": [
              "<IPython.core.display.HTML object>"
            ],
            "text/html": [
              "Tracking run with wandb version 0.19.11"
            ]
          },
          "metadata": {}
        },
        {
          "output_type": "display_data",
          "data": {
            "text/plain": [
              "<IPython.core.display.HTML object>"
            ],
            "text/html": [
              "Run data is saved locally in <code>/content/wandb/run-20250527_122644-sklt7xpy</code>"
            ]
          },
          "metadata": {}
        },
        {
          "output_type": "display_data",
          "data": {
            "text/plain": [
              "<IPython.core.display.HTML object>"
            ],
            "text/html": [
              "Syncing run <strong><a href='https://wandb.ai/shidqiamanullah-sa-universitas-pendidikan-indonesia/huggingface/runs/sklt7xpy' target=\"_blank\">./results</a></strong> to <a href='https://wandb.ai/shidqiamanullah-sa-universitas-pendidikan-indonesia/huggingface' target=\"_blank\">Weights & Biases</a> (<a href='https://wandb.me/developer-guide' target=\"_blank\">docs</a>)<br>"
            ]
          },
          "metadata": {}
        },
        {
          "output_type": "display_data",
          "data": {
            "text/plain": [
              "<IPython.core.display.HTML object>"
            ],
            "text/html": [
              " View project at <a href='https://wandb.ai/shidqiamanullah-sa-universitas-pendidikan-indonesia/huggingface' target=\"_blank\">https://wandb.ai/shidqiamanullah-sa-universitas-pendidikan-indonesia/huggingface</a>"
            ]
          },
          "metadata": {}
        },
        {
          "output_type": "display_data",
          "data": {
            "text/plain": [
              "<IPython.core.display.HTML object>"
            ],
            "text/html": [
              " View run at <a href='https://wandb.ai/shidqiamanullah-sa-universitas-pendidikan-indonesia/huggingface/runs/sklt7xpy' target=\"_blank\">https://wandb.ai/shidqiamanullah-sa-universitas-pendidikan-indonesia/huggingface/runs/sklt7xpy</a>"
            ]
          },
          "metadata": {}
        },
        {
          "output_type": "display_data",
          "data": {
            "text/plain": [
              "<IPython.core.display.HTML object>"
            ],
            "text/html": [
              "\n",
              "    <div>\n",
              "      \n",
              "      <progress value='850' max='2600' style='width:300px; height:20px; vertical-align: middle;'></progress>\n",
              "      [ 850/2600 10:23 < 21:27, 1.36 it/s, Epoch 3/10]\n",
              "    </div>\n",
              "    <table border=\"1\" class=\"dataframe\">\n",
              "  <thead>\n",
              " <tr style=\"text-align: left;\">\n",
              "      <th>Step</th>\n",
              "      <th>Training Loss</th>\n",
              "      <th>Validation Loss</th>\n",
              "      <th>Accuracy</th>\n",
              "      <th>F1</th>\n",
              "    </tr>\n",
              "  </thead>\n",
              "  <tbody>\n",
              "    <tr>\n",
              "      <td>50</td>\n",
              "      <td>1.056100</td>\n",
              "      <td>0.869097</td>\n",
              "      <td>0.483654</td>\n",
              "      <td>0.395980</td>\n",
              "    </tr>\n",
              "    <tr>\n",
              "      <td>100</td>\n",
              "      <td>0.456300</td>\n",
              "      <td>0.409355</td>\n",
              "      <td>0.484615</td>\n",
              "      <td>0.376113</td>\n",
              "    </tr>\n",
              "    <tr>\n",
              "      <td>150</td>\n",
              "      <td>0.556500</td>\n",
              "      <td>0.396003</td>\n",
              "      <td>0.514423</td>\n",
              "      <td>0.460345</td>\n",
              "    </tr>\n",
              "    <tr>\n",
              "      <td>200</td>\n",
              "      <td>0.593300</td>\n",
              "      <td>0.419613</td>\n",
              "      <td>0.502885</td>\n",
              "      <td>0.421959</td>\n",
              "    </tr>\n",
              "    <tr>\n",
              "      <td>250</td>\n",
              "      <td>0.351900</td>\n",
              "      <td>0.336531</td>\n",
              "      <td>0.528846</td>\n",
              "      <td>0.460048</td>\n",
              "    </tr>\n",
              "    <tr>\n",
              "      <td>300</td>\n",
              "      <td>0.337000</td>\n",
              "      <td>0.243971</td>\n",
              "      <td>0.675962</td>\n",
              "      <td>0.603723</td>\n",
              "    </tr>\n",
              "    <tr>\n",
              "      <td>350</td>\n",
              "      <td>0.260800</td>\n",
              "      <td>0.155066</td>\n",
              "      <td>0.712500</td>\n",
              "      <td>0.631820</td>\n",
              "    </tr>\n",
              "    <tr>\n",
              "      <td>400</td>\n",
              "      <td>0.119600</td>\n",
              "      <td>0.132227</td>\n",
              "      <td>0.721154</td>\n",
              "      <td>0.640654</td>\n",
              "    </tr>\n",
              "    <tr>\n",
              "      <td>450</td>\n",
              "      <td>0.226300</td>\n",
              "      <td>0.166928</td>\n",
              "      <td>0.680769</td>\n",
              "      <td>0.598158</td>\n",
              "    </tr>\n",
              "    <tr>\n",
              "      <td>500</td>\n",
              "      <td>0.078900</td>\n",
              "      <td>0.136300</td>\n",
              "      <td>0.789423</td>\n",
              "      <td>0.762097</td>\n",
              "    </tr>\n",
              "    <tr>\n",
              "      <td>550</td>\n",
              "      <td>0.055400</td>\n",
              "      <td>0.097665</td>\n",
              "      <td>0.956731</td>\n",
              "      <td>0.956978</td>\n",
              "    </tr>\n",
              "    <tr>\n",
              "      <td>600</td>\n",
              "      <td>0.041300</td>\n",
              "      <td>0.106775</td>\n",
              "      <td>0.977885</td>\n",
              "      <td>0.977910</td>\n",
              "    </tr>\n",
              "    <tr>\n",
              "      <td>650</td>\n",
              "      <td>0.027100</td>\n",
              "      <td>0.130565</td>\n",
              "      <td>0.962500</td>\n",
              "      <td>0.962742</td>\n",
              "    </tr>\n",
              "    <tr>\n",
              "      <td>700</td>\n",
              "      <td>0.057900</td>\n",
              "      <td>0.119224</td>\n",
              "      <td>0.971154</td>\n",
              "      <td>0.971295</td>\n",
              "    </tr>\n",
              "    <tr>\n",
              "      <td>750</td>\n",
              "      <td>0.081000</td>\n",
              "      <td>0.129088</td>\n",
              "      <td>0.947115</td>\n",
              "      <td>0.947615</td>\n",
              "    </tr>\n",
              "    <tr>\n",
              "      <td>800</td>\n",
              "      <td>0.022700</td>\n",
              "      <td>0.129795</td>\n",
              "      <td>0.970192</td>\n",
              "      <td>0.970182</td>\n",
              "    </tr>\n",
              "    <tr>\n",
              "      <td>850</td>\n",
              "      <td>0.000900</td>\n",
              "      <td>0.131471</td>\n",
              "      <td>0.972115</td>\n",
              "      <td>0.972177</td>\n",
              "    </tr>\n",
              "  </tbody>\n",
              "</table><p>"
            ]
          },
          "metadata": {}
        },
        {
          "output_type": "execute_result",
          "data": {
            "text/plain": [
              "TrainOutput(global_step=850, training_loss=0.28968762516427565, metrics={'train_runtime': 648.4112, 'train_samples_per_second': 128.314, 'train_steps_per_second': 4.01, 'total_flos': 900810439065600.0, 'train_loss': 0.28968762516427565, 'epoch': 3.269230769230769})"
            ]
          },
          "metadata": {},
          "execution_count": 17
        }
      ],
      "source": [
        "model = DistilBertForSequenceClassification.from_pretrained('distilbert-base-multilingual-cased', num_labels=len(label_map))\n",
        "device = torch.device('cuda' if torch.cuda.is_available() else 'cpu')\n",
        "model.to(device)\n",
        "\n",
        "class_counts = balanced_data['labels'].value_counts().sort_index().values\n",
        "class_weights = torch.tensor([6.0, 3.0, 4.0, 0.01], dtype=torch.float).to(device)\n",
        "\n",
        "class CustomTrainer(Trainer):\n",
        "    def compute_loss(self, model, inputs, return_outputs=False):\n",
        "        labels = inputs.pop(\"labels\")\n",
        "        outputs = model(**inputs)\n",
        "        logits = outputs.logits\n",
        "        alpha = torch.tensor([6.0, 3.0, 4.0, 0.01]).to(device)\n",
        "        gamma = 3.0\n",
        "        ce_loss = torch.nn.functional.cross_entropy(logits, labels, reduction='none')\n",
        "        pt = torch.exp(-ce_loss)\n",
        "        focal_loss = (alpha[labels] * (1 - pt) ** gamma * ce_loss).mean()\n",
        "        return (focal_loss, outputs) if return_outputs else focal_loss\n",
        "\n",
        "training_args = TrainingArguments(\n",
        "    output_dir='./results',\n",
        "    num_train_epochs=10,\n",
        "    per_device_train_batch_size=8,\n",
        "    per_device_eval_batch_size=8,\n",
        "    gradient_accumulation_steps=4,\n",
        "    warmup_steps=200,\n",
        "    weight_decay=0.1,\n",
        "    learning_rate=3e-5,\n",
        "    lr_scheduler_type='cosine',\n",
        "    logging_dir='./logs',\n",
        "    logging_steps=10,\n",
        "    eval_strategy='steps',\n",
        "    eval_steps=50,\n",
        "    save_strategy='steps',\n",
        "    save_steps=50,\n",
        "    load_best_model_at_end=True,\n",
        "    metric_for_best_model='f1',\n",
        "    fp16=True if torch.cuda.is_available() else False,\n",
        ")\n",
        "\n",
        "trainer = CustomTrainer(\n",
        "    model=model,\n",
        "    args=training_args,\n",
        "    train_dataset=train_dataset,\n",
        "    eval_dataset=val_dataset,\n",
        "    compute_metrics=lambda eval_pred: {\n",
        "        'accuracy': (eval_pred.predictions.argmax(-1) == eval_pred.label_ids).mean(),\n",
        "        'f1': f1_score(eval_pred.label_ids, eval_pred.predictions.argmax(-1), average='weighted'),\n",
        "    },\n",
        "    callbacks=[EarlyStoppingCallback(early_stopping_patience=5)],\n",
        ")\n",
        "\n",
        "trainer.train()"
      ]
    },
    {
      "cell_type": "markdown",
      "source": [
        "Berdasarkan hasil pelatihan model hingga langkah ke-850 (sekitar epoch ke-3), terlihat adanya peningkatan performa yang signifikan dari waktu ke waktu. Pada awal pelatihan (step 50), model masih berada pada tahap belajar dasar dengan akurasi rendah (48,36%) dan F1 score sebesar 39,60%, menunjukkan bahwa model belum mampu mengenali pola data dengan baik. Namun, seiring bertambahnya langkah pelatihan, baik training loss maupun validation loss terus menurun secara konsisten, yang menandakan bahwa model semakin mampu mempelajari hubungan dalam data tanpa mengalami overfitting. Titik kritis peningkatan performa terlihat mulai pada step 300, di mana akurasi melonjak ke 67,59% dan terus meningkat hingga mencapai 97,21% pada step 850. Hal serupa juga terlihat pada F1 score, yang naik tajam dari 60,37% menjadi 97,22%. Penurunan drastis pada validation loss dari 0.869 menjadi sekitar 0.13 mendukung model ini. Dengan training loss rata-rata yang cukup rendah (0.2896), serta akurasi dan F1 score yang tinggi dan stabil pada akhir sesi, dapat disimpulkan bahwa model berhasil belajar dengan baik dan memiliki kemampuan generalisasi yang kuat terhadap data validasi. Hasil ini menunjukkan bahwa model telah siap untuk digunakan pada tugas inferensi atau evaluasi lebih lanjut."
      ],
      "metadata": {
        "id": "m0ugX1YHpBts"
      }
    },
    {
      "cell_type": "markdown",
      "source": [
        "## 4.2 Ekstraksi Logits dan Pelatihan Model Hybrid"
      ],
      "metadata": {
        "id": "FEb-VIu4pNm9"
      }
    },
    {
      "cell_type": "markdown",
      "source": [
        "Tujuan Kode :\n",
        "\n",
        "1) Membuat Model Hybrid:\n",
        "- Menggabungkan kekuatan DistilBERT (logits untuk representasi semantik) dan TF-IDF (pola frekuensi kata) untuk meningkatkan generalisasi dan akurasi klasifikasi.\n",
        "\n",
        "- Model hybrid ini lebih ringan untuk inferensi dibandingkan DistilBERT penuh, sehingga cocok untuk deployment di lingkungan dengan sumber daya terbatas.\n",
        "\n",
        "2) Ekstraksi Fitur yang Kuat:\n",
        "- Logits dari DistilBERT menangkap konteks semantik.\n",
        "\n",
        "- TF-IDF menangkap pola kata eksplisit, menggantikan pendekatan berbasis kata kunci manual yang kurang skalabel.\n",
        "\n",
        "3) Persiapan untuk Evaluasi dan Inferensi:\n",
        "- Fitur gabungan (X_train_combined, X_val_combined, X_test_combined) dan label (y_train, y_val, y_test) digunakan untuk melatih dan mengevaluasi model Logistic Regression.\n",
        "\n",
        "- Model hybrid ini diintegrasikan ke dalam pipeline inferensi untuk memprediksi emosi dari teks baru.\n",
        "\n"
      ],
      "metadata": {
        "id": "HWLAH-H-prIG"
      }
    },
    {
      "cell_type": "code",
      "source": [
        "def extract_logits(dataset, model, tokenizer, device):\n",
        "    model.eval()\n",
        "    logits_list = []\n",
        "    for example in dataset:\n",
        "        inputs = tokenizer(example['text'], return_tensors='pt', padding=True, truncation=True, max_length=128)\n",
        "        inputs = {k: v.to(device) for k, v in inputs.items()}\n",
        "        with torch.no_grad():\n",
        "            outputs = model(**inputs)\n",
        "            logits = outputs.logits.cpu().numpy()\n",
        "            logits_list.append(logits[0])\n",
        "    return np.array(logits_list)\n",
        "\n",
        "vectorizer = TfidfVectorizer(max_features=5000)\n",
        "X_train_tfidf = vectorizer.fit_transform([example['text'] for example in train_dataset])\n",
        "X_val_tfidf = vectorizer.transform([example['text'] for example in val_dataset])\n",
        "X_test_tfidf = vectorizer.transform([example['text'] for example in test_dataset])\n",
        "\n",
        "X_train_logits = extract_logits(train_dataset, model, tokenizer, device)\n",
        "X_val_logits = extract_logits(val_dataset, model, tokenizer, device)\n",
        "X_test_logits = extract_logits(test_dataset, model, tokenizer, device)\n",
        "\n",
        "X_train_combined = np.hstack([X_train_tfidf.toarray(), X_train_logits])\n",
        "X_val_combined = np.hstack([X_val_tfidf.toarray(), X_val_logits])\n",
        "X_test_combined = np.hstack([X_test_tfidf.toarray(), X_test_logits])\n",
        "\n",
        "y_train = np.array([example['labels'] for example in train_dataset])\n",
        "y_val = np.array([example['labels'] for example in val_dataset])\n",
        "y_test = np.array([example['labels'] for example in test_dataset])\n",
        "\n",
        "clf = LogisticRegression(multi_class='multinomial', max_iter=1000, C=1.0)\n",
        "clf.fit(X_train_combined, y_train)"
      ],
      "metadata": {
        "colab": {
          "base_uri": "https://localhost:8080/",
          "height": 137
        },
        "id": "gO24mNK1pKYk",
        "outputId": "d43017e5-cb34-41b8-8575-a3031e081333"
      },
      "execution_count": null,
      "outputs": [
        {
          "output_type": "stream",
          "name": "stderr",
          "text": [
            "/usr/local/lib/python3.11/dist-packages/sklearn/linear_model/_logistic.py:1247: FutureWarning: 'multi_class' was deprecated in version 1.5 and will be removed in 1.7. From then on, it will always use 'multinomial'. Leave it to its default value to avoid this warning.\n",
            "  warnings.warn(\n"
          ]
        },
        {
          "output_type": "execute_result",
          "data": {
            "text/plain": [
              "LogisticRegression(max_iter=1000, multi_class='multinomial')"
            ],
            "text/html": [
              "<style>#sk-container-id-1 {\n",
              "  /* Definition of color scheme common for light and dark mode */\n",
              "  --sklearn-color-text: black;\n",
              "  --sklearn-color-line: gray;\n",
              "  /* Definition of color scheme for unfitted estimators */\n",
              "  --sklearn-color-unfitted-level-0: #fff5e6;\n",
              "  --sklearn-color-unfitted-level-1: #f6e4d2;\n",
              "  --sklearn-color-unfitted-level-2: #ffe0b3;\n",
              "  --sklearn-color-unfitted-level-3: chocolate;\n",
              "  /* Definition of color scheme for fitted estimators */\n",
              "  --sklearn-color-fitted-level-0: #f0f8ff;\n",
              "  --sklearn-color-fitted-level-1: #d4ebff;\n",
              "  --sklearn-color-fitted-level-2: #b3dbfd;\n",
              "  --sklearn-color-fitted-level-3: cornflowerblue;\n",
              "\n",
              "  /* Specific color for light theme */\n",
              "  --sklearn-color-text-on-default-background: var(--sg-text-color, var(--theme-code-foreground, var(--jp-content-font-color1, black)));\n",
              "  --sklearn-color-background: var(--sg-background-color, var(--theme-background, var(--jp-layout-color0, white)));\n",
              "  --sklearn-color-border-box: var(--sg-text-color, var(--theme-code-foreground, var(--jp-content-font-color1, black)));\n",
              "  --sklearn-color-icon: #696969;\n",
              "\n",
              "  @media (prefers-color-scheme: dark) {\n",
              "    /* Redefinition of color scheme for dark theme */\n",
              "    --sklearn-color-text-on-default-background: var(--sg-text-color, var(--theme-code-foreground, var(--jp-content-font-color1, white)));\n",
              "    --sklearn-color-background: var(--sg-background-color, var(--theme-background, var(--jp-layout-color0, #111)));\n",
              "    --sklearn-color-border-box: var(--sg-text-color, var(--theme-code-foreground, var(--jp-content-font-color1, white)));\n",
              "    --sklearn-color-icon: #878787;\n",
              "  }\n",
              "}\n",
              "\n",
              "#sk-container-id-1 {\n",
              "  color: var(--sklearn-color-text);\n",
              "}\n",
              "\n",
              "#sk-container-id-1 pre {\n",
              "  padding: 0;\n",
              "}\n",
              "\n",
              "#sk-container-id-1 input.sk-hidden--visually {\n",
              "  border: 0;\n",
              "  clip: rect(1px 1px 1px 1px);\n",
              "  clip: rect(1px, 1px, 1px, 1px);\n",
              "  height: 1px;\n",
              "  margin: -1px;\n",
              "  overflow: hidden;\n",
              "  padding: 0;\n",
              "  position: absolute;\n",
              "  width: 1px;\n",
              "}\n",
              "\n",
              "#sk-container-id-1 div.sk-dashed-wrapped {\n",
              "  border: 1px dashed var(--sklearn-color-line);\n",
              "  margin: 0 0.4em 0.5em 0.4em;\n",
              "  box-sizing: border-box;\n",
              "  padding-bottom: 0.4em;\n",
              "  background-color: var(--sklearn-color-background);\n",
              "}\n",
              "\n",
              "#sk-container-id-1 div.sk-container {\n",
              "  /* jupyter's `normalize.less` sets `[hidden] { display: none; }`\n",
              "     but bootstrap.min.css set `[hidden] { display: none !important; }`\n",
              "     so we also need the `!important` here to be able to override the\n",
              "     default hidden behavior on the sphinx rendered scikit-learn.org.\n",
              "     See: https://github.com/scikit-learn/scikit-learn/issues/21755 */\n",
              "  display: inline-block !important;\n",
              "  position: relative;\n",
              "}\n",
              "\n",
              "#sk-container-id-1 div.sk-text-repr-fallback {\n",
              "  display: none;\n",
              "}\n",
              "\n",
              "div.sk-parallel-item,\n",
              "div.sk-serial,\n",
              "div.sk-item {\n",
              "  /* draw centered vertical line to link estimators */\n",
              "  background-image: linear-gradient(var(--sklearn-color-text-on-default-background), var(--sklearn-color-text-on-default-background));\n",
              "  background-size: 2px 100%;\n",
              "  background-repeat: no-repeat;\n",
              "  background-position: center center;\n",
              "}\n",
              "\n",
              "/* Parallel-specific style estimator block */\n",
              "\n",
              "#sk-container-id-1 div.sk-parallel-item::after {\n",
              "  content: \"\";\n",
              "  width: 100%;\n",
              "  border-bottom: 2px solid var(--sklearn-color-text-on-default-background);\n",
              "  flex-grow: 1;\n",
              "}\n",
              "\n",
              "#sk-container-id-1 div.sk-parallel {\n",
              "  display: flex;\n",
              "  align-items: stretch;\n",
              "  justify-content: center;\n",
              "  background-color: var(--sklearn-color-background);\n",
              "  position: relative;\n",
              "}\n",
              "\n",
              "#sk-container-id-1 div.sk-parallel-item {\n",
              "  display: flex;\n",
              "  flex-direction: column;\n",
              "}\n",
              "\n",
              "#sk-container-id-1 div.sk-parallel-item:first-child::after {\n",
              "  align-self: flex-end;\n",
              "  width: 50%;\n",
              "}\n",
              "\n",
              "#sk-container-id-1 div.sk-parallel-item:last-child::after {\n",
              "  align-self: flex-start;\n",
              "  width: 50%;\n",
              "}\n",
              "\n",
              "#sk-container-id-1 div.sk-parallel-item:only-child::after {\n",
              "  width: 0;\n",
              "}\n",
              "\n",
              "/* Serial-specific style estimator block */\n",
              "\n",
              "#sk-container-id-1 div.sk-serial {\n",
              "  display: flex;\n",
              "  flex-direction: column;\n",
              "  align-items: center;\n",
              "  background-color: var(--sklearn-color-background);\n",
              "  padding-right: 1em;\n",
              "  padding-left: 1em;\n",
              "}\n",
              "\n",
              "\n",
              "/* Toggleable style: style used for estimator/Pipeline/ColumnTransformer box that is\n",
              "clickable and can be expanded/collapsed.\n",
              "- Pipeline and ColumnTransformer use this feature and define the default style\n",
              "- Estimators will overwrite some part of the style using the `sk-estimator` class\n",
              "*/\n",
              "\n",
              "/* Pipeline and ColumnTransformer style (default) */\n",
              "\n",
              "#sk-container-id-1 div.sk-toggleable {\n",
              "  /* Default theme specific background. It is overwritten whether we have a\n",
              "  specific estimator or a Pipeline/ColumnTransformer */\n",
              "  background-color: var(--sklearn-color-background);\n",
              "}\n",
              "\n",
              "/* Toggleable label */\n",
              "#sk-container-id-1 label.sk-toggleable__label {\n",
              "  cursor: pointer;\n",
              "  display: block;\n",
              "  width: 100%;\n",
              "  margin-bottom: 0;\n",
              "  padding: 0.5em;\n",
              "  box-sizing: border-box;\n",
              "  text-align: center;\n",
              "}\n",
              "\n",
              "#sk-container-id-1 label.sk-toggleable__label-arrow:before {\n",
              "  /* Arrow on the left of the label */\n",
              "  content: \"▸\";\n",
              "  float: left;\n",
              "  margin-right: 0.25em;\n",
              "  color: var(--sklearn-color-icon);\n",
              "}\n",
              "\n",
              "#sk-container-id-1 label.sk-toggleable__label-arrow:hover:before {\n",
              "  color: var(--sklearn-color-text);\n",
              "}\n",
              "\n",
              "/* Toggleable content - dropdown */\n",
              "\n",
              "#sk-container-id-1 div.sk-toggleable__content {\n",
              "  max-height: 0;\n",
              "  max-width: 0;\n",
              "  overflow: hidden;\n",
              "  text-align: left;\n",
              "  /* unfitted */\n",
              "  background-color: var(--sklearn-color-unfitted-level-0);\n",
              "}\n",
              "\n",
              "#sk-container-id-1 div.sk-toggleable__content.fitted {\n",
              "  /* fitted */\n",
              "  background-color: var(--sklearn-color-fitted-level-0);\n",
              "}\n",
              "\n",
              "#sk-container-id-1 div.sk-toggleable__content pre {\n",
              "  margin: 0.2em;\n",
              "  border-radius: 0.25em;\n",
              "  color: var(--sklearn-color-text);\n",
              "  /* unfitted */\n",
              "  background-color: var(--sklearn-color-unfitted-level-0);\n",
              "}\n",
              "\n",
              "#sk-container-id-1 div.sk-toggleable__content.fitted pre {\n",
              "  /* unfitted */\n",
              "  background-color: var(--sklearn-color-fitted-level-0);\n",
              "}\n",
              "\n",
              "#sk-container-id-1 input.sk-toggleable__control:checked~div.sk-toggleable__content {\n",
              "  /* Expand drop-down */\n",
              "  max-height: 200px;\n",
              "  max-width: 100%;\n",
              "  overflow: auto;\n",
              "}\n",
              "\n",
              "#sk-container-id-1 input.sk-toggleable__control:checked~label.sk-toggleable__label-arrow:before {\n",
              "  content: \"▾\";\n",
              "}\n",
              "\n",
              "/* Pipeline/ColumnTransformer-specific style */\n",
              "\n",
              "#sk-container-id-1 div.sk-label input.sk-toggleable__control:checked~label.sk-toggleable__label {\n",
              "  color: var(--sklearn-color-text);\n",
              "  background-color: var(--sklearn-color-unfitted-level-2);\n",
              "}\n",
              "\n",
              "#sk-container-id-1 div.sk-label.fitted input.sk-toggleable__control:checked~label.sk-toggleable__label {\n",
              "  background-color: var(--sklearn-color-fitted-level-2);\n",
              "}\n",
              "\n",
              "/* Estimator-specific style */\n",
              "\n",
              "/* Colorize estimator box */\n",
              "#sk-container-id-1 div.sk-estimator input.sk-toggleable__control:checked~label.sk-toggleable__label {\n",
              "  /* unfitted */\n",
              "  background-color: var(--sklearn-color-unfitted-level-2);\n",
              "}\n",
              "\n",
              "#sk-container-id-1 div.sk-estimator.fitted input.sk-toggleable__control:checked~label.sk-toggleable__label {\n",
              "  /* fitted */\n",
              "  background-color: var(--sklearn-color-fitted-level-2);\n",
              "}\n",
              "\n",
              "#sk-container-id-1 div.sk-label label.sk-toggleable__label,\n",
              "#sk-container-id-1 div.sk-label label {\n",
              "  /* The background is the default theme color */\n",
              "  color: var(--sklearn-color-text-on-default-background);\n",
              "}\n",
              "\n",
              "/* On hover, darken the color of the background */\n",
              "#sk-container-id-1 div.sk-label:hover label.sk-toggleable__label {\n",
              "  color: var(--sklearn-color-text);\n",
              "  background-color: var(--sklearn-color-unfitted-level-2);\n",
              "}\n",
              "\n",
              "/* Label box, darken color on hover, fitted */\n",
              "#sk-container-id-1 div.sk-label.fitted:hover label.sk-toggleable__label.fitted {\n",
              "  color: var(--sklearn-color-text);\n",
              "  background-color: var(--sklearn-color-fitted-level-2);\n",
              "}\n",
              "\n",
              "/* Estimator label */\n",
              "\n",
              "#sk-container-id-1 div.sk-label label {\n",
              "  font-family: monospace;\n",
              "  font-weight: bold;\n",
              "  display: inline-block;\n",
              "  line-height: 1.2em;\n",
              "}\n",
              "\n",
              "#sk-container-id-1 div.sk-label-container {\n",
              "  text-align: center;\n",
              "}\n",
              "\n",
              "/* Estimator-specific */\n",
              "#sk-container-id-1 div.sk-estimator {\n",
              "  font-family: monospace;\n",
              "  border: 1px dotted var(--sklearn-color-border-box);\n",
              "  border-radius: 0.25em;\n",
              "  box-sizing: border-box;\n",
              "  margin-bottom: 0.5em;\n",
              "  /* unfitted */\n",
              "  background-color: var(--sklearn-color-unfitted-level-0);\n",
              "}\n",
              "\n",
              "#sk-container-id-1 div.sk-estimator.fitted {\n",
              "  /* fitted */\n",
              "  background-color: var(--sklearn-color-fitted-level-0);\n",
              "}\n",
              "\n",
              "/* on hover */\n",
              "#sk-container-id-1 div.sk-estimator:hover {\n",
              "  /* unfitted */\n",
              "  background-color: var(--sklearn-color-unfitted-level-2);\n",
              "}\n",
              "\n",
              "#sk-container-id-1 div.sk-estimator.fitted:hover {\n",
              "  /* fitted */\n",
              "  background-color: var(--sklearn-color-fitted-level-2);\n",
              "}\n",
              "\n",
              "/* Specification for estimator info (e.g. \"i\" and \"?\") */\n",
              "\n",
              "/* Common style for \"i\" and \"?\" */\n",
              "\n",
              ".sk-estimator-doc-link,\n",
              "a:link.sk-estimator-doc-link,\n",
              "a:visited.sk-estimator-doc-link {\n",
              "  float: right;\n",
              "  font-size: smaller;\n",
              "  line-height: 1em;\n",
              "  font-family: monospace;\n",
              "  background-color: var(--sklearn-color-background);\n",
              "  border-radius: 1em;\n",
              "  height: 1em;\n",
              "  width: 1em;\n",
              "  text-decoration: none !important;\n",
              "  margin-left: 1ex;\n",
              "  /* unfitted */\n",
              "  border: var(--sklearn-color-unfitted-level-1) 1pt solid;\n",
              "  color: var(--sklearn-color-unfitted-level-1);\n",
              "}\n",
              "\n",
              ".sk-estimator-doc-link.fitted,\n",
              "a:link.sk-estimator-doc-link.fitted,\n",
              "a:visited.sk-estimator-doc-link.fitted {\n",
              "  /* fitted */\n",
              "  border: var(--sklearn-color-fitted-level-1) 1pt solid;\n",
              "  color: var(--sklearn-color-fitted-level-1);\n",
              "}\n",
              "\n",
              "/* On hover */\n",
              "div.sk-estimator:hover .sk-estimator-doc-link:hover,\n",
              ".sk-estimator-doc-link:hover,\n",
              "div.sk-label-container:hover .sk-estimator-doc-link:hover,\n",
              ".sk-estimator-doc-link:hover {\n",
              "  /* unfitted */\n",
              "  background-color: var(--sklearn-color-unfitted-level-3);\n",
              "  color: var(--sklearn-color-background);\n",
              "  text-decoration: none;\n",
              "}\n",
              "\n",
              "div.sk-estimator.fitted:hover .sk-estimator-doc-link.fitted:hover,\n",
              ".sk-estimator-doc-link.fitted:hover,\n",
              "div.sk-label-container:hover .sk-estimator-doc-link.fitted:hover,\n",
              ".sk-estimator-doc-link.fitted:hover {\n",
              "  /* fitted */\n",
              "  background-color: var(--sklearn-color-fitted-level-3);\n",
              "  color: var(--sklearn-color-background);\n",
              "  text-decoration: none;\n",
              "}\n",
              "\n",
              "/* Span, style for the box shown on hovering the info icon */\n",
              ".sk-estimator-doc-link span {\n",
              "  display: none;\n",
              "  z-index: 9999;\n",
              "  position: relative;\n",
              "  font-weight: normal;\n",
              "  right: .2ex;\n",
              "  padding: .5ex;\n",
              "  margin: .5ex;\n",
              "  width: min-content;\n",
              "  min-width: 20ex;\n",
              "  max-width: 50ex;\n",
              "  color: var(--sklearn-color-text);\n",
              "  box-shadow: 2pt 2pt 4pt #999;\n",
              "  /* unfitted */\n",
              "  background: var(--sklearn-color-unfitted-level-0);\n",
              "  border: .5pt solid var(--sklearn-color-unfitted-level-3);\n",
              "}\n",
              "\n",
              ".sk-estimator-doc-link.fitted span {\n",
              "  /* fitted */\n",
              "  background: var(--sklearn-color-fitted-level-0);\n",
              "  border: var(--sklearn-color-fitted-level-3);\n",
              "}\n",
              "\n",
              ".sk-estimator-doc-link:hover span {\n",
              "  display: block;\n",
              "}\n",
              "\n",
              "/* \"?\"-specific style due to the `<a>` HTML tag */\n",
              "\n",
              "#sk-container-id-1 a.estimator_doc_link {\n",
              "  float: right;\n",
              "  font-size: 1rem;\n",
              "  line-height: 1em;\n",
              "  font-family: monospace;\n",
              "  background-color: var(--sklearn-color-background);\n",
              "  border-radius: 1rem;\n",
              "  height: 1rem;\n",
              "  width: 1rem;\n",
              "  text-decoration: none;\n",
              "  /* unfitted */\n",
              "  color: var(--sklearn-color-unfitted-level-1);\n",
              "  border: var(--sklearn-color-unfitted-level-1) 1pt solid;\n",
              "}\n",
              "\n",
              "#sk-container-id-1 a.estimator_doc_link.fitted {\n",
              "  /* fitted */\n",
              "  border: var(--sklearn-color-fitted-level-1) 1pt solid;\n",
              "  color: var(--sklearn-color-fitted-level-1);\n",
              "}\n",
              "\n",
              "/* On hover */\n",
              "#sk-container-id-1 a.estimator_doc_link:hover {\n",
              "  /* unfitted */\n",
              "  background-color: var(--sklearn-color-unfitted-level-3);\n",
              "  color: var(--sklearn-color-background);\n",
              "  text-decoration: none;\n",
              "}\n",
              "\n",
              "#sk-container-id-1 a.estimator_doc_link.fitted:hover {\n",
              "  /* fitted */\n",
              "  background-color: var(--sklearn-color-fitted-level-3);\n",
              "}\n",
              "</style><div id=\"sk-container-id-1\" class=\"sk-top-container\"><div class=\"sk-text-repr-fallback\"><pre>LogisticRegression(max_iter=1000, multi_class=&#x27;multinomial&#x27;)</pre><b>In a Jupyter environment, please rerun this cell to show the HTML representation or trust the notebook. <br />On GitHub, the HTML representation is unable to render, please try loading this page with nbviewer.org.</b></div><div class=\"sk-container\" hidden><div class=\"sk-item\"><div class=\"sk-estimator fitted sk-toggleable\"><input class=\"sk-toggleable__control sk-hidden--visually\" id=\"sk-estimator-id-1\" type=\"checkbox\" checked><label for=\"sk-estimator-id-1\" class=\"sk-toggleable__label fitted sk-toggleable__label-arrow fitted\">&nbsp;&nbsp;LogisticRegression<a class=\"sk-estimator-doc-link fitted\" rel=\"noreferrer\" target=\"_blank\" href=\"https://scikit-learn.org/1.5/modules/generated/sklearn.linear_model.LogisticRegression.html\">?<span>Documentation for LogisticRegression</span></a><span class=\"sk-estimator-doc-link fitted\">i<span>Fitted</span></span></label><div class=\"sk-toggleable__content fitted\"><pre>LogisticRegression(max_iter=1000, multi_class=&#x27;multinomial&#x27;)</pre></div> </div></div></div></div>"
            ]
          },
          "metadata": {},
          "execution_count": 18
        }
      ]
    },
    {
      "cell_type": "markdown",
      "source": [
        "Kode `LogisticRegression(max_iter=1000, multi_class='multinomial')` menunjukkan bahwa sedang membangun model klasifikasi multikelas menggunakan regresi logistik dari pustaka Scikit-learn. Parameter `max_iter=1000` berarti algoritma akan diizinkan melakukan hingga 1000 iterasi dalam proses pelatihan untuk memastikan model mencapai konvergensi, yang penting ketika data kompleks atau model membutuhkan waktu lebih lama untuk menemukan solusi optimal. Sementara itu, pengaturan `multi_class='multinomial'` menandakan bahwa model akan menggunakan pendekatan multinomial (juga dikenal sebagai softmax regression) untuk menangani klasifikasi multikelas secara langsung, bukan dengan membagi menjadi beberapa masalah biner seperti pada pendekatan one-vs-rest. Pendekatan multinomial ini umumnya memberikan hasil yang lebih akurat dan stabil, terutama ketika jumlah kelas seimbang dan saling eksklusif. Konfigurasi ini cocok digunakan untuk tugas-tugas klasifikasi seperti analisis sentimen atau deteksi emosi, di mana ada lebih dari dua label target yang saling terpisah.\n"
      ],
      "metadata": {
        "id": "7-F20644rtmR"
      }
    },
    {
      "cell_type": "markdown",
      "metadata": {
        "id": "XctzCfzbYCBK"
      },
      "source": [
        "## 5. Evaluasi dan Visualisasi"
      ]
    },
    {
      "cell_type": "markdown",
      "source": [
        "Mengevaluasi model menggunakan dataset pengujian (test_dataset). Fungsi trainer.evaluate menghitung metrik seperti akurasi dan F1-score (didefinisikan dalam compute_metrics). Hasil evaluasi dicetak untuk memberikan gambaran performa model. Selanjutnya, laporan klasifikasi (classification_report) menampilkan metrik seperti presisi, recall, dan F1-score untuk setiap kelas (happy, sadness, fear, stress). Matriks kebingungan (confusion_matrix) divisualisasikan menggunakan heatmap dari seaborn, yang menunjukkan jumlah prediksi benar dan salah untuk setiap kelas, membantu mengidentifikasi pola kesalahan model.\n",
        "\n"
      ],
      "metadata": {
        "id": "7kOyNvCk-cm7"
      }
    },
    {
      "cell_type": "code",
      "execution_count": null,
      "metadata": {
        "id": "EKk-ScZWYCBK",
        "colab": {
          "base_uri": "https://localhost:8080/",
          "height": 1000
        },
        "outputId": "1b53be40-42a6-4e36-bf8e-376584b5a559"
      },
      "outputs": [
        {
          "output_type": "stream",
          "name": "stdout",
          "text": [
            "\n",
            "Classification Report (Validation - Hybrid Model):\n",
            "              precision    recall  f1-score   support\n",
            "\n",
            "       happy       0.97      0.96      0.97       228\n",
            "     sadness       0.97      0.97      0.97       279\n",
            "        fear       0.97      0.98      0.98       277\n",
            "      stress       1.00      1.00      1.00       256\n",
            "\n",
            "    accuracy                           0.98      1040\n",
            "   macro avg       0.98      0.98      0.98      1040\n",
            "weighted avg       0.98      0.98      0.98      1040\n",
            "\n",
            "\n",
            "Classification Report (Test - Hybrid Model):\n",
            "              precision    recall  f1-score   support\n",
            "\n",
            "       happy       0.99      0.96      0.97       267\n",
            "     sadness       0.95      0.96      0.96       256\n",
            "        fear       0.96      0.98      0.97       266\n",
            "      stress       1.00      1.00      1.00       251\n",
            "\n",
            "    accuracy                           0.97      1040\n",
            "   macro avg       0.97      0.97      0.97      1040\n",
            "weighted avg       0.97      0.97      0.97      1040\n",
            "\n"
          ]
        },
        {
          "output_type": "display_data",
          "data": {
            "text/plain": [
              "<Figure size 800x600 with 2 Axes>"
            ],
            "image/png": "[encoded data removed]"
          },
          "metadata": {}
        },
        {
          "output_type": "display_data",
          "data": {
            "text/plain": [
              "<IPython.core.display.HTML object>"
            ],
            "text/html": []
          },
          "metadata": {}
        },
        {
          "output_type": "stream",
          "name": "stdout",
          "text": [
            "\n",
            "Hasil Evaluasi DistilBERT Murni: {'eval_loss': 0.1833941787481308, 'eval_accuracy': 0.9634615384615385, 'eval_f1': 0.9636167589639295, 'eval_runtime': 1.4618, 'eval_samples_per_second': 711.469, 'eval_steps_per_second': 88.934, 'epoch': 3.269230769230769}\n",
            "\n",
            "Classification Report (DistilBERT Murni):\n",
            "              precision    recall  f1-score   support\n",
            "\n",
            "       happy       0.98      0.94      0.96       267\n",
            "     sadness       0.95      0.96      0.95       256\n",
            "        fear       0.93      0.98      0.96       266\n",
            "      stress       1.00      0.96      0.98       251\n",
            "\n",
            "    accuracy                           0.96      1040\n",
            "   macro avg       0.96      0.96      0.96      1040\n",
            "weighted avg       0.96      0.96      0.96      1040\n",
            "\n"
          ]
        },
        {
          "output_type": "display_data",
          "data": {
            "text/plain": [
              "<Figure size 800x600 with 2 Axes>"
            ],
            "image/png": "[encoded data removed]"
          },
          "metadata": {}
        }
      ],
      "source": [
        "y_val_pred = clf.predict(X_val_combined)\n",
        "print(\"\\nClassification Report (Validation - Hybrid Model):\")\n",
        "print(classification_report(y_val, y_val_pred, target_names=['happy', 'sadness', 'fear', 'stress']))\n",
        "\n",
        "y_test_pred = clf.predict(X_test_combined)\n",
        "print(\"\\nClassification Report (Test - Hybrid Model):\")\n",
        "print(classification_report(y_test, y_test_pred, target_names=['happy', 'sadness', 'fear', 'stress']))\n",
        "\n",
        "cm_hybrid = confusion_matrix(y_test, y_test_pred)\n",
        "plt.figure(figsize=(8, 6))\n",
        "sns.heatmap(cm_hybrid, annot=True, fmt='d', cmap='Blues', xticklabels=['happy', 'sadness', 'fear', 'stress'], yticklabels=['happy', 'sadness', 'fear', 'stress'])\n",
        "plt.xlabel('Predicted')\n",
        "plt.ylabel('True')\n",
        "plt.title('Confusion Matrix (Hybrid Model)')\n",
        "plt.show()\n",
        "\n",
        "eval_results = trainer.evaluate(test_dataset)\n",
        "print(f\"\\nHasil Evaluasi DistilBERT Murni: {eval_results}\")\n",
        "\n",
        "predictions = trainer.predict(test_dataset)\n",
        "pred_labels = np.argmax(predictions.predictions, axis=-1)\n",
        "true_labels = predictions.label_ids\n",
        "print(\"\\nClassification Report (DistilBERT Murni):\")\n",
        "print(classification_report(true_labels, pred_labels, target_names=['happy', 'sadness', 'fear', 'stress']))\n",
        "\n",
        "cm_distilbert = confusion_matrix(true_labels, pred_labels)\n",
        "plt.figure(figsize=(8, 6))\n",
        "sns.heatmap(cm_distilbert, annot=True, fmt='d', cmap='Blues', xticklabels=['happy', 'sadness', 'fear', 'stress'], yticklabels=['happy', 'sadness', 'fear', 'stress'])\n",
        "plt.xlabel('Predicted')\n",
        "plt.ylabel('True')\n",
        "plt.title('Confusion Matrix (DistilBERT Murni)')\n",
        "plt.show()"
      ]
    },
    {
      "cell_type": "markdown",
      "source": [
        "Berdasarkan hasil evaluasi yang ditampilkan melalui confusion matrix dan classification report, dapat disimpulkan bahwa model **Hybrid (DistilBERT + Logistic Regression)** menunjukkan performa yang sangat baik dalam mengklasifikasikan emosi, baik pada data validasi maupun data uji (test set). Pada data uji, model hybrid mencapai **akurasi 97%** dengan skor **F1-Score makro dan rata-rata tertimbang (weighted avg) sebesar 0.97**, menunjukkan keseimbangan yang baik antara precision dan recall di semua kelas. Model ini secara khusus menunjukkan performa yang sangat konsisten dalam mengklasifikasikan kelas **stress**, dengan **precision dan recall sempurna (1.00)**.\n",
        "\n",
        "Jika dibandingkan dengan model **DistilBERT murni**, model hybrid sedikit lebih unggul. Model DistilBERT murni memiliki akurasi keseluruhan **96%** dan skor F1 makro serta tertimbang sebesar **0.96**. Meskipun perbedaan ini tidak besar, hybrid model mampu meningkatkan recall pada kelas \"happy\" dan precision pada kelas \"fear\", serta lebih stabil dalam mendeteksi emosi \"stress\".\n",
        "\n",
        "Confusion matrix memperkuat temuan ini, di mana hybrid model membuat lebih sedikit kesalahan dalam prediksi dibandingkan DistilBERT murni. Contohnya, untuk kelas \"happy\", hybrid model salah memprediksi hanya 11 data, sedangkan DistilBERT murni membuat 15 kesalahan prediksi pada kelas yang sama. Begitu juga pada kelas \"stress\", hybrid model menunjukkan hasil yang hampir sempurna dengan hanya satu kesalahan minor.\n",
        "\n",
        "Secara keseluruhan, insight penting yang dapat diambil adalah bahwa pendekatan hybrid yang menggabungkan kekuatan representasi dari DistilBERT dan kemampuan klasifikasi dari Logistic Regression berhasil meningkatkan performa klasifikasi emosi. Ini membuktikan bahwa pendekatan kombinasi (hybrid) tidak hanya efisien, tetapi juga efektif untuk tugas deteksi emosi dari teks.\n"
      ],
      "metadata": {
        "id": "n7WEj0VKsuRe"
      }
    },
    {
      "cell_type": "markdown",
      "source": [
        "Berdasarkan hasil evaluasi model dan confusion matrix, performa model DistilBERT dalam melakukan klasifikasi emosi menunjukkan hasil yang sangat baik. Model berhasil mencapai akurasi sebesar 97,02% dengan nilai f1-score keseluruhan sebesar 0,970, yang menandakan keseimbangan yang baik antara precision dan recall. Dari confusion matrix, terlihat bahwa sebagian besar prediksi berada pada diagonal utama, yang berarti model berhasil mengklasifikasikan data ke dalam kelas yang benar. Kelas “stress” memiliki performa terbaik dengan precision dan recall mendekati sempurna (1.00 dan 0.99), diikuti oleh kelas “happy” yang juga memiliki nilai f1-score tinggi sebesar 0.97. Meskipun terdapat sedikit kesalahan klasifikasi, seperti beberapa data “sadness” yang diprediksi sebagai “fear”, jumlah kesalahan tersebut sangat kecil dan tidak berdampak signifikan terhadap performa keseluruhan. Dengan demikian, model DistilBERT sangat efektif dalam memahami dan membedakan berbagai emosi dalam teks."
      ],
      "metadata": {
        "id": "_g8i3L9EVCF_"
      }
    },
    {
      "cell_type": "markdown",
      "metadata": {
        "id": "y_fIsUogYFSk"
      },
      "source": [
        "## 6. Konversi Model"
      ]
    },
    {
      "cell_type": "markdown",
      "source": [
        "Langkah-langkah yang dilakukan mencakup proses penyimpanan dan konversi model untuk kebutuhan deployment pada perangkat mobile. Pertama, model DistilBERT beserta tokenizernya disimpan dalam format PyTorch, yang memungkinkan model untuk digunakan kembali atau dikonversi ke format lain di masa mendatang. Selanjutnya, dilakukan konversi model dari format PyTorch ke TensorFlow, lalu ke TFLite, guna memastikan model dapat berjalan dengan efisien pada perangkat mobile yang memiliki keterbatasan sumber daya. Untuk mendukung proses inferensi teks selama penggunaan di aplikasi, didefinisikan fungsi serving dan tokenizer juga disimpan agar kompatibel dengan format mobile. Sebagai tahap akhir, dilakukan verifikasi terhadap model TFLite dengan memastikan bahwa input dan output model bekerja sebagaimana mestinya, sehingga model siap untuk diintegrasikan ke dalam aplikasi mobile secara optimal.\n"
      ],
      "metadata": {
        "id": "O8S9E5UL-hpD"
      }
    },
    {
      "cell_type": "code",
      "execution_count": null,
      "metadata": {
        "id": "hZvGBpYoYFSl",
        "colab": {
          "base_uri": "https://localhost:8080/"
        },
        "outputId": "f1785265-25c3-472f-936d-fd60d737d836"
      },
      "outputs": [
        {
          "output_type": "stream",
          "name": "stderr",
          "text": [
            "All PyTorch model weights were used when initializing TFDistilBertForSequenceClassification.\n",
            "\n",
            "All the weights of TFDistilBertForSequenceClassification were initialized from the PyTorch model.\n",
            "If your task is similar to the task the model of the checkpoint was trained on, you can already use TFDistilBertForSequenceClassification for predictions without further training.\n",
            "WARNING:tensorflow:Skipping full serialization of TF-Keras layer <tf_keras.src.layers.regularization.dropout.Dropout object at 0x7e99377cbbd0>, because it is not built.\n",
            "WARNING:tensorflow:Skipping full serialization of TF-Keras layer <tf_keras.src.layers.regularization.dropout.Dropout object at 0x7e9937788850>, because it is not built.\n",
            "WARNING:tensorflow:Skipping full serialization of TF-Keras layer <tf_keras.src.layers.regularization.dropout.Dropout object at 0x7e99400c1150>, because it is not built.\n",
            "WARNING:tensorflow:Skipping full serialization of TF-Keras layer <tf_keras.src.layers.regularization.dropout.Dropout object at 0x7e99377c9d50>, because it is not built.\n",
            "WARNING:tensorflow:Skipping full serialization of TF-Keras layer <tf_keras.src.layers.regularization.dropout.Dropout object at 0x7e9936f41850>, because it is not built.\n",
            "WARNING:tensorflow:Skipping full serialization of TF-Keras layer <tf_keras.src.layers.regularization.dropout.Dropout object at 0x7e99377f6c50>, because it is not built.\n"
          ]
        },
        {
          "output_type": "stream",
          "name": "stdout",
          "text": [
            "Input Details: [{'name': 'serving_default_attention_mask:0', 'index': 0, 'shape': array([  1, 128], dtype=int32), 'shape_signature': array([ -1, 128], dtype=int32), 'dtype': <class 'numpy.int32'>, 'quantization': (0.0, 0), 'quantization_parameters': {'scales': array([], dtype=float32), 'zero_points': array([], dtype=int32), 'quantized_dimension': 0}, 'sparsity_parameters': {}}, {'name': 'serving_default_input_ids:0', 'index': 1, 'shape': array([  1, 128], dtype=int32), 'shape_signature': array([ -1, 128], dtype=int32), 'dtype': <class 'numpy.int32'>, 'quantization': (0.0, 0), 'quantization_parameters': {'scales': array([], dtype=float32), 'zero_points': array([], dtype=int32), 'quantized_dimension': 0}, 'sparsity_parameters': {}}]\n",
            "Output Details: [{'name': 'StatefulPartitionedCall:0', 'index': 706, 'shape': array([1, 4], dtype=int32), 'shape_signature': array([-1,  4], dtype=int32), 'dtype': <class 'numpy.float32'>, 'quantization': (0.0, 0), 'quantization_parameters': {'scales': array([], dtype=float32), 'zero_points': array([], dtype=int32), 'quantized_dimension': 0}, 'sparsity_parameters': {}}]\n"
          ]
        }
      ],
      "source": [
        "output_dir = './emotion_classifier'\n",
        "if not os.path.exists(output_dir):\n",
        "    os.makedirs(output_dir)\n",
        "model.save_pretrained(output_dir)\n",
        "tokenizer.save_pretrained(output_dir)\n",
        "\n",
        "tf_model = TFDistilBertForSequenceClassification.from_pretrained(output_dir, from_pt=True)\n",
        "\n",
        "@tf.function(input_signature=[\n",
        "    tf.TensorSpec(shape=[None, 128], dtype=tf.int32, name=\"input_ids\"),\n",
        "    tf.TensorSpec(shape=[None, 128], dtype=tf.int32, name=\"attention_mask\")\n",
        "])\n",
        "def serving_fn(input_ids, attention_mask):\n",
        "    return tf_model(input_ids=input_ids, attention_mask=attention_mask)\n",
        "\n",
        "saved_model_dir = './emotion_classifier_tf/saved_model/1'\n",
        "os.makedirs(saved_model_dir, exist_ok=True)\n",
        "tf.saved_model.save(tf_model, saved_model_dir, signatures={'serving_default': serving_fn.get_concrete_function()})\n",
        "\n",
        "converter = tf.lite.TFLiteConverter.from_saved_model(saved_model_dir)\n",
        "tflite_model = converter.convert()\n",
        "\n",
        "with open('emotion_classifier.tflite', 'wb') as f:\n",
        "    f.write(tflite_model)\n",
        "\n",
        "tokenizer.save_pretrained('./tokenizer')\n",
        "\n",
        "interpreter = tf.lite.Interpreter(model_path=\"emotion_classifier.tflite\")\n",
        "interpreter.allocate_tensors()\n",
        "input_details = interpreter.get_input_details()\n",
        "output_details = interpreter.get_output_details()\n",
        "print(\"Input Details:\", input_details)\n",
        "print(\"Output Details:\", output_details)"
      ]
    },
    {
      "cell_type": "markdown",
      "source": [
        "## 7. Inference"
      ],
      "metadata": {
        "id": "8DbfEwvvm5U4"
      }
    },
    {
      "cell_type": "code",
      "source": [
        "def predict_hybrid(text, model, tokenizer, vectorizer, clf, device):\n",
        "    inputs = tokenizer(text, return_tensors='pt', padding=True, truncation=True, max_length=128)\n",
        "    inputs = {k: v.to(device) for k, v in inputs.items()}\n",
        "    with torch.no_grad():\n",
        "        logits = model(**inputs).logits.cpu().numpy()\n",
        "    tfidf_features = vectorizer.transform([text]).toarray()\n",
        "    combined_features = np.hstack([tfidf_features, logits])\n",
        "    predicted_class = clf.predict(combined_features)\n",
        "    reverse_label_map = {0: 'happy', 1: 'sadness', 2: 'fear', 3: 'stress'}\n",
        "    return reverse_label_map[predicted_class[0]]\n",
        "\n",
        "# Uji inferensi\n",
        "test_texts = [\n",
        "    \"Saya sangat senang hari ini karena lulus ujian!\",\n",
        "    \"Aku merasa cemas dan takut gagal.\",\n",
        "    \"Hati kecilku berkata akan baik-baik saja.\",\n",
        "    \"Saya merasa sedih karena kehilangan seseorang yang penting.\",\n",
        "    \"Saya pusing karena pekerjaan menumpuk.\",\n",
        "    \"Saya lelah karena pekerjaan yang tidak kunjung selesai.\",\n",
        "    \"Saya capek dengan semua tugas ini.\",\n",
        "    \"Saya tertekan dengan tanggung jawab pekerjaan.\",\n",
        "    \"Saya kewalahan dengan semua tugas yang ada.\",\n",
        "    \"Saya takut menghadapi ujian.\",\n",
        "    \"Saya cemas tentang masa depan.\",\n",
        "    \"Saya stres memikirkan semua tugas ini.\"\n",
        "]\n",
        "\n",
        "\n",
        "\n",
        "\n",
        "print(\"\\nHasil Prediksi Model Hybrid:\")\n",
        "for text in test_texts:\n",
        "    emotion = predict_hybrid(text, model, tokenizer, vectorizer, clf, device)\n",
        "    print(f\"Teks: {text}\")\n",
        "    print(f\"Emosi: {emotion}\\n\")\n",
        "\n",
        "\n",
        "\n",
        "print(\"\\nHasil Prediksi TFLite (DistilBERT Murni):\")\n",
        "for text in test_texts:\n",
        "    inputs = tokenizer(text, return_tensors='np', padding='max_length', truncation=True, max_length=128)\n",
        "    input_ids = inputs['input_ids'].astype(np.int32)\n",
        "    attention_mask = inputs['attention_mask'].astype(np.int32)\n",
        "    if input_details[0]['name'] == 'input_ids':\n",
        "        interpreter.set_tensor(input_details[0]['index'], input_ids)\n",
        "        interpreter.set_tensor(input_details[1]['index'], attention_mask)\n",
        "    else:\n",
        "        interpreter.set_tensor(input_details[0]['index'], attention_mask)\n",
        "        interpreter.set_tensor(input_details[1]['index'], input_ids)\n",
        "    interpreter.invoke()\n",
        "    output = interpreter.get_tensor(output_details[0]['index'])\n",
        "    predicted_class = np.argmax(output, axis=-1)[0]\n",
        "    reverse_label_map = {0: 'happy', 1: 'sadness', 2: 'fear', 3: 'stress'}\n",
        "    print(f\"Teks: {text}\")\n",
        "    print(f\"Output logits: {output}\")\n",
        "    print(f\"Prediksi: {reverse_label_map[predicted_class]}\\n\")\n",
        "\n"
      ],
      "metadata": {
        "id": "ue5esMSSm8GQ",
        "colab": {
          "base_uri": "https://localhost:8080/"
        },
        "outputId": "af003193-1d68-4b71-e122-b9186932c48a"
      },
      "execution_count": null,
      "outputs": [
        {
          "output_type": "stream",
          "name": "stdout",
          "text": [
            "\n",
            "Hasil Prediksi Model Hybrid:\n",
            "Teks: Saya sangat senang hari ini karena lulus ujian!\n",
            "Emosi: happy\n",
            "\n",
            "Teks: Aku merasa cemas dan takut gagal.\n",
            "Emosi: fear\n",
            "\n",
            "Teks: Hati kecilku berkata akan baik-baik saja.\n",
            "Emosi: happy\n",
            "\n",
            "Teks: Saya merasa sedih karena kehilangan seseorang yang penting.\n",
            "Emosi: sadness\n",
            "\n",
            "Teks: Saya pusing karena pekerjaan menumpuk.\n",
            "Emosi: stress\n",
            "\n",
            "Teks: Saya lelah karena pekerjaan yang tidak kunjung selesai.\n",
            "Emosi: stress\n",
            "\n",
            "Teks: Saya capek dengan semua tugas ini.\n",
            "Emosi: stress\n",
            "\n",
            "Teks: Saya tertekan dengan tanggung jawab pekerjaan.\n",
            "Emosi: stress\n",
            "\n",
            "Teks: Saya kewalahan dengan semua tugas yang ada.\n",
            "Emosi: stress\n",
            "\n",
            "Teks: Saya takut menghadapi ujian.\n",
            "Emosi: fear\n",
            "\n",
            "Teks: Saya cemas tentang masa depan.\n",
            "Emosi: fear\n",
            "\n",
            "Teks: Saya stres memikirkan semua tugas ini.\n",
            "Emosi: stress\n",
            "\n",
            "\n",
            "Hasil Prediksi TFLite (DistilBERT Murni):\n",
            "Teks: Saya sangat senang hari ini karena lulus ujian!\n",
            "Output logits: [[ 2.8063931 -0.4065246 -1.2576678 -0.9305313]]\n",
            "Prediksi: happy\n",
            "\n",
            "Teks: Aku merasa cemas dan takut gagal.\n",
            "Output logits: [[-1.1510906  -0.90551066  1.8964177  -0.11938658]]\n",
            "Prediksi: fear\n",
            "\n",
            "Teks: Hati kecilku berkata akan baik-baik saja.\n",
            "Output logits: [[ 1.62517    -0.8786062   0.23618227 -0.728757  ]]\n",
            "Prediksi: happy\n",
            "\n",
            "Teks: Saya merasa sedih karena kehilangan seseorang yang penting.\n",
            "Output logits: [[ 0.27621776  1.4841225  -0.56548905 -1.1416079 ]]\n",
            "Prediksi: sadness\n",
            "\n",
            "Teks: Saya pusing karena pekerjaan menumpuk.\n",
            "Output logits: [[ 0.16877936 -0.89132833 -0.35879055  1.2411613 ]]\n",
            "Prediksi: stress\n",
            "\n",
            "Teks: Saya lelah karena pekerjaan yang tidak kunjung selesai.\n",
            "Output logits: [[ 0.1553564  -0.5295146  -0.49395528  1.2103298 ]]\n",
            "Prediksi: stress\n",
            "\n",
            "Teks: Saya capek dengan semua tugas ini.\n",
            "Output logits: [[ 0.48762542 -1.336049    0.35138267  0.7305471 ]]\n",
            "Prediksi: stress\n",
            "\n",
            "Teks: Saya tertekan dengan tanggung jawab pekerjaan.\n",
            "Output logits: [[-0.34397894 -0.99633276  0.15013167  1.3387554 ]]\n",
            "Prediksi: stress\n",
            "\n",
            "Teks: Saya kewalahan dengan semua tugas yang ada.\n",
            "Output logits: [[-0.05554399 -0.85206544 -0.11778082  1.3379567 ]]\n",
            "Prediksi: stress\n",
            "\n",
            "Teks: Saya takut menghadapi ujian.\n",
            "Output logits: [[-0.71490383 -1.1342943   1.9727024  -0.49278605]]\n",
            "Prediksi: fear\n",
            "\n",
            "Teks: Saya cemas tentang masa depan.\n",
            "Output logits: [[-0.26815248 -1.4096239   1.4919999   0.12640685]]\n",
            "Prediksi: fear\n",
            "\n",
            "Teks: Saya stres memikirkan semua tugas ini.\n",
            "Output logits: [[-0.2606506  -1.3218198   0.79986465  1.055189  ]]\n",
            "Prediksi: stress\n",
            "\n"
          ]
        }
      ]
    },
    {
      "cell_type": "markdown",
      "source": [
        "### Test TF Lite"
      ],
      "metadata": {
        "id": "c14OE2sNuZ42"
      }
    },
    {
      "cell_type": "markdown",
      "source": [
        "Kode ini untuk menguji tf lite agar saat integrasi ke mobile apps dapat berjalan dengan baik"
      ],
      "metadata": {
        "id": "vvZGaIlwXC03"
      }
    },
    {
      "cell_type": "code",
      "source": [
        "print(\"Hasil Prediksi TFLite:\")\n",
        "for text in test_texts:\n",
        "    inputs = tokenizer(text, return_tensors='np', padding='max_length', truncation=True, max_length=128)\n",
        "    input_ids = inputs['input_ids'].astype(np.int32)\n",
        "    attention_mask = inputs['attention_mask'].astype(np.int32)\n",
        "\n",
        "    if input_details[0]['name'] == 'input_ids':\n",
        "        interpreter.set_tensor(input_details[0]['index'], input_ids)\n",
        "        interpreter.set_tensor(input_details[1]['index'], attention_mask)\n",
        "    else:\n",
        "        interpreter.set_tensor(input_details[0]['index'], attention_mask)\n",
        "        interpreter.set_tensor(input_details[1]['index'], input_ids)\n",
        "    interpreter.invoke()\n",
        "    output = interpreter.get_tensor(output_details[0]['index'])\n",
        "    predicted_class = np.argmax(output, axis=-1)[0]\n",
        "    reverse_label_map = {0: 'happy', 1: 'sadness', 2: 'fear', 3: 'stress'}\n",
        "\n",
        "    print(f\"Teks: {text}\")\n",
        "    print(f\"Output logits: {output}\")\n",
        "    print(f\"Prediksi: {reverse_label_map[predicted_class]}\\n\")"
      ],
      "metadata": {
        "id": "jum7Z1XzO1uB",
        "colab": {
          "base_uri": "https://localhost:8080/"
        },
        "outputId": "f678291a-a024-47d8-e641-17351cdf7be1"
      },
      "execution_count": null,
      "outputs": [
        {
          "output_type": "stream",
          "name": "stdout",
          "text": [
            "Hasil Prediksi TFLite:\n",
            "Teks: Saya sangat senang hari ini karena lulus ujian!\n",
            "Output logits: [[ 2.8063931 -0.4065246 -1.2576678 -0.9305313]]\n",
            "Prediksi: happy\n",
            "\n",
            "Teks: Aku merasa cemas dan takut gagal.\n",
            "Output logits: [[-1.1510906  -0.90551066  1.8964177  -0.11938658]]\n",
            "Prediksi: fear\n",
            "\n",
            "Teks: Hati kecilku berkata akan baik-baik saja.\n",
            "Output logits: [[ 1.62517    -0.8786062   0.23618227 -0.728757  ]]\n",
            "Prediksi: happy\n",
            "\n",
            "Teks: Saya merasa sedih karena kehilangan seseorang yang penting.\n",
            "Output logits: [[ 0.27621776  1.4841225  -0.56548905 -1.1416079 ]]\n",
            "Prediksi: sadness\n",
            "\n",
            "Teks: Saya pusing karena pekerjaan menumpuk.\n",
            "Output logits: [[ 0.16877936 -0.89132833 -0.35879055  1.2411613 ]]\n",
            "Prediksi: stress\n",
            "\n",
            "Teks: Saya lelah karena pekerjaan yang tidak kunjung selesai.\n",
            "Output logits: [[ 0.1553564  -0.5295146  -0.49395528  1.2103298 ]]\n",
            "Prediksi: stress\n",
            "\n",
            "Teks: Saya capek dengan semua tugas ini.\n",
            "Output logits: [[ 0.48762542 -1.336049    0.35138267  0.7305471 ]]\n",
            "Prediksi: stress\n",
            "\n",
            "Teks: Saya tertekan dengan tanggung jawab pekerjaan.\n",
            "Output logits: [[-0.34397894 -0.99633276  0.15013167  1.3387554 ]]\n",
            "Prediksi: stress\n",
            "\n",
            "Teks: Saya kewalahan dengan semua tugas yang ada.\n",
            "Output logits: [[-0.05554399 -0.85206544 -0.11778082  1.3379567 ]]\n",
            "Prediksi: stress\n",
            "\n",
            "Teks: Saya takut menghadapi ujian.\n",
            "Output logits: [[-0.71490383 -1.1342943   1.9727024  -0.49278605]]\n",
            "Prediksi: fear\n",
            "\n",
            "Teks: Saya cemas tentang masa depan.\n",
            "Output logits: [[-0.26815248 -1.4096239   1.4919999   0.12640685]]\n",
            "Prediksi: fear\n",
            "\n",
            "Teks: Saya stres memikirkan semua tugas ini.\n",
            "Output logits: [[-0.2606506  -1.3218198   0.79986465  1.055189  ]]\n",
            "Prediksi: stress\n",
            "\n"
          ]
        }
      ]
    },
    {
      "cell_type": "markdown",
      "source": [
        "Kesimpulannya model dapat memprediksi sangat akurat"
      ],
      "metadata": {
        "id": "SRqMrN60wWVI"
      }
    }
  ]
}